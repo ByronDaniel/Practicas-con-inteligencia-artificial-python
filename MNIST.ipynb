{
  "nbformat": 4,
  "nbformat_minor": 0,
  "metadata": {
    "colab": {
      "name": "DataSet-Grupal.ipynb",
      "provenance": [],
      "collapsed_sections": []
    },
    "kernelspec": {
      "display_name": "Python 3",
      "name": "python3"
    },
    "widgets": {
      "application/vnd.jupyter.widget-state+json": {
        "ee539546367343d490316af757da97c9": {
          "model_module": "@jupyter-widgets/controls",
          "model_name": "HBoxModel",
          "state": {
            "_view_name": "HBoxView",
            "_dom_classes": [],
            "_model_name": "HBoxModel",
            "_view_module": "@jupyter-widgets/controls",
            "_model_module_version": "1.5.0",
            "_view_count": null,
            "_view_module_version": "1.5.0",
            "box_style": "",
            "layout": "IPY_MODEL_1ab302c4dbe443b59f82019ed64ec928",
            "_model_module": "@jupyter-widgets/controls",
            "children": [
              "IPY_MODEL_fe619d0400a24969a108c282cc940305",
              "IPY_MODEL_147ce2cfba194293ad7179c44d57d840"
            ]
          }
        },
        "1ab302c4dbe443b59f82019ed64ec928": {
          "model_module": "@jupyter-widgets/base",
          "model_name": "LayoutModel",
          "state": {
            "_view_name": "LayoutView",
            "grid_template_rows": null,
            "right": null,
            "justify_content": null,
            "_view_module": "@jupyter-widgets/base",
            "overflow": null,
            "_model_module_version": "1.2.0",
            "_view_count": null,
            "flex_flow": null,
            "width": null,
            "min_width": null,
            "border": null,
            "align_items": null,
            "bottom": null,
            "_model_module": "@jupyter-widgets/base",
            "top": null,
            "grid_column": null,
            "overflow_y": null,
            "overflow_x": null,
            "grid_auto_flow": null,
            "grid_area": null,
            "grid_template_columns": null,
            "flex": null,
            "_model_name": "LayoutModel",
            "justify_items": null,
            "grid_row": null,
            "max_height": null,
            "align_content": null,
            "visibility": null,
            "align_self": null,
            "height": null,
            "min_height": null,
            "padding": null,
            "grid_auto_rows": null,
            "grid_gap": null,
            "max_width": null,
            "order": null,
            "_view_module_version": "1.2.0",
            "grid_template_areas": null,
            "object_position": null,
            "object_fit": null,
            "grid_auto_columns": null,
            "margin": null,
            "display": null,
            "left": null
          }
        },
        "fe619d0400a24969a108c282cc940305": {
          "model_module": "@jupyter-widgets/controls",
          "model_name": "FloatProgressModel",
          "state": {
            "_view_name": "ProgressView",
            "style": "IPY_MODEL_109ec06c9b9845499722c67d607a0e89",
            "_dom_classes": [],
            "description": "",
            "_model_name": "FloatProgressModel",
            "bar_style": "success",
            "max": 1,
            "_view_module": "@jupyter-widgets/controls",
            "_model_module_version": "1.5.0",
            "value": 1,
            "_view_count": null,
            "_view_module_version": "1.5.0",
            "orientation": "horizontal",
            "min": 0,
            "description_tooltip": null,
            "_model_module": "@jupyter-widgets/controls",
            "layout": "IPY_MODEL_49d96543609249e3b3fc2ed8fa1ddbe7"
          }
        },
        "147ce2cfba194293ad7179c44d57d840": {
          "model_module": "@jupyter-widgets/controls",
          "model_name": "HTMLModel",
          "state": {
            "_view_name": "HTMLView",
            "style": "IPY_MODEL_fe15c309497f43a2b4cd1855b5b2fe5b",
            "_dom_classes": [],
            "description": "",
            "_model_name": "HTMLModel",
            "placeholder": "​",
            "_view_module": "@jupyter-widgets/controls",
            "_model_module_version": "1.5.0",
            "value": " 9920512/? [00:02&lt;00:00, 4360073.16it/s]",
            "_view_count": null,
            "_view_module_version": "1.5.0",
            "description_tooltip": null,
            "_model_module": "@jupyter-widgets/controls",
            "layout": "IPY_MODEL_e58c488a404f4a2891a17ca88272118b"
          }
        },
        "109ec06c9b9845499722c67d607a0e89": {
          "model_module": "@jupyter-widgets/controls",
          "model_name": "ProgressStyleModel",
          "state": {
            "_view_name": "StyleView",
            "_model_name": "ProgressStyleModel",
            "description_width": "initial",
            "_view_module": "@jupyter-widgets/base",
            "_model_module_version": "1.5.0",
            "_view_count": null,
            "_view_module_version": "1.2.0",
            "bar_color": null,
            "_model_module": "@jupyter-widgets/controls"
          }
        },
        "49d96543609249e3b3fc2ed8fa1ddbe7": {
          "model_module": "@jupyter-widgets/base",
          "model_name": "LayoutModel",
          "state": {
            "_view_name": "LayoutView",
            "grid_template_rows": null,
            "right": null,
            "justify_content": null,
            "_view_module": "@jupyter-widgets/base",
            "overflow": null,
            "_model_module_version": "1.2.0",
            "_view_count": null,
            "flex_flow": null,
            "width": null,
            "min_width": null,
            "border": null,
            "align_items": null,
            "bottom": null,
            "_model_module": "@jupyter-widgets/base",
            "top": null,
            "grid_column": null,
            "overflow_y": null,
            "overflow_x": null,
            "grid_auto_flow": null,
            "grid_area": null,
            "grid_template_columns": null,
            "flex": null,
            "_model_name": "LayoutModel",
            "justify_items": null,
            "grid_row": null,
            "max_height": null,
            "align_content": null,
            "visibility": null,
            "align_self": null,
            "height": null,
            "min_height": null,
            "padding": null,
            "grid_auto_rows": null,
            "grid_gap": null,
            "max_width": null,
            "order": null,
            "_view_module_version": "1.2.0",
            "grid_template_areas": null,
            "object_position": null,
            "object_fit": null,
            "grid_auto_columns": null,
            "margin": null,
            "display": null,
            "left": null
          }
        },
        "fe15c309497f43a2b4cd1855b5b2fe5b": {
          "model_module": "@jupyter-widgets/controls",
          "model_name": "DescriptionStyleModel",
          "state": {
            "_view_name": "StyleView",
            "_model_name": "DescriptionStyleModel",
            "description_width": "",
            "_view_module": "@jupyter-widgets/base",
            "_model_module_version": "1.5.0",
            "_view_count": null,
            "_view_module_version": "1.2.0",
            "_model_module": "@jupyter-widgets/controls"
          }
        },
        "e58c488a404f4a2891a17ca88272118b": {
          "model_module": "@jupyter-widgets/base",
          "model_name": "LayoutModel",
          "state": {
            "_view_name": "LayoutView",
            "grid_template_rows": null,
            "right": null,
            "justify_content": null,
            "_view_module": "@jupyter-widgets/base",
            "overflow": null,
            "_model_module_version": "1.2.0",
            "_view_count": null,
            "flex_flow": null,
            "width": null,
            "min_width": null,
            "border": null,
            "align_items": null,
            "bottom": null,
            "_model_module": "@jupyter-widgets/base",
            "top": null,
            "grid_column": null,
            "overflow_y": null,
            "overflow_x": null,
            "grid_auto_flow": null,
            "grid_area": null,
            "grid_template_columns": null,
            "flex": null,
            "_model_name": "LayoutModel",
            "justify_items": null,
            "grid_row": null,
            "max_height": null,
            "align_content": null,
            "visibility": null,
            "align_self": null,
            "height": null,
            "min_height": null,
            "padding": null,
            "grid_auto_rows": null,
            "grid_gap": null,
            "max_width": null,
            "order": null,
            "_view_module_version": "1.2.0",
            "grid_template_areas": null,
            "object_position": null,
            "object_fit": null,
            "grid_auto_columns": null,
            "margin": null,
            "display": null,
            "left": null
          }
        },
        "22e849de63064d84910ccd0b59f55f51": {
          "model_module": "@jupyter-widgets/controls",
          "model_name": "HBoxModel",
          "state": {
            "_view_name": "HBoxView",
            "_dom_classes": [],
            "_model_name": "HBoxModel",
            "_view_module": "@jupyter-widgets/controls",
            "_model_module_version": "1.5.0",
            "_view_count": null,
            "_view_module_version": "1.5.0",
            "box_style": "",
            "layout": "IPY_MODEL_ef7b7d56a97542899f2482dbbec552ca",
            "_model_module": "@jupyter-widgets/controls",
            "children": [
              "IPY_MODEL_ae1d9e8572ca42249717d23e00a506e8",
              "IPY_MODEL_8ed3302bcd26440d89e2bcdc8910b2a5"
            ]
          }
        },
        "ef7b7d56a97542899f2482dbbec552ca": {
          "model_module": "@jupyter-widgets/base",
          "model_name": "LayoutModel",
          "state": {
            "_view_name": "LayoutView",
            "grid_template_rows": null,
            "right": null,
            "justify_content": null,
            "_view_module": "@jupyter-widgets/base",
            "overflow": null,
            "_model_module_version": "1.2.0",
            "_view_count": null,
            "flex_flow": null,
            "width": null,
            "min_width": null,
            "border": null,
            "align_items": null,
            "bottom": null,
            "_model_module": "@jupyter-widgets/base",
            "top": null,
            "grid_column": null,
            "overflow_y": null,
            "overflow_x": null,
            "grid_auto_flow": null,
            "grid_area": null,
            "grid_template_columns": null,
            "flex": null,
            "_model_name": "LayoutModel",
            "justify_items": null,
            "grid_row": null,
            "max_height": null,
            "align_content": null,
            "visibility": null,
            "align_self": null,
            "height": null,
            "min_height": null,
            "padding": null,
            "grid_auto_rows": null,
            "grid_gap": null,
            "max_width": null,
            "order": null,
            "_view_module_version": "1.2.0",
            "grid_template_areas": null,
            "object_position": null,
            "object_fit": null,
            "grid_auto_columns": null,
            "margin": null,
            "display": null,
            "left": null
          }
        },
        "ae1d9e8572ca42249717d23e00a506e8": {
          "model_module": "@jupyter-widgets/controls",
          "model_name": "FloatProgressModel",
          "state": {
            "_view_name": "ProgressView",
            "style": "IPY_MODEL_53fba70a6d8245e2bd6586db0f5a1113",
            "_dom_classes": [],
            "description": "",
            "_model_name": "FloatProgressModel",
            "bar_style": "success",
            "max": 1,
            "_view_module": "@jupyter-widgets/controls",
            "_model_module_version": "1.5.0",
            "value": 1,
            "_view_count": null,
            "_view_module_version": "1.5.0",
            "orientation": "horizontal",
            "min": 0,
            "description_tooltip": null,
            "_model_module": "@jupyter-widgets/controls",
            "layout": "IPY_MODEL_5b04fa5c6e6440b7b7f865ac1739124e"
          }
        },
        "8ed3302bcd26440d89e2bcdc8910b2a5": {
          "model_module": "@jupyter-widgets/controls",
          "model_name": "HTMLModel",
          "state": {
            "_view_name": "HTMLView",
            "style": "IPY_MODEL_ab44f4d3ecf94e6dacc660501739022d",
            "_dom_classes": [],
            "description": "",
            "_model_name": "HTMLModel",
            "placeholder": "​",
            "_view_module": "@jupyter-widgets/controls",
            "_model_module_version": "1.5.0",
            "value": " 32768/? [00:01&lt;00:00, 25827.71it/s]",
            "_view_count": null,
            "_view_module_version": "1.5.0",
            "description_tooltip": null,
            "_model_module": "@jupyter-widgets/controls",
            "layout": "IPY_MODEL_1e0055aa45a14c76853279c41a32f175"
          }
        },
        "53fba70a6d8245e2bd6586db0f5a1113": {
          "model_module": "@jupyter-widgets/controls",
          "model_name": "ProgressStyleModel",
          "state": {
            "_view_name": "StyleView",
            "_model_name": "ProgressStyleModel",
            "description_width": "initial",
            "_view_module": "@jupyter-widgets/base",
            "_model_module_version": "1.5.0",
            "_view_count": null,
            "_view_module_version": "1.2.0",
            "bar_color": null,
            "_model_module": "@jupyter-widgets/controls"
          }
        },
        "5b04fa5c6e6440b7b7f865ac1739124e": {
          "model_module": "@jupyter-widgets/base",
          "model_name": "LayoutModel",
          "state": {
            "_view_name": "LayoutView",
            "grid_template_rows": null,
            "right": null,
            "justify_content": null,
            "_view_module": "@jupyter-widgets/base",
            "overflow": null,
            "_model_module_version": "1.2.0",
            "_view_count": null,
            "flex_flow": null,
            "width": null,
            "min_width": null,
            "border": null,
            "align_items": null,
            "bottom": null,
            "_model_module": "@jupyter-widgets/base",
            "top": null,
            "grid_column": null,
            "overflow_y": null,
            "overflow_x": null,
            "grid_auto_flow": null,
            "grid_area": null,
            "grid_template_columns": null,
            "flex": null,
            "_model_name": "LayoutModel",
            "justify_items": null,
            "grid_row": null,
            "max_height": null,
            "align_content": null,
            "visibility": null,
            "align_self": null,
            "height": null,
            "min_height": null,
            "padding": null,
            "grid_auto_rows": null,
            "grid_gap": null,
            "max_width": null,
            "order": null,
            "_view_module_version": "1.2.0",
            "grid_template_areas": null,
            "object_position": null,
            "object_fit": null,
            "grid_auto_columns": null,
            "margin": null,
            "display": null,
            "left": null
          }
        },
        "ab44f4d3ecf94e6dacc660501739022d": {
          "model_module": "@jupyter-widgets/controls",
          "model_name": "DescriptionStyleModel",
          "state": {
            "_view_name": "StyleView",
            "_model_name": "DescriptionStyleModel",
            "description_width": "",
            "_view_module": "@jupyter-widgets/base",
            "_model_module_version": "1.5.0",
            "_view_count": null,
            "_view_module_version": "1.2.0",
            "_model_module": "@jupyter-widgets/controls"
          }
        },
        "1e0055aa45a14c76853279c41a32f175": {
          "model_module": "@jupyter-widgets/base",
          "model_name": "LayoutModel",
          "state": {
            "_view_name": "LayoutView",
            "grid_template_rows": null,
            "right": null,
            "justify_content": null,
            "_view_module": "@jupyter-widgets/base",
            "overflow": null,
            "_model_module_version": "1.2.0",
            "_view_count": null,
            "flex_flow": null,
            "width": null,
            "min_width": null,
            "border": null,
            "align_items": null,
            "bottom": null,
            "_model_module": "@jupyter-widgets/base",
            "top": null,
            "grid_column": null,
            "overflow_y": null,
            "overflow_x": null,
            "grid_auto_flow": null,
            "grid_area": null,
            "grid_template_columns": null,
            "flex": null,
            "_model_name": "LayoutModel",
            "justify_items": null,
            "grid_row": null,
            "max_height": null,
            "align_content": null,
            "visibility": null,
            "align_self": null,
            "height": null,
            "min_height": null,
            "padding": null,
            "grid_auto_rows": null,
            "grid_gap": null,
            "max_width": null,
            "order": null,
            "_view_module_version": "1.2.0",
            "grid_template_areas": null,
            "object_position": null,
            "object_fit": null,
            "grid_auto_columns": null,
            "margin": null,
            "display": null,
            "left": null
          }
        },
        "491e51f9f3684179b93a2e93f914e61c": {
          "model_module": "@jupyter-widgets/controls",
          "model_name": "HBoxModel",
          "state": {
            "_view_name": "HBoxView",
            "_dom_classes": [],
            "_model_name": "HBoxModel",
            "_view_module": "@jupyter-widgets/controls",
            "_model_module_version": "1.5.0",
            "_view_count": null,
            "_view_module_version": "1.5.0",
            "box_style": "",
            "layout": "IPY_MODEL_39ea818daa394cb7b59c3695973ea0fb",
            "_model_module": "@jupyter-widgets/controls",
            "children": [
              "IPY_MODEL_306c7c532c8b43248dcd096f92984fe1",
              "IPY_MODEL_0c736416388d45c4a7010ccb3d972276"
            ]
          }
        },
        "39ea818daa394cb7b59c3695973ea0fb": {
          "model_module": "@jupyter-widgets/base",
          "model_name": "LayoutModel",
          "state": {
            "_view_name": "LayoutView",
            "grid_template_rows": null,
            "right": null,
            "justify_content": null,
            "_view_module": "@jupyter-widgets/base",
            "overflow": null,
            "_model_module_version": "1.2.0",
            "_view_count": null,
            "flex_flow": null,
            "width": null,
            "min_width": null,
            "border": null,
            "align_items": null,
            "bottom": null,
            "_model_module": "@jupyter-widgets/base",
            "top": null,
            "grid_column": null,
            "overflow_y": null,
            "overflow_x": null,
            "grid_auto_flow": null,
            "grid_area": null,
            "grid_template_columns": null,
            "flex": null,
            "_model_name": "LayoutModel",
            "justify_items": null,
            "grid_row": null,
            "max_height": null,
            "align_content": null,
            "visibility": null,
            "align_self": null,
            "height": null,
            "min_height": null,
            "padding": null,
            "grid_auto_rows": null,
            "grid_gap": null,
            "max_width": null,
            "order": null,
            "_view_module_version": "1.2.0",
            "grid_template_areas": null,
            "object_position": null,
            "object_fit": null,
            "grid_auto_columns": null,
            "margin": null,
            "display": null,
            "left": null
          }
        },
        "306c7c532c8b43248dcd096f92984fe1": {
          "model_module": "@jupyter-widgets/controls",
          "model_name": "FloatProgressModel",
          "state": {
            "_view_name": "ProgressView",
            "style": "IPY_MODEL_96b736aa1f094d20a56ab63d9c13ea4a",
            "_dom_classes": [],
            "description": "",
            "_model_name": "FloatProgressModel",
            "bar_style": "success",
            "max": 1,
            "_view_module": "@jupyter-widgets/controls",
            "_model_module_version": "1.5.0",
            "value": 1,
            "_view_count": null,
            "_view_module_version": "1.5.0",
            "orientation": "horizontal",
            "min": 0,
            "description_tooltip": null,
            "_model_module": "@jupyter-widgets/controls",
            "layout": "IPY_MODEL_3a4925b12ab4409a892fd10eb39e04a3"
          }
        },
        "0c736416388d45c4a7010ccb3d972276": {
          "model_module": "@jupyter-widgets/controls",
          "model_name": "HTMLModel",
          "state": {
            "_view_name": "HTMLView",
            "style": "IPY_MODEL_934cb7f0ebda4f6fa3d9aa32632a3623",
            "_dom_classes": [],
            "description": "",
            "_model_name": "HTMLModel",
            "placeholder": "​",
            "_view_module": "@jupyter-widgets/controls",
            "_model_module_version": "1.5.0",
            "value": " 1654784/? [00:00&lt;00:00, 2303051.50it/s]",
            "_view_count": null,
            "_view_module_version": "1.5.0",
            "description_tooltip": null,
            "_model_module": "@jupyter-widgets/controls",
            "layout": "IPY_MODEL_8ed5f1bb6bac427ab91004657b8bbc34"
          }
        },
        "96b736aa1f094d20a56ab63d9c13ea4a": {
          "model_module": "@jupyter-widgets/controls",
          "model_name": "ProgressStyleModel",
          "state": {
            "_view_name": "StyleView",
            "_model_name": "ProgressStyleModel",
            "description_width": "initial",
            "_view_module": "@jupyter-widgets/base",
            "_model_module_version": "1.5.0",
            "_view_count": null,
            "_view_module_version": "1.2.0",
            "bar_color": null,
            "_model_module": "@jupyter-widgets/controls"
          }
        },
        "3a4925b12ab4409a892fd10eb39e04a3": {
          "model_module": "@jupyter-widgets/base",
          "model_name": "LayoutModel",
          "state": {
            "_view_name": "LayoutView",
            "grid_template_rows": null,
            "right": null,
            "justify_content": null,
            "_view_module": "@jupyter-widgets/base",
            "overflow": null,
            "_model_module_version": "1.2.0",
            "_view_count": null,
            "flex_flow": null,
            "width": null,
            "min_width": null,
            "border": null,
            "align_items": null,
            "bottom": null,
            "_model_module": "@jupyter-widgets/base",
            "top": null,
            "grid_column": null,
            "overflow_y": null,
            "overflow_x": null,
            "grid_auto_flow": null,
            "grid_area": null,
            "grid_template_columns": null,
            "flex": null,
            "_model_name": "LayoutModel",
            "justify_items": null,
            "grid_row": null,
            "max_height": null,
            "align_content": null,
            "visibility": null,
            "align_self": null,
            "height": null,
            "min_height": null,
            "padding": null,
            "grid_auto_rows": null,
            "grid_gap": null,
            "max_width": null,
            "order": null,
            "_view_module_version": "1.2.0",
            "grid_template_areas": null,
            "object_position": null,
            "object_fit": null,
            "grid_auto_columns": null,
            "margin": null,
            "display": null,
            "left": null
          }
        },
        "934cb7f0ebda4f6fa3d9aa32632a3623": {
          "model_module": "@jupyter-widgets/controls",
          "model_name": "DescriptionStyleModel",
          "state": {
            "_view_name": "StyleView",
            "_model_name": "DescriptionStyleModel",
            "description_width": "",
            "_view_module": "@jupyter-widgets/base",
            "_model_module_version": "1.5.0",
            "_view_count": null,
            "_view_module_version": "1.2.0",
            "_model_module": "@jupyter-widgets/controls"
          }
        },
        "8ed5f1bb6bac427ab91004657b8bbc34": {
          "model_module": "@jupyter-widgets/base",
          "model_name": "LayoutModel",
          "state": {
            "_view_name": "LayoutView",
            "grid_template_rows": null,
            "right": null,
            "justify_content": null,
            "_view_module": "@jupyter-widgets/base",
            "overflow": null,
            "_model_module_version": "1.2.0",
            "_view_count": null,
            "flex_flow": null,
            "width": null,
            "min_width": null,
            "border": null,
            "align_items": null,
            "bottom": null,
            "_model_module": "@jupyter-widgets/base",
            "top": null,
            "grid_column": null,
            "overflow_y": null,
            "overflow_x": null,
            "grid_auto_flow": null,
            "grid_area": null,
            "grid_template_columns": null,
            "flex": null,
            "_model_name": "LayoutModel",
            "justify_items": null,
            "grid_row": null,
            "max_height": null,
            "align_content": null,
            "visibility": null,
            "align_self": null,
            "height": null,
            "min_height": null,
            "padding": null,
            "grid_auto_rows": null,
            "grid_gap": null,
            "max_width": null,
            "order": null,
            "_view_module_version": "1.2.0",
            "grid_template_areas": null,
            "object_position": null,
            "object_fit": null,
            "grid_auto_columns": null,
            "margin": null,
            "display": null,
            "left": null
          }
        },
        "96603f7ef0104a3c860b12b6dbdbc389": {
          "model_module": "@jupyter-widgets/controls",
          "model_name": "HBoxModel",
          "state": {
            "_view_name": "HBoxView",
            "_dom_classes": [],
            "_model_name": "HBoxModel",
            "_view_module": "@jupyter-widgets/controls",
            "_model_module_version": "1.5.0",
            "_view_count": null,
            "_view_module_version": "1.5.0",
            "box_style": "",
            "layout": "IPY_MODEL_0d6916b1d8c34c41a416347f7fb91892",
            "_model_module": "@jupyter-widgets/controls",
            "children": [
              "IPY_MODEL_64b65c211ec7421696c637f62528623b",
              "IPY_MODEL_f5c9f439953442848e211df809f07665"
            ]
          }
        },
        "0d6916b1d8c34c41a416347f7fb91892": {
          "model_module": "@jupyter-widgets/base",
          "model_name": "LayoutModel",
          "state": {
            "_view_name": "LayoutView",
            "grid_template_rows": null,
            "right": null,
            "justify_content": null,
            "_view_module": "@jupyter-widgets/base",
            "overflow": null,
            "_model_module_version": "1.2.0",
            "_view_count": null,
            "flex_flow": null,
            "width": null,
            "min_width": null,
            "border": null,
            "align_items": null,
            "bottom": null,
            "_model_module": "@jupyter-widgets/base",
            "top": null,
            "grid_column": null,
            "overflow_y": null,
            "overflow_x": null,
            "grid_auto_flow": null,
            "grid_area": null,
            "grid_template_columns": null,
            "flex": null,
            "_model_name": "LayoutModel",
            "justify_items": null,
            "grid_row": null,
            "max_height": null,
            "align_content": null,
            "visibility": null,
            "align_self": null,
            "height": null,
            "min_height": null,
            "padding": null,
            "grid_auto_rows": null,
            "grid_gap": null,
            "max_width": null,
            "order": null,
            "_view_module_version": "1.2.0",
            "grid_template_areas": null,
            "object_position": null,
            "object_fit": null,
            "grid_auto_columns": null,
            "margin": null,
            "display": null,
            "left": null
          }
        },
        "64b65c211ec7421696c637f62528623b": {
          "model_module": "@jupyter-widgets/controls",
          "model_name": "FloatProgressModel",
          "state": {
            "_view_name": "ProgressView",
            "style": "IPY_MODEL_6051d9235af146648f09301508e4c2fb",
            "_dom_classes": [],
            "description": "",
            "_model_name": "FloatProgressModel",
            "bar_style": "success",
            "max": 1,
            "_view_module": "@jupyter-widgets/controls",
            "_model_module_version": "1.5.0",
            "value": 1,
            "_view_count": null,
            "_view_module_version": "1.5.0",
            "orientation": "horizontal",
            "min": 0,
            "description_tooltip": null,
            "_model_module": "@jupyter-widgets/controls",
            "layout": "IPY_MODEL_c6507672de31439a815aeccc5f6fa760"
          }
        },
        "f5c9f439953442848e211df809f07665": {
          "model_module": "@jupyter-widgets/controls",
          "model_name": "HTMLModel",
          "state": {
            "_view_name": "HTMLView",
            "style": "IPY_MODEL_dadcc3fa69154a86aa8383a79420396c",
            "_dom_classes": [],
            "description": "",
            "_model_name": "HTMLModel",
            "placeholder": "​",
            "_view_module": "@jupyter-widgets/controls",
            "_model_module_version": "1.5.0",
            "value": " 8192/? [00:00&lt;00:00, 19332.96it/s]",
            "_view_count": null,
            "_view_module_version": "1.5.0",
            "description_tooltip": null,
            "_model_module": "@jupyter-widgets/controls",
            "layout": "IPY_MODEL_e5b7fae03cb84a63a42c34d8ec107dd6"
          }
        },
        "6051d9235af146648f09301508e4c2fb": {
          "model_module": "@jupyter-widgets/controls",
          "model_name": "ProgressStyleModel",
          "state": {
            "_view_name": "StyleView",
            "_model_name": "ProgressStyleModel",
            "description_width": "initial",
            "_view_module": "@jupyter-widgets/base",
            "_model_module_version": "1.5.0",
            "_view_count": null,
            "_view_module_version": "1.2.0",
            "bar_color": null,
            "_model_module": "@jupyter-widgets/controls"
          }
        },
        "c6507672de31439a815aeccc5f6fa760": {
          "model_module": "@jupyter-widgets/base",
          "model_name": "LayoutModel",
          "state": {
            "_view_name": "LayoutView",
            "grid_template_rows": null,
            "right": null,
            "justify_content": null,
            "_view_module": "@jupyter-widgets/base",
            "overflow": null,
            "_model_module_version": "1.2.0",
            "_view_count": null,
            "flex_flow": null,
            "width": null,
            "min_width": null,
            "border": null,
            "align_items": null,
            "bottom": null,
            "_model_module": "@jupyter-widgets/base",
            "top": null,
            "grid_column": null,
            "overflow_y": null,
            "overflow_x": null,
            "grid_auto_flow": null,
            "grid_area": null,
            "grid_template_columns": null,
            "flex": null,
            "_model_name": "LayoutModel",
            "justify_items": null,
            "grid_row": null,
            "max_height": null,
            "align_content": null,
            "visibility": null,
            "align_self": null,
            "height": null,
            "min_height": null,
            "padding": null,
            "grid_auto_rows": null,
            "grid_gap": null,
            "max_width": null,
            "order": null,
            "_view_module_version": "1.2.0",
            "grid_template_areas": null,
            "object_position": null,
            "object_fit": null,
            "grid_auto_columns": null,
            "margin": null,
            "display": null,
            "left": null
          }
        },
        "dadcc3fa69154a86aa8383a79420396c": {
          "model_module": "@jupyter-widgets/controls",
          "model_name": "DescriptionStyleModel",
          "state": {
            "_view_name": "StyleView",
            "_model_name": "DescriptionStyleModel",
            "description_width": "",
            "_view_module": "@jupyter-widgets/base",
            "_model_module_version": "1.5.0",
            "_view_count": null,
            "_view_module_version": "1.2.0",
            "_model_module": "@jupyter-widgets/controls"
          }
        },
        "e5b7fae03cb84a63a42c34d8ec107dd6": {
          "model_module": "@jupyter-widgets/base",
          "model_name": "LayoutModel",
          "state": {
            "_view_name": "LayoutView",
            "grid_template_rows": null,
            "right": null,
            "justify_content": null,
            "_view_module": "@jupyter-widgets/base",
            "overflow": null,
            "_model_module_version": "1.2.0",
            "_view_count": null,
            "flex_flow": null,
            "width": null,
            "min_width": null,
            "border": null,
            "align_items": null,
            "bottom": null,
            "_model_module": "@jupyter-widgets/base",
            "top": null,
            "grid_column": null,
            "overflow_y": null,
            "overflow_x": null,
            "grid_auto_flow": null,
            "grid_area": null,
            "grid_template_columns": null,
            "flex": null,
            "_model_name": "LayoutModel",
            "justify_items": null,
            "grid_row": null,
            "max_height": null,
            "align_content": null,
            "visibility": null,
            "align_self": null,
            "height": null,
            "min_height": null,
            "padding": null,
            "grid_auto_rows": null,
            "grid_gap": null,
            "max_width": null,
            "order": null,
            "_view_module_version": "1.2.0",
            "grid_template_areas": null,
            "object_position": null,
            "object_fit": null,
            "grid_auto_columns": null,
            "margin": null,
            "display": null,
            "left": null
          }
        }
      }
    }
  },
  "cells": [
    {
      "cell_type": "code",
      "metadata": {
        "id": "PaootvdoWGRs"
      },
      "source": [
        "import torchvision\r\n",
        "import torch\r\n",
        "import torch.nn as nn\r\n",
        "import torch.optim as optim\r\n",
        "import matplotlib.pyplot as plt\r\n",
        "import numpy as np\r\n",
        "import PIL.ImageOps\r\n",
        "import urllib.request as request\r\n",
        "\r\n",
        "from torchvision import datasets, transforms\r\n",
        "from torchvision import utils\r\n",
        "from PIL import Image"
      ],
      "execution_count": null,
      "outputs": []
    },
    {
      "cell_type": "markdown",
      "metadata": {
        "id": "BEBPRH8jgod4"
      },
      "source": [
        "# ***Construyendo un modelo***"
      ]
    },
    {
      "cell_type": "code",
      "metadata": {
        "colab": {
          "base_uri": "https://localhost:8080/",
          "height": 403,
          "referenced_widgets": [
            "ee539546367343d490316af757da97c9",
            "1ab302c4dbe443b59f82019ed64ec928",
            "fe619d0400a24969a108c282cc940305",
            "147ce2cfba194293ad7179c44d57d840",
            "109ec06c9b9845499722c67d607a0e89",
            "49d96543609249e3b3fc2ed8fa1ddbe7",
            "fe15c309497f43a2b4cd1855b5b2fe5b",
            "e58c488a404f4a2891a17ca88272118b",
            "22e849de63064d84910ccd0b59f55f51",
            "ef7b7d56a97542899f2482dbbec552ca",
            "ae1d9e8572ca42249717d23e00a506e8",
            "8ed3302bcd26440d89e2bcdc8910b2a5",
            "53fba70a6d8245e2bd6586db0f5a1113",
            "5b04fa5c6e6440b7b7f865ac1739124e",
            "ab44f4d3ecf94e6dacc660501739022d",
            "1e0055aa45a14c76853279c41a32f175",
            "491e51f9f3684179b93a2e93f914e61c",
            "39ea818daa394cb7b59c3695973ea0fb",
            "306c7c532c8b43248dcd096f92984fe1",
            "0c736416388d45c4a7010ccb3d972276",
            "96b736aa1f094d20a56ab63d9c13ea4a",
            "3a4925b12ab4409a892fd10eb39e04a3",
            "934cb7f0ebda4f6fa3d9aa32632a3623",
            "8ed5f1bb6bac427ab91004657b8bbc34",
            "96603f7ef0104a3c860b12b6dbdbc389",
            "0d6916b1d8c34c41a416347f7fb91892",
            "64b65c211ec7421696c637f62528623b",
            "f5c9f439953442848e211df809f07665",
            "6051d9235af146648f09301508e4c2fb",
            "c6507672de31439a815aeccc5f6fa760",
            "dadcc3fa69154a86aa8383a79420396c",
            "e5b7fae03cb84a63a42c34d8ec107dd6"
          ]
        },
        "id": "ee_gU3pq4aIe",
        "outputId": "8a015397-ad14-4250-fb39-cacade2e1901"
      },
      "source": [
        "transform  = transforms.Compose([transforms.Resize((28,28)),\r\n",
        "                                 transforms.ToTensor(),\r\n",
        "                                 transforms.Normalize(mean=[0.485], std=[0.229])\r\n",
        "                                ])\r\n",
        "dir = '/path/'\r\n",
        "full_data_set = datasets.MNIST(dir, train=True, download=True, target_transform=None, transform = transform)\r\n",
        "\r\n",
        "full_validation_set = datasets.MNIST(dir, train=False, download=True, target_transform=None, transform= transform)\r\n",
        "\r\n",
        "print (\"length of training_dataset: \", len(full_data_set))\r\n",
        "print (\"length of validation_dataset: \", len(full_validation_set))"
      ],
      "execution_count": null,
      "outputs": [
        {
          "output_type": "stream",
          "text": [
            "Downloading http://yann.lecun.com/exdb/mnist/train-images-idx3-ubyte.gz to /path/MNIST/raw/train-images-idx3-ubyte.gz\n"
          ],
          "name": "stdout"
        },
        {
          "output_type": "display_data",
          "data": {
            "application/vnd.jupyter.widget-view+json": {
              "model_id": "ee539546367343d490316af757da97c9",
              "version_minor": 0,
              "version_major": 2
            },
            "text/plain": [
              "HBox(children=(FloatProgress(value=1.0, bar_style='info', max=1.0), HTML(value='')))"
            ]
          },
          "metadata": {
            "tags": []
          }
        },
        {
          "output_type": "stream",
          "text": [
            "Extracting /path/MNIST/raw/train-images-idx3-ubyte.gz to /path/MNIST/raw\n",
            "Downloading http://yann.lecun.com/exdb/mnist/train-labels-idx1-ubyte.gz to /path/MNIST/raw/train-labels-idx1-ubyte.gz\n"
          ],
          "name": "stdout"
        },
        {
          "output_type": "display_data",
          "data": {
            "application/vnd.jupyter.widget-view+json": {
              "model_id": "22e849de63064d84910ccd0b59f55f51",
              "version_minor": 0,
              "version_major": 2
            },
            "text/plain": [
              "HBox(children=(FloatProgress(value=1.0, bar_style='info', max=1.0), HTML(value='')))"
            ]
          },
          "metadata": {
            "tags": []
          }
        },
        {
          "output_type": "stream",
          "text": [
            "Extracting /path/MNIST/raw/train-labels-idx1-ubyte.gz to /path/MNIST/raw\n",
            "Downloading http://yann.lecun.com/exdb/mnist/t10k-images-idx3-ubyte.gz to /path/MNIST/raw/t10k-images-idx3-ubyte.gz\n"
          ],
          "name": "stdout"
        },
        {
          "output_type": "display_data",
          "data": {
            "application/vnd.jupyter.widget-view+json": {
              "model_id": "491e51f9f3684179b93a2e93f914e61c",
              "version_minor": 0,
              "version_major": 2
            },
            "text/plain": [
              "HBox(children=(FloatProgress(value=1.0, bar_style='info', max=1.0), HTML(value='')))"
            ]
          },
          "metadata": {
            "tags": []
          }
        },
        {
          "output_type": "stream",
          "text": [
            "Extracting /path/MNIST/raw/t10k-images-idx3-ubyte.gz to /path/MNIST/raw\n",
            "Downloading http://yann.lecun.com/exdb/mnist/t10k-labels-idx1-ubyte.gz to /path/MNIST/raw/t10k-labels-idx1-ubyte.gz\n"
          ],
          "name": "stdout"
        },
        {
          "output_type": "display_data",
          "data": {
            "application/vnd.jupyter.widget-view+json": {
              "model_id": "96603f7ef0104a3c860b12b6dbdbc389",
              "version_minor": 0,
              "version_major": 2
            },
            "text/plain": [
              "HBox(children=(FloatProgress(value=1.0, bar_style='info', max=1.0), HTML(value='')))"
            ]
          },
          "metadata": {
            "tags": []
          }
        },
        {
          "output_type": "stream",
          "text": [
            "Extracting /path/MNIST/raw/t10k-labels-idx1-ubyte.gz to /path/MNIST/raw\n",
            "Processing...\n"
          ],
          "name": "stdout"
        },
        {
          "output_type": "stream",
          "text": [
            "/usr/local/lib/python3.7/dist-packages/torchvision/datasets/mnist.py:480: UserWarning: The given NumPy array is not writeable, and PyTorch does not support non-writeable tensors. This means you can write to the underlying (supposedly non-writeable) NumPy array using the tensor. You may want to copy the array to protect its data or make it writeable before converting it to a tensor. This type of warning will be suppressed for the rest of this program. (Triggered internally at  /pytorch/torch/csrc/utils/tensor_numpy.cpp:141.)\n",
            "  return torch.from_numpy(parsed.astype(m[2], copy=False)).view(*s)\n"
          ],
          "name": "stderr"
        },
        {
          "output_type": "stream",
          "text": [
            "Done!\n",
            "length of training_dataset:  60000\n",
            "length of validation_dataset:  10000\n"
          ],
          "name": "stdout"
        }
      ]
    },
    {
      "cell_type": "code",
      "metadata": {
        "id": "e43ONZt66x8P"
      },
      "source": [
        "size = 32\r\n",
        "dataloader = torch.utils.data.DataLoader(full_data_set, batch_size=size, shuffle=True, num_workers=1)"
      ],
      "execution_count": null,
      "outputs": []
    },
    {
      "cell_type": "code",
      "metadata": {
        "id": "QqS-rGLL6_iA",
        "colab": {
          "base_uri": "https://localhost:8080/"
        },
        "outputId": "130a723b-ece6-4034-85f0-76637f4b1c9b"
      },
      "source": [
        "data_iterator = iter(dataloader)\r\n",
        "imgs, labels = data_iterator.next()\r\n",
        "out = torchvision.utils.make_grid(imgs)"
      ],
      "execution_count": null,
      "outputs": [
        {
          "output_type": "stream",
          "text": [
            "\n",
            "\n"
          ],
          "name": "stdout"
        }
      ]
    },
    {
      "cell_type": "code",
      "metadata": {
        "id": "5QnLKLbt9ggs",
        "colab": {
          "base_uri": "https://localhost:8080/"
        },
        "outputId": "16ba5ca8-7ba9-4865-e148-cacecf4fe66a"
      },
      "source": [
        "imgs.shape"
      ],
      "execution_count": null,
      "outputs": [
        {
          "output_type": "execute_result",
          "data": {
            "text/plain": [
              "torch.Size([32, 1, 28, 28])"
            ]
          },
          "metadata": {
            "tags": []
          },
          "execution_count": 5
        }
      ]
    },
    {
      "cell_type": "code",
      "metadata": {
        "id": "B1nzYJZT9kym",
        "colab": {
          "base_uri": "https://localhost:8080/"
        },
        "outputId": "ed279152-ad42-4e14-e6b6-332711f64e16"
      },
      "source": [
        "out.shape"
      ],
      "execution_count": null,
      "outputs": [
        {
          "output_type": "execute_result",
          "data": {
            "text/plain": [
              "torch.Size([3, 122, 242])"
            ]
          },
          "metadata": {
            "tags": []
          },
          "execution_count": 6
        }
      ]
    },
    {
      "cell_type": "code",
      "metadata": {
        "id": "OcEByrQ29aU7",
        "colab": {
          "base_uri": "https://localhost:8080/",
          "height": 815
        },
        "outputId": "a0f452de-0caa-4ab5-aee7-6909806b0941"
      },
      "source": [
        "classes = ['0 - zero', '1 - one', '2 - two', '3 - three', '4 - four',\r\n",
        "               '5 - five', '6 - six', '7 - seven', '8 - eight', '9 - nine']\r\n",
        "plt.imshow(utils.make_grid(imgs).permute(1, 2, 0))\r\n",
        "for i in range(size):\r\n",
        "  print(classes[labels[i]])"
      ],
      "execution_count": null,
      "outputs": [
        {
          "output_type": "stream",
          "text": [
            "Clipping input data to the valid range for imshow with RGB data ([0..1] for floats or [0..255] for integers).\n"
          ],
          "name": "stderr"
        },
        {
          "output_type": "stream",
          "text": [
            "0 - zero\n",
            "3 - three\n",
            "1 - one\n",
            "5 - five\n",
            "9 - nine\n",
            "8 - eight\n",
            "3 - three\n",
            "3 - three\n",
            "0 - zero\n",
            "0 - zero\n",
            "1 - one\n",
            "2 - two\n",
            "3 - three\n",
            "7 - seven\n",
            "0 - zero\n",
            "6 - six\n",
            "5 - five\n",
            "8 - eight\n",
            "8 - eight\n",
            "7 - seven\n",
            "8 - eight\n",
            "9 - nine\n",
            "5 - five\n",
            "7 - seven\n",
            "1 - one\n",
            "1 - one\n",
            "1 - one\n",
            "5 - five\n",
            "9 - nine\n",
            "8 - eight\n",
            "7 - seven\n",
            "6 - six\n"
          ],
          "name": "stdout"
        },
        {
          "output_type": "display_data",
          "data": {
            "image/png": "[encoded data removed]",
            "text/plain": [
              "<Figure size 432x288 with 1 Axes>"
            ]
          },
          "metadata": {
            "tags": [],
            "needs_background": "light"
          }
        },
        {
          "output_type": "stream",
          "text": [
            "\n",
            "\n"
          ],
          "name": "stdout"
        }
      ]
    },
    {
      "cell_type": "code",
      "metadata": {
        "id": "tVYMhnWbp25X"
      },
      "source": [
        "class_names = ['0 - zero', '1 - one', '2 - two', '3 - three', '4 - four',\r\n",
        "               '5 - five', '6 - six', '7 - seven', '8 - eight', '9 - nine']\r\n",
        "label_map = {0:0, 1:1, 2:2, 3:3, 4:4, 5:5, 6:6, 7:7, 8:8, 9:9}\r\n",
        "data_set = [(img, label_map[label]) for img, label in full_data_set if label in [0, 1, 2, 3, 4, 5, 6, 7, 8, 9]]\r\n",
        "validation_set = [(img, label_map[label]) for img, label in full_validation_set if label in [0, 1, 2, 3, 4, 5, 6, 7, 8, 9]]"
      ],
      "execution_count": null,
      "outputs": []
    },
    {
      "cell_type": "code",
      "metadata": {
        "id": "FDMfZLu8_qcm",
        "colab": {
          "base_uri": "https://localhost:8080/"
        },
        "outputId": "528bc07b-5fe7-40bc-f069-e680e2a54a71"
      },
      "source": [
        "img, label = data_set[100]\r\n",
        "img.shape"
      ],
      "execution_count": null,
      "outputs": [
        {
          "output_type": "execute_result",
          "data": {
            "text/plain": [
              "torch.Size([1, 28, 28])"
            ]
          },
          "metadata": {
            "tags": []
          },
          "execution_count": 9
        }
      ]
    },
    {
      "cell_type": "code",
      "metadata": {
        "id": "UX_H50rF_uoB",
        "colab": {
          "base_uri": "https://localhost:8080/"
        },
        "outputId": "b3b51a02-f6de-43b1-97fd-1e9adbc97e16"
      },
      "source": [
        "def softmax(x):\r\n",
        "  return torch.exp(x) / torch.exp(x).sum()\r\n",
        "\r\n",
        "x = torch.tensor([1.0, 2.0, 3.0])\r\n",
        "\r\n",
        "print(softmax(x))\r\n",
        "print(softmax(x).sum())"
      ],
      "execution_count": null,
      "outputs": [
        {
          "output_type": "stream",
          "text": [
            "tensor([0.0900, 0.2447, 0.6652])\n",
            "tensor(1.)\n"
          ],
          "name": "stdout"
        }
      ]
    },
    {
      "cell_type": "code",
      "metadata": {
        "id": "IWPpqJMq_xjE"
      },
      "source": [
        "model = nn.Sequential(\r\n",
        "    nn.Linear(28* 28, 512),\r\n",
        "    nn.Tanh(),\r\n",
        "    nn.Linear(512, 2),\r\n",
        "    nn.Softmax(dim=1)\r\n",
        "    )"
      ],
      "execution_count": null,
      "outputs": []
    },
    {
      "cell_type": "code",
      "metadata": {
        "id": "IQ0v7JwvCoOn",
        "colab": {
          "base_uri": "https://localhost:8080/",
          "height": 283
        },
        "outputId": "14cef66e-cf14-4b4e-fd61-9d06198d7f2a"
      },
      "source": [
        "img, label = data_set[100]\r\n",
        "plt.imshow(img[0].reshape(28,28), cmap=\"gray\")\r\n",
        "class_names[label]"
      ],
      "execution_count": null,
      "outputs": [
        {
          "output_type": "execute_result",
          "data": {
            "application/vnd.google.colaboratory.intrinsic+json": {
              "type": "string"
            },
            "text/plain": [
              "'5 - five'"
            ]
          },
          "metadata": {
            "tags": []
          },
          "execution_count": 12
        },
        {
          "output_type": "display_data",
          "data": {
            "image/png": "[encoded data removed]",
            "text/plain": [
              "<Figure size 432x288 with 1 Axes>"
            ]
          },
          "metadata": {
            "tags": [],
            "needs_background": "light"
          }
        }
      ]
    },
    {
      "cell_type": "code",
      "metadata": {
        "id": "UUUkEIOkGqG3",
        "colab": {
          "base_uri": "https://localhost:8080/"
        },
        "outputId": "2cc0b2f2-0041-4219-9fa4-4c7f0c9e32e8"
      },
      "source": [
        "out = model(img.view(-1).unsqueeze(0))\r\n",
        "out"
      ],
      "execution_count": null,
      "outputs": [
        {
          "output_type": "execute_result",
          "data": {
            "text/plain": [
              "tensor([[0.4589, 0.5411]], grad_fn=<SoftmaxBackward>)"
            ]
          },
          "metadata": {
            "tags": []
          },
          "execution_count": 13
        }
      ]
    },
    {
      "cell_type": "code",
      "metadata": {
        "id": "j05ZUuyTpD4W",
        "colab": {
          "base_uri": "https://localhost:8080/"
        },
        "outputId": "60c92d30-a692-454d-db96-a163e2b708c7"
      },
      "source": [
        "_, index = torch.max(out, dim=1)\r\n",
        "print('->', class_names[label],'model:',class_names[index])"
      ],
      "execution_count": null,
      "outputs": [
        {
          "output_type": "stream",
          "text": [
            "-> 5 - five model: 1 - one\n"
          ],
          "name": "stdout"
        }
      ]
    },
    {
      "cell_type": "markdown",
      "metadata": {
        "id": "qd0YVypgDN-s"
      },
      "source": [
        "# **Implementando el modelo mejorado**\r\n",
        "\r\n",
        "\r\n",
        "---\r\n",
        "\r\n",
        "---\r\n",
        "\r\n",
        "\r\n",
        "\r\n"
      ]
    },
    {
      "cell_type": "code",
      "metadata": {
        "id": "L_PbEK8rTbTe"
      },
      "source": [
        "#\r\n",
        "train_loader = torch.utils.data.DataLoader(data_set, batch_size=64, shuffle=True)\r\n",
        "#Definimos la entrada de 784 porque la imagen es de 28*28\r\n",
        "input_size = 784\r\n",
        "#Definimos el numero de nodos en las capas ocultas\r\n",
        "hidden_layers = [300,100,50]\r\n",
        "#Definimos 10 nodos de salida porque son digitos del 0 - 9\r\n",
        "output_size = 10\r\n",
        "#Definimos 10 nodos de salida porque son digitos del 0 - 9\r\n",
        "model = nn.Sequential(\r\n",
        "    nn.Linear(input_size, hidden_layers[0]),\r\n",
        "    #Usamos la funcion de activacion  para esa capa\r\n",
        "    nn.Tanh(),\r\n",
        "    nn.Linear(hidden_layers[0], hidden_layers[1]),\r\n",
        "    nn.Tanh(),\r\n",
        "    nn.Linear(hidden_layers[1], hidden_layers[2]),\r\n",
        "    nn.Tanh(),\r\n",
        "    nn.Linear(hidden_layers[2], output_size),\r\n",
        "    nn.LogSoftmax(dim=1)\r\n",
        "    )\r\n",
        "#Usamos la funcion de perdida porque combina NLLLoss() y LogSoftmax()\r\n",
        "criterion = nn.CrossEntropyLoss()\r\n",
        "#Optimizamos el modelo con SGD\r\n",
        "optimizer = optim.SGD(model.parameters(), lr=0.01)"
      ],
      "execution_count": null,
      "outputs": []
    },
    {
      "cell_type": "code",
      "metadata": {
        "id": "7biKkd5Mb5bA",
        "colab": {
          "base_uri": "https://localhost:8080/"
        },
        "outputId": "2d680385-f365-4667-d1cb-27a637cf4ad0"
      },
      "source": [
        "#Numero de interacciones que realizará\r\n",
        "epochs = 20\r\n",
        "\r\n",
        "for e in range(epochs):\r\n",
        "  running_loss = 0\r\n",
        "  for images, labels in train_loader:\r\n",
        "    # Aplanar la imagen de 28 * 28 a 784 vector de columna\r\n",
        "    images = images.view(images.shape[0], -1)\r\n",
        "    \r\n",
        "    # establecer gradiente a ceros\r\n",
        "    optimizer.zero_grad()        \r\n",
        "    output = model(images)\r\n",
        "    loss = criterion(output, labels)\r\n",
        "    \r\n",
        "    # propagación de backward\r\n",
        "    loss.backward()\r\n",
        "    \r\n",
        "    # actualizar el degradado a nuevos degradados\r\n",
        "    optimizer.step()\r\n",
        "    running_loss += loss.item()\r\n",
        "  print(\"Training loss: \",(float(loss)))"
      ],
      "execution_count": null,
      "outputs": [
        {
          "output_type": "stream",
          "text": [
            "Training loss:  0.4399643540382385\n",
            "Training loss:  0.290000319480896\n",
            "Training loss:  0.3054104745388031\n",
            "Training loss:  0.10876159369945526\n",
            "Training loss:  0.39317917823791504\n",
            "Training loss:  0.1573648899793625\n",
            "Training loss:  0.24699226021766663\n",
            "Training loss:  0.07629235088825226\n",
            "Training loss:  0.028202813118696213\n",
            "Training loss:  0.024692049250006676\n",
            "Training loss:  0.048901986330747604\n",
            "Training loss:  0.04172506928443909\n",
            "Training loss:  0.19817675650119781\n",
            "Training loss:  0.03244636952877045\n",
            "Training loss:  0.007422117982059717\n",
            "Training loss:  0.036690205335617065\n",
            "Training loss:  0.07953225821256638\n",
            "Training loss:  0.012431028299033642\n",
            "Training loss:  0.008794231340289116\n",
            "Training loss:  0.027843894436955452\n"
          ],
          "name": "stdout"
        }
      ]
    },
    {
      "cell_type": "code",
      "metadata": {
        "id": "VbTX7hkzbpy4",
        "colab": {
          "base_uri": "https://localhost:8080/"
        },
        "outputId": "459a95d1-d170-47d0-a634-4ef0cfd8a3c6"
      },
      "source": [
        "val_loader = torch.utils.data.DataLoader(validation_set, batch_size=64, shuffle=False)\r\n",
        "\r\n",
        "correct = 0\r\n",
        "total = 0\r\n",
        "\r\n",
        "with torch.no_grad():\r\n",
        "  for imgs, labels in val_loader:\r\n",
        "    outputs = model(imgs.view(imgs.shape[0], -1))\r\n",
        "    _, predicted = torch.max(outputs, dim=1)\r\n",
        "    total += labels.shape[0]\r\n",
        "    correct += int((predicted == labels).sum())\r\n",
        "    \r\n",
        "print(\"Accuracy: %f\" % (correct / total))"
      ],
      "execution_count": null,
      "outputs": [
        {
          "output_type": "stream",
          "text": [
            "Accuracy: 0.978600\n"
          ],
          "name": "stdout"
        }
      ]
    },
    {
      "cell_type": "code",
      "metadata": {
        "id": "Tpvfywl8dsHe",
        "colab": {
          "base_uri": "https://localhost:8080/"
        },
        "outputId": "7a9bb939-3eae-4394-9f86-1fcaa6959d05"
      },
      "source": [
        "sum([p.numel() for p in model.parameters() if p.requires_grad ==True])"
      ],
      "execution_count": null,
      "outputs": [
        {
          "output_type": "execute_result",
          "data": {
            "text/plain": [
              "271160"
            ]
          },
          "metadata": {
            "tags": []
          },
          "execution_count": 48
        }
      ]
    },
    {
      "cell_type": "code",
      "metadata": {
        "id": "tRvj807icp3v"
      },
      "source": [
        "def view_classify(img, ps):\r\n",
        "    ps = ps.data.numpy().squeeze()\r\n",
        "    fig, (ax1, ax2) = plt.subplots(figsize=(6,9), ncols=2)\r\n",
        "    ax1.imshow(img.resize_(1, 28, 28).numpy().squeeze())\r\n",
        "    ax1.axis('off')\r\n",
        "    ax2.barh(np.arange(10), ps)\r\n",
        "    ax2.set_aspect(0.1)\r\n",
        "    ax2.set_yticks(np.arange(10))\r\n",
        "    ax2.set_yticklabels(np.arange(10))\r\n",
        "    ax2.set_title('Class Probability')\r\n",
        "    ax2.set_xlim(0, 1.1)\r\n",
        "    plt.tight_layout()"
      ],
      "execution_count": null,
      "outputs": []
    },
    {
      "cell_type": "code",
      "metadata": {
        "id": "bNUWZF8vctrH",
        "colab": {
          "base_uri": "https://localhost:8080/",
          "height": 253
        },
        "outputId": "7fd7f5b9-e53d-4ebb-fce7-68d0ca849c29"
      },
      "source": [
        "# Poniendo la imagen a prueba\r\n",
        "images, labels = next(iter(val_loader))\r\n",
        "# Aplanar la imagen para pasar el modelo\r\n",
        "img = images[8].view(1, 784)\r\n",
        "# Desactive los degradados para acelerar esta parte\r\n",
        "with torch.no_grad():\r\n",
        "    logps = model(img)\r\n",
        "# La salida de la red son probabilidades logarítmicas, es necesario tomar exponencial para las probabilidades\r\n",
        "ps = torch.exp(logps)\r\n",
        "view_classify(img, ps)"
      ],
      "execution_count": null,
      "outputs": [
        {
          "output_type": "display_data",
          "data": {
            "image/png": "[encoded data removed]",
            "text/plain": [
              "<Figure size 432x648 with 2 Axes>"
            ]
          },
          "metadata": {
            "tags": [],
            "needs_background": "light"
          }
        }
      ]
    },
    {
      "cell_type": "code",
      "metadata": {
        "colab": {
          "base_uri": "https://localhost:8080/",
          "height": 286
        },
        "id": "qd8w8sged-Ue",
        "outputId": "a81f6708-e68a-4d28-f9a5-db530fc1634d"
      },
      "source": [
        "url = 'https://revistawe.files.wordpress.com/2015/03/3.jpg?w=791'\r\n",
        "image = request.urlretrieve(url, 'test1.jpg')\r\n",
        "img_t = Image.open(image[0])\r\n",
        "plt.imshow(img_t)"
      ],
      "execution_count": null,
      "outputs": [
        {
          "output_type": "execute_result",
          "data": {
            "text/plain": [
              "<matplotlib.image.AxesImage at 0x7feef91d5ed0>"
            ]
          },
          "metadata": {
            "tags": []
          },
          "execution_count": 58
        },
        {
          "output_type": "display_data",
          "data": {
            "image/png": "[encoded data removed]",
            "text/plain": [
              "<Figure size 432x288 with 1 Axes>"
            ]
          },
          "metadata": {
            "tags": [],
            "needs_background": "light"
          }
        }
      ]
    },
    {
      "cell_type": "code",
      "metadata": {
        "colab": {
          "base_uri": "https://localhost:8080/",
          "height": 282
        },
        "id": "SA6Gkr40lOyv",
        "outputId": "46d52566-238d-4821-d25f-516b75a7be07"
      },
      "source": [
        "# para que coincida con nuestros datos de entrenamiento\r\n",
        "img_t = PIL.ImageOps.invert(img_t)\r\n",
        "# convierte la imagen a grey-scaled. \r\n",
        "img_t = img_t.convert('L')\r\n",
        "img_t = transform(img_t) \r\n",
        "plt.imshow(transforms.ToPILImage()(img_t), cmap='gray')"
      ],
      "execution_count": null,
      "outputs": [
        {
          "output_type": "execute_result",
          "data": {
            "text/plain": [
              "<matplotlib.image.AxesImage at 0x7feef9138f50>"
            ]
          },
          "metadata": {
            "tags": []
          },
          "execution_count": 59
        },
        {
          "output_type": "display_data",
          "data": {
            "image/png": "[encoded data removed]",
            "text/plain": [
              "<Figure size 432x288 with 1 Axes>"
            ]
          },
          "metadata": {
            "tags": [],
            "needs_background": "light"
          }
        }
      ]
    },
    {
      "cell_type": "code",
      "metadata": {
        "colab": {
          "base_uri": "https://localhost:8080/"
        },
        "id": "_z50sjgenED2",
        "outputId": "2031eb41-1555-46e6-a3f6-3c05baa131a1"
      },
      "source": [
        "\r\n",
        "img_t = img_t.view(img_t.shape[0], -1)\r\n",
        "output = model(img_t)\r\n",
        "_, pred = torch.max(output, 1)\r\n",
        "print(\"La predicción es\", pred.item())"
      ],
      "execution_count": null,
      "outputs": [
        {
          "output_type": "stream",
          "text": [
            "La predicción es 3\n"
          ],
          "name": "stdout"
        }
      ]
    }
  ]
}