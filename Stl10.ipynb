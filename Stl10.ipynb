{
  "nbformat": 4,
  "nbformat_minor": 0,
  "metadata": {
    "colab": {
      "name": "Dataset nuevo",
      "provenance": [],
      "collapsed_sections": [
        "6OzIsz2XG40B"
      ]
    },
    "kernelspec": {
      "name": "python3",
      "display_name": "Python 3"
    },
    "widgets": {
      "application/vnd.jupyter.widget-state+json": {
        "1c34c1751ec04a4baffed0c31c268c98": {
          "model_module": "@jupyter-widgets/controls",
          "model_name": "HBoxModel",
          "state": {
            "_view_name": "HBoxView",
            "_dom_classes": [],
            "_model_name": "HBoxModel",
            "_view_module": "@jupyter-widgets/controls",
            "_model_module_version": "1.5.0",
            "_view_count": null,
            "_view_module_version": "1.5.0",
            "box_style": "",
            "layout": "IPY_MODEL_25989c93000348fba9c0397b79e80f41",
            "_model_module": "@jupyter-widgets/controls",
            "children": [
              "IPY_MODEL_de033dc86c284fba850cac6f39588e44",
              "IPY_MODEL_9ef56e367e72468585d7846b0f07b7cd"
            ]
          }
        },
        "25989c93000348fba9c0397b79e80f41": {
          "model_module": "@jupyter-widgets/base",
          "model_name": "LayoutModel",
          "state": {
            "_view_name": "LayoutView",
            "grid_template_rows": null,
            "right": null,
            "justify_content": null,
            "_view_module": "@jupyter-widgets/base",
            "overflow": null,
            "_model_module_version": "1.2.0",
            "_view_count": null,
            "flex_flow": null,
            "width": null,
            "min_width": null,
            "border": null,
            "align_items": null,
            "bottom": null,
            "_model_module": "@jupyter-widgets/base",
            "top": null,
            "grid_column": null,
            "overflow_y": null,
            "overflow_x": null,
            "grid_auto_flow": null,
            "grid_area": null,
            "grid_template_columns": null,
            "flex": null,
            "_model_name": "LayoutModel",
            "justify_items": null,
            "grid_row": null,
            "max_height": null,
            "align_content": null,
            "visibility": null,
            "align_self": null,
            "height": null,
            "min_height": null,
            "padding": null,
            "grid_auto_rows": null,
            "grid_gap": null,
            "max_width": null,
            "order": null,
            "_view_module_version": "1.2.0",
            "grid_template_areas": null,
            "object_position": null,
            "object_fit": null,
            "grid_auto_columns": null,
            "margin": null,
            "display": null,
            "left": null
          }
        },
        "de033dc86c284fba850cac6f39588e44": {
          "model_module": "@jupyter-widgets/controls",
          "model_name": "FloatProgressModel",
          "state": {
            "_view_name": "ProgressView",
            "style": "IPY_MODEL_cc4476f5a10946f3a2f9495a36ccd6c8",
            "_dom_classes": [],
            "description": "",
            "_model_name": "FloatProgressModel",
            "bar_style": "info",
            "max": 1,
            "_view_module": "@jupyter-widgets/controls",
            "_model_module_version": "1.5.0",
            "value": 1,
            "_view_count": null,
            "_view_module_version": "1.5.0",
            "orientation": "horizontal",
            "min": 0,
            "description_tooltip": null,
            "_model_module": "@jupyter-widgets/controls",
            "layout": "IPY_MODEL_aa253aea8e214cb48214117e50d542ff"
          }
        },
        "9ef56e367e72468585d7846b0f07b7cd": {
          "model_module": "@jupyter-widgets/controls",
          "model_name": "HTMLModel",
          "state": {
            "_view_name": "HTMLView",
            "style": "IPY_MODEL_df494da658024df6b1023badad296294",
            "_dom_classes": [],
            "description": "",
            "_model_name": "HTMLModel",
            "placeholder": "​",
            "_view_module": "@jupyter-widgets/controls",
            "_model_module_version": "1.5.0",
            "value": " 2640404480/? [01:20&lt;00:00, 41806029.75it/s]",
            "_view_count": null,
            "_view_module_version": "1.5.0",
            "description_tooltip": null,
            "_model_module": "@jupyter-widgets/controls",
            "layout": "IPY_MODEL_6a67da7f8c344c0bb8dee17e6a8c9b94"
          }
        },
        "cc4476f5a10946f3a2f9495a36ccd6c8": {
          "model_module": "@jupyter-widgets/controls",
          "model_name": "ProgressStyleModel",
          "state": {
            "_view_name": "StyleView",
            "_model_name": "ProgressStyleModel",
            "description_width": "initial",
            "_view_module": "@jupyter-widgets/base",
            "_model_module_version": "1.5.0",
            "_view_count": null,
            "_view_module_version": "1.2.0",
            "bar_color": null,
            "_model_module": "@jupyter-widgets/controls"
          }
        },
        "aa253aea8e214cb48214117e50d542ff": {
          "model_module": "@jupyter-widgets/base",
          "model_name": "LayoutModel",
          "state": {
            "_view_name": "LayoutView",
            "grid_template_rows": null,
            "right": null,
            "justify_content": null,
            "_view_module": "@jupyter-widgets/base",
            "overflow": null,
            "_model_module_version": "1.2.0",
            "_view_count": null,
            "flex_flow": null,
            "width": null,
            "min_width": null,
            "border": null,
            "align_items": null,
            "bottom": null,
            "_model_module": "@jupyter-widgets/base",
            "top": null,
            "grid_column": null,
            "overflow_y": null,
            "overflow_x": null,
            "grid_auto_flow": null,
            "grid_area": null,
            "grid_template_columns": null,
            "flex": null,
            "_model_name": "LayoutModel",
            "justify_items": null,
            "grid_row": null,
            "max_height": null,
            "align_content": null,
            "visibility": null,
            "align_self": null,
            "height": null,
            "min_height": null,
            "padding": null,
            "grid_auto_rows": null,
            "grid_gap": null,
            "max_width": null,
            "order": null,
            "_view_module_version": "1.2.0",
            "grid_template_areas": null,
            "object_position": null,
            "object_fit": null,
            "grid_auto_columns": null,
            "margin": null,
            "display": null,
            "left": null
          }
        },
        "df494da658024df6b1023badad296294": {
          "model_module": "@jupyter-widgets/controls",
          "model_name": "DescriptionStyleModel",
          "state": {
            "_view_name": "StyleView",
            "_model_name": "DescriptionStyleModel",
            "description_width": "",
            "_view_module": "@jupyter-widgets/base",
            "_model_module_version": "1.5.0",
            "_view_count": null,
            "_view_module_version": "1.2.0",
            "_model_module": "@jupyter-widgets/controls"
          }
        },
        "6a67da7f8c344c0bb8dee17e6a8c9b94": {
          "model_module": "@jupyter-widgets/base",
          "model_name": "LayoutModel",
          "state": {
            "_view_name": "LayoutView",
            "grid_template_rows": null,
            "right": null,
            "justify_content": null,
            "_view_module": "@jupyter-widgets/base",
            "overflow": null,
            "_model_module_version": "1.2.0",
            "_view_count": null,
            "flex_flow": null,
            "width": null,
            "min_width": null,
            "border": null,
            "align_items": null,
            "bottom": null,
            "_model_module": "@jupyter-widgets/base",
            "top": null,
            "grid_column": null,
            "overflow_y": null,
            "overflow_x": null,
            "grid_auto_flow": null,
            "grid_area": null,
            "grid_template_columns": null,
            "flex": null,
            "_model_name": "LayoutModel",
            "justify_items": null,
            "grid_row": null,
            "max_height": null,
            "align_content": null,
            "visibility": null,
            "align_self": null,
            "height": null,
            "min_height": null,
            "padding": null,
            "grid_auto_rows": null,
            "grid_gap": null,
            "max_width": null,
            "order": null,
            "_view_module_version": "1.2.0",
            "grid_template_areas": null,
            "object_position": null,
            "object_fit": null,
            "grid_auto_columns": null,
            "margin": null,
            "display": null,
            "left": null
          }
        }
      }
    }
  },
  "cells": [
    {
      "cell_type": "code",
      "metadata": {
        "id": "QZ4Rz47DglNW"
      },
      "source": [
        "import torch\r\n",
        "import torch.nn as nn\r\n",
        "import torch. optim as optim\r\n",
        "\r\n",
        "from torchvision import utils\r\n",
        "from torchvision import datasets\r\n",
        "from torchvision import transforms\r\n",
        "from torch.utils import data\r\n",
        "\r\n",
        "from PIL import Image\r\n",
        "import urllib. request as request\r\n",
        "from matplotlib import pyplot as plt"
      ],
      "execution_count": null,
      "outputs": []
    },
    {
      "cell_type": "code",
      "metadata": {
        "id": "bgJMVev9gzCb"
      },
      "source": [
        "from torchvision.datasets import STL10"
      ],
      "execution_count": null,
      "outputs": []
    },
    {
      "cell_type": "markdown",
      "metadata": {
        "id": "2fN6BDxyFatR"
      },
      "source": [
        "#**dataset nuevo con dicotomico**\r\n",
        "\r\n",
        "---\r\n",
        "\r\n",
        "---\r\n",
        "\r\n",
        "\r\n",
        "\r\n"
      ]
    },
    {
      "cell_type": "code",
      "metadata": {
        "colab": {
          "base_uri": "https://localhost:8080/",
          "height": 100,
          "referenced_widgets": [
            "1c34c1751ec04a4baffed0c31c268c98",
            "25989c93000348fba9c0397b79e80f41",
            "de033dc86c284fba850cac6f39588e44",
            "9ef56e367e72468585d7846b0f07b7cd",
            "cc4476f5a10946f3a2f9495a36ccd6c8",
            "aa253aea8e214cb48214117e50d542ff",
            "df494da658024df6b1023badad296294",
            "6a67da7f8c344c0bb8dee17e6a8c9b94"
          ]
        },
        "id": "498_Q7YzkBnj",
        "outputId": "45d34b36-5fd8-440d-fc73-6d13ac912c50"
      },
      "source": [
        "data_path = 'data/'\r\n",
        "full_data_set = datasets.STL10(data_path,  split='train',\r\n",
        "                target_transform=None, download=True , transform= transforms.Compose(\r\n",
        "                                                                                       [transforms.ToTensor(),\r\n",
        "                                                                                       transforms.Normalize((0.4914, 0.4822, 0.4465),(0.4914, 0.4822, 0.4465))\r\n",
        "                                                                                        ]))\r\n",
        "full_validation_set  = datasets.STL10(data_path,  split='train',\r\n",
        "                target_transform=None, download=True, transform=transforms.Compose(\r\n",
        "                                                                                                   [transforms.ToTensor(),\r\n",
        "                                                                                                   transforms.Normalize((0.4914, 0.4822, 0.4465),(0.4914, 0.4822, 0.4465))\r\n",
        "                                                                                                   ]))"
      ],
      "execution_count": null,
      "outputs": [
        {
          "output_type": "stream",
          "text": [
            "Downloading http://ai.stanford.edu/~acoates/stl10/stl10_binary.tar.gz to data/stl10_binary.tar.gz\n"
          ],
          "name": "stdout"
        },
        {
          "output_type": "display_data",
          "data": {
            "application/vnd.jupyter.widget-view+json": {
              "model_id": "1c34c1751ec04a4baffed0c31c268c98",
              "version_minor": 0,
              "version_major": 2
            },
            "text/plain": [
              "HBox(children=(FloatProgress(value=1.0, bar_style='info', max=1.0), HTML(value='')))"
            ]
          },
          "metadata": {
            "tags": []
          }
        },
        {
          "output_type": "stream",
          "text": [
            "Extracting data/stl10_binary.tar.gz to data/\n",
            "Files already downloaded and verified\n"
          ],
          "name": "stdout"
        }
      ]
    },
    {
      "cell_type": "code",
      "metadata": {
        "id": "UBZjaw0kiRwv"
      },
      "source": [
        "size = 4\r\n",
        "dataloader = torch.utils.data.DataLoader(full_data_set, batch_size=size, shuffle= True, num_workers=2)"
      ],
      "execution_count": null,
      "outputs": []
    },
    {
      "cell_type": "code",
      "metadata": {
        "colab": {
          "base_uri": "https://localhost:8080/",
          "height": 221
        },
        "id": "gEzVCeQktSsT",
        "outputId": "90ec82d7-e10b-47fe-f14a-7ac4801fbf37"
      },
      "source": [
        "data_iterator = iter(dataloader)\r\n",
        "imgs, labels= data_iterator.next()\r\n",
        "\r\n",
        "\r\n",
        "classes = ['airplane', 'bird', 'car', 'cat', 'deer', 'dog', 'horse', 'monkey', 'ship', 'truck']\r\n",
        "\r\n",
        "plt.imshow(utils.make_grid(imgs).permute(1,2,0))\r\n",
        "\r\n",
        "for i in range(size):\r\n",
        "  print(classes[labels[i]])"
      ],
      "execution_count": null,
      "outputs": [
        {
          "output_type": "stream",
          "text": [
            "Clipping input data to the valid range for imshow with RGB data ([0..1] for floats or [0..255] for integers).\n"
          ],
          "name": "stderr"
        },
        {
          "output_type": "stream",
          "text": [
            "dog\n",
            "dog\n",
            "car\n",
            "ship\n"
          ],
          "name": "stdout"
        },
        {
          "output_type": "display_data",
          "data": {
            "image/png": "[encoded data removed]",
            "text/plain": [
              "<Figure size 432x288 with 1 Axes>"
            ]
          },
          "metadata": {
            "tags": [],
            "needs_background": "light"
          }
        }
      ]
    },
    {
      "cell_type": "code",
      "metadata": {
        "id": "M5LuFtaguZrC"
      },
      "source": [
        "class_names= ['bird', 'cat']\r\n",
        "\r\n",
        "label_map={1:0, 3:1}\r\n",
        "\r\n",
        "data_set= [(img, label_map[label]) for img, label in full_data_set if label in [1,3]]\r\n",
        "validation_set= [(img, label_map[label]) for img, label in full_validation_set if label in [1,3]]"
      ],
      "execution_count": null,
      "outputs": []
    },
    {
      "cell_type": "code",
      "metadata": {
        "colab": {
          "base_uri": "https://localhost:8080/"
        },
        "id": "yKHpUHuQwKHn",
        "outputId": "1ed22cb4-f709-4e1b-a561-4547b16936c2"
      },
      "source": [
        "img, label= data_set[300]\r\n",
        "img.shape"
      ],
      "execution_count": null,
      "outputs": [
        {
          "output_type": "execute_result",
          "data": {
            "text/plain": [
              "torch.Size([3, 96, 96])"
            ]
          },
          "metadata": {
            "tags": []
          },
          "execution_count": 7
        }
      ]
    },
    {
      "cell_type": "code",
      "metadata": {
        "colab": {
          "base_uri": "https://localhost:8080/"
        },
        "id": "y77S2G9vz7FD",
        "outputId": "511dbc93-eb36-4dbf-8a31-1218b6dea8a3"
      },
      "source": [
        "def softmax(x):\r\n",
        "  return torch.exp(x) / torch.exp(x).sum()\r\n",
        "x= torch.tensor([1.0, 2.0, 3.0])\r\n",
        "\r\n",
        "print(softmax(x))\r\n",
        "print(softmax(x).sum())"
      ],
      "execution_count": null,
      "outputs": [
        {
          "output_type": "stream",
          "text": [
            "tensor([0.0900, 0.2447, 0.6652])\n",
            "tensor(1.)\n"
          ],
          "name": "stdout"
        }
      ]
    },
    {
      "cell_type": "code",
      "metadata": {
        "id": "VE-JPLXpz-Ci"
      },
      "source": [
        "model= nn.Sequential(\r\n",
        "    nn.Linear(3 * 96*96, 512),\r\n",
        "    nn.Tanh(),\r\n",
        "    nn.Linear(512, 2),\r\n",
        "    nn.Softmax(dim=1)\r\n",
        ")"
      ],
      "execution_count": null,
      "outputs": []
    },
    {
      "cell_type": "code",
      "metadata": {
        "colab": {
          "base_uri": "https://localhost:8080/",
          "height": 303
        },
        "id": "Tp9tH7O40CGp",
        "outputId": "dfaf2437-0479-42ec-efd9-573fde4825d6"
      },
      "source": [
        "img, label = data_set[400]\r\n",
        "plt.imshow(img.permute(1,2,0))\r\n",
        "class_names[label]"
      ],
      "execution_count": null,
      "outputs": [
        {
          "output_type": "stream",
          "text": [
            "Clipping input data to the valid range for imshow with RGB data ([0..1] for floats or [0..255] for integers).\n"
          ],
          "name": "stderr"
        },
        {
          "output_type": "execute_result",
          "data": {
            "application/vnd.google.colaboratory.intrinsic+json": {
              "type": "string"
            },
            "text/plain": [
              "'cat'"
            ]
          },
          "metadata": {
            "tags": []
          },
          "execution_count": 10
        },
        {
          "output_type": "display_data",
          "data": {
            "image/png": "[encoded data removed]",
            "text/plain": [
              "<Figure size 432x288 with 1 Axes>"
            ]
          },
          "metadata": {
            "tags": [],
            "needs_background": "light"
          }
        }
      ]
    },
    {
      "cell_type": "code",
      "metadata": {
        "colab": {
          "base_uri": "https://localhost:8080/",
          "height": 303
        },
        "id": "DKq_bJoA1fLC",
        "outputId": "b99130c5-5ad1-44df-abde-529e7be5995a"
      },
      "source": [
        "out= model(img.view(-1).unsqueeze(0))\r\n",
        "\r\n",
        "plt.imshow(img.permute(1,2,0))\r\n",
        "class_names[label]"
      ],
      "execution_count": null,
      "outputs": [
        {
          "output_type": "stream",
          "text": [
            "Clipping input data to the valid range for imshow with RGB data ([0..1] for floats or [0..255] for integers).\n"
          ],
          "name": "stderr"
        },
        {
          "output_type": "execute_result",
          "data": {
            "application/vnd.google.colaboratory.intrinsic+json": {
              "type": "string"
            },
            "text/plain": [
              "'cat'"
            ]
          },
          "metadata": {
            "tags": []
          },
          "execution_count": 11
        },
        {
          "output_type": "display_data",
          "data": {
            "image/png": "[encoded data removed]",
            "text/plain": [
              "<Figure size 432x288 with 1 Axes>"
            ]
          },
          "metadata": {
            "tags": [],
            "needs_background": "light"
          }
        }
      ]
    },
    {
      "cell_type": "code",
      "metadata": {
        "colab": {
          "base_uri": "https://localhost:8080/"
        },
        "id": "5DSMKSez7KP0",
        "outputId": "effc5bf1-40bb-4127-9a90-0be3bfb1ba75"
      },
      "source": [
        "out= model(img.view(-1).unsqueeze(0))\r\n",
        "out"
      ],
      "execution_count": null,
      "outputs": [
        {
          "output_type": "execute_result",
          "data": {
            "text/plain": [
              "tensor([[0.5725, 0.4275]], grad_fn=<SoftmaxBackward>)"
            ]
          },
          "metadata": {
            "tags": []
          },
          "execution_count": 12
        }
      ]
    },
    {
      "cell_type": "code",
      "metadata": {
        "colab": {
          "base_uri": "https://localhost:8080/"
        },
        "id": "C5eNgoho7MfV",
        "outputId": "c16e2857-18b5-4a84-807a-0819ca716f0b"
      },
      "source": [
        "_, index = torch.max(out, dim=1)\r\n",
        "\r\n",
        "print('->', class_names[label],'model:', class_names[index])"
      ],
      "execution_count": null,
      "outputs": [
        {
          "output_type": "stream",
          "text": [
            "-> cat model: bird\n"
          ],
          "name": "stdout"
        }
      ]
    },
    {
      "cell_type": "code",
      "metadata": {
        "id": "wsZxMJmY7NXh"
      },
      "source": [
        "model = nn.Sequential(\r\n",
        "    nn.Linear(3* 96*96,512),\r\n",
        "    nn.Tanh(),\r\n",
        "    nn.Linear(512,2),\r\n",
        "    nn.LogSoftmax(dim=1)\r\n",
        ")\r\n",
        "\r\n",
        "loss_function= nn.NLLLoss()"
      ],
      "execution_count": null,
      "outputs": []
    },
    {
      "cell_type": "code",
      "metadata": {
        "colab": {
          "base_uri": "https://localhost:8080/"
        },
        "id": "0o3aBgZz9i5V",
        "outputId": "659fc7c1-3042-47e1-a659-eca01ef8bbd1"
      },
      "source": [
        "\r\n",
        "img, label = data_set[400]\r\n",
        "plt.imshow(img.permute(1,2,0))\r\n",
        "class_names[label]"
      ],
      "execution_count": null,
      "outputs": [
        {
          "output_type": "stream",
          "text": [
            "Clipping input data to the valid range for imshow with RGB data ([0..1] for floats or [0..255] for integers).\n"
          ],
          "name": "stderr"
        },
        {
          "output_type": "execute_result",
          "data": {
            "application/vnd.google.colaboratory.intrinsic+json": {
              "type": "string"
            },
            "text/plain": [
              "'cat'"
            ]
          },
          "metadata": {
            "tags": []
          },
          "execution_count": 15
        },
        {
          "output_type": "display_data",
          "data": {
            "image/png": "[encoded data removed]",
            "text/plain": [
              "<Figure size 432x288 with 1 Axes>"
            ]
          },
          "metadata": {
            "tags": [],
            "needs_background": "light"
          }
        }
      ]
    },
    {
      "cell_type": "code",
      "metadata": {
        "colab": {
          "base_uri": "https://localhost:8080/"
        },
        "id": "jFVYiu_T9tIF",
        "outputId": "21d34e17-7dee-46ec-af39-e8f09ba49eab"
      },
      "source": [
        "out = model(img.view(-1).unsqueeze(0))\r\n",
        "print(out)\r\n",
        "print('->',class_names[label],'model', class_names[index])"
      ],
      "execution_count": null,
      "outputs": [
        {
          "output_type": "stream",
          "text": [
            "tensor([[-0.5290, -0.8897]], grad_fn=<LogSoftmaxBackward>)\n",
            "-> cat model cat\n"
          ],
          "name": "stdout"
        }
      ]
    },
    {
      "cell_type": "code",
      "metadata": {
        "colab": {
          "base_uri": "https://localhost:8080/"
        },
        "id": "P96NkdgY9x9b",
        "outputId": "822e25c6-878e-416f-d1ad-fe4240e1777f"
      },
      "source": [
        "model = nn.Sequential(\r\n",
        "    nn.Linear(3* 96*96,512),\r\n",
        "    nn.Tanh(),\r\n",
        "    nn.Linear(512,2),\r\n",
        "    nn.LogSoftmax(dim=1)\r\n",
        ")\r\n",
        "\r\n",
        "loss_function= nn.NLLLoss()\r\n",
        "\r\n",
        "optimizer= optim.SGD(model.parameters(), lr= 0.01)\r\n",
        "n_epochs= 5\r\n",
        "\r\n",
        "for epoch in range (n_epochs):\r\n",
        "  for img, label in data_set:\r\n",
        "    out = model(img.view(-1).unsqueeze(0))\r\n",
        "    loss = loss_function(out, torch.tensor([label]))\r\n",
        "   \r\n",
        "    optimizer.zero_grad()\r\n",
        "    loss.backward()\r\n",
        "    optimizer.step()\r\n",
        "  print(\"Epoch: %d, Loss: %f\" % (epoch, float(loss)))"
      ],
      "execution_count": null,
      "outputs": [
        {
          "output_type": "stream",
          "text": [
            "Epoch: 0, Loss: 0.437699\n",
            "Epoch: 1, Loss: 0.067105\n",
            "Epoch: 2, Loss: 0.702140\n",
            "Epoch: 3, Loss: 0.000001\n",
            "Epoch: 4, Loss: 0.000109\n"
          ],
          "name": "stdout"
        }
      ]
    },
    {
      "cell_type": "code",
      "metadata": {
        "colab": {
          "base_uri": "https://localhost:8080/"
        },
        "id": "v7yNX7XP-bcU",
        "outputId": "1ae91323-76de-4e63-e1d5-3dbbabf9c079"
      },
      "source": [
        "train_loader = torch.utils.data.DataLoader(data_set, batch_size=64, shuffle=True)\r\n",
        "\r\n",
        "model = nn.Sequential(\r\n",
        "    nn.Linear(3* 96*96,512),\r\n",
        "    nn.Tanh(),\r\n",
        "    nn.Linear(512,2),\r\n",
        "    nn.LogSoftmax(dim=1)\r\n",
        ")\r\n",
        "\r\n",
        "loss_function= nn.NLLLoss()\r\n",
        "\r\n",
        "optimizer= optim.SGD(model.parameters(), lr= 0.01)\r\n",
        "\r\n",
        "n_epochs= 200\r\n",
        "\r\n",
        "for epoch in range (n_epochs):\r\n",
        "  for imgs, labels in train_loader:\r\n",
        "    outputs = model(imgs.view(imgs.shape[0],  -1))\r\n",
        "    loss = loss_function(outputs, labels)\r\n",
        "   \r\n",
        "    optimizer.zero_grad()\r\n",
        "    loss.backward()\r\n",
        "    optimizer.step()\r\n",
        "  print(\"Epoch: %d, Loss: %f\" % (epoch, float(loss)))"
      ],
      "execution_count": null,
      "outputs": [
        {
          "output_type": "stream",
          "text": [
            "Epoch: 0, Loss: 0.746729\n",
            "Epoch: 1, Loss: 0.639540\n",
            "Epoch: 2, Loss: 0.593912\n",
            "Epoch: 3, Loss: 0.620474\n",
            "Epoch: 4, Loss: 0.484348\n",
            "Epoch: 5, Loss: 0.451304\n",
            "Epoch: 6, Loss: 0.454740\n",
            "Epoch: 7, Loss: 0.407695\n",
            "Epoch: 8, Loss: 0.435596\n",
            "Epoch: 9, Loss: 0.342130\n",
            "Epoch: 10, Loss: 0.409278\n",
            "Epoch: 11, Loss: 0.366893\n",
            "Epoch: 12, Loss: 0.305914\n",
            "Epoch: 13, Loss: 0.478963\n",
            "Epoch: 14, Loss: 0.459353\n",
            "Epoch: 15, Loss: 0.283475\n",
            "Epoch: 16, Loss: 0.262010\n",
            "Epoch: 17, Loss: 0.258979\n",
            "Epoch: 18, Loss: 0.161378\n",
            "Epoch: 19, Loss: 0.485519\n",
            "Epoch: 20, Loss: 0.200070\n",
            "Epoch: 21, Loss: 0.301558\n",
            "Epoch: 22, Loss: 0.167872\n",
            "Epoch: 23, Loss: 0.198917\n",
            "Epoch: 24, Loss: 0.246170\n",
            "Epoch: 25, Loss: 0.285779\n",
            "Epoch: 26, Loss: 0.178826\n",
            "Epoch: 27, Loss: 0.122908\n",
            "Epoch: 28, Loss: 0.128113\n",
            "Epoch: 29, Loss: 0.182470\n",
            "Epoch: 30, Loss: 0.125230\n",
            "Epoch: 31, Loss: 0.091430\n",
            "Epoch: 32, Loss: 0.084824\n",
            "Epoch: 33, Loss: 0.231681\n",
            "Epoch: 34, Loss: 0.080250\n",
            "Epoch: 35, Loss: 0.063746\n",
            "Epoch: 36, Loss: 0.085186\n",
            "Epoch: 37, Loss: 0.081785\n",
            "Epoch: 38, Loss: 0.063512\n",
            "Epoch: 39, Loss: 0.070146\n",
            "Epoch: 40, Loss: 0.101171\n",
            "Epoch: 41, Loss: 0.070624\n",
            "Epoch: 42, Loss: 0.050645\n",
            "Epoch: 43, Loss: 0.093888\n",
            "Epoch: 44, Loss: 0.045028\n",
            "Epoch: 45, Loss: 0.036349\n",
            "Epoch: 46, Loss: 0.050819\n",
            "Epoch: 47, Loss: 0.034304\n",
            "Epoch: 48, Loss: 0.047511\n",
            "Epoch: 49, Loss: 0.045239\n",
            "Epoch: 50, Loss: 0.045259\n",
            "Epoch: 51, Loss: 0.041756\n",
            "Epoch: 52, Loss: 0.032776\n",
            "Epoch: 53, Loss: 0.031695\n",
            "Epoch: 54, Loss: 0.027265\n",
            "Epoch: 55, Loss: 0.030131\n",
            "Epoch: 56, Loss: 0.030936\n",
            "Epoch: 57, Loss: 0.033055\n",
            "Epoch: 58, Loss: 0.034858\n",
            "Epoch: 59, Loss: 0.028698\n",
            "Epoch: 60, Loss: 0.017963\n",
            "Epoch: 61, Loss: 0.026741\n",
            "Epoch: 62, Loss: 0.023894\n",
            "Epoch: 63, Loss: 0.021013\n",
            "Epoch: 64, Loss: 0.026681\n",
            "Epoch: 65, Loss: 0.016897\n",
            "Epoch: 66, Loss: 0.023802\n",
            "Epoch: 67, Loss: 0.030844\n",
            "Epoch: 68, Loss: 0.025691\n",
            "Epoch: 69, Loss: 0.015909\n",
            "Epoch: 70, Loss: 0.024368\n",
            "Epoch: 71, Loss: 0.020339\n",
            "Epoch: 72, Loss: 0.015354\n",
            "Epoch: 73, Loss: 0.013783\n",
            "Epoch: 74, Loss: 0.015810\n",
            "Epoch: 75, Loss: 0.014388\n",
            "Epoch: 76, Loss: 0.015755\n",
            "Epoch: 77, Loss: 0.016022\n",
            "Epoch: 78, Loss: 0.016311\n",
            "Epoch: 79, Loss: 0.015952\n",
            "Epoch: 80, Loss: 0.017739\n",
            "Epoch: 81, Loss: 0.013684\n",
            "Epoch: 82, Loss: 0.013520\n",
            "Epoch: 83, Loss: 0.014560\n",
            "Epoch: 84, Loss: 0.019255\n",
            "Epoch: 85, Loss: 0.012274\n",
            "Epoch: 86, Loss: 0.015436\n",
            "Epoch: 87, Loss: 0.014502\n",
            "Epoch: 88, Loss: 0.010098\n",
            "Epoch: 89, Loss: 0.010330\n",
            "Epoch: 90, Loss: 0.009360\n",
            "Epoch: 91, Loss: 0.010097\n",
            "Epoch: 92, Loss: 0.012251\n",
            "Epoch: 93, Loss: 0.008971\n",
            "Epoch: 94, Loss: 0.010702\n",
            "Epoch: 95, Loss: 0.016992\n",
            "Epoch: 96, Loss: 0.009268\n",
            "Epoch: 97, Loss: 0.009820\n",
            "Epoch: 98, Loss: 0.008101\n",
            "Epoch: 99, Loss: 0.009998\n",
            "Epoch: 100, Loss: 0.010976\n",
            "Epoch: 101, Loss: 0.014155\n",
            "Epoch: 102, Loss: 0.009545\n",
            "Epoch: 103, Loss: 0.007316\n",
            "Epoch: 104, Loss: 0.007747\n",
            "Epoch: 105, Loss: 0.012338\n",
            "Epoch: 106, Loss: 0.007052\n",
            "Epoch: 107, Loss: 0.014713\n",
            "Epoch: 108, Loss: 0.009095\n",
            "Epoch: 109, Loss: 0.007744\n",
            "Epoch: 110, Loss: 0.011521\n",
            "Epoch: 111, Loss: 0.010712\n",
            "Epoch: 112, Loss: 0.008675\n",
            "Epoch: 113, Loss: 0.008557\n",
            "Epoch: 114, Loss: 0.007013\n",
            "Epoch: 115, Loss: 0.008529\n",
            "Epoch: 116, Loss: 0.010483\n",
            "Epoch: 117, Loss: 0.011786\n",
            "Epoch: 118, Loss: 0.007605\n",
            "Epoch: 119, Loss: 0.008022\n",
            "Epoch: 120, Loss: 0.005939\n",
            "Epoch: 121, Loss: 0.009412\n",
            "Epoch: 122, Loss: 0.007702\n",
            "Epoch: 123, Loss: 0.007202\n",
            "Epoch: 124, Loss: 0.006123\n",
            "Epoch: 125, Loss: 0.007822\n",
            "Epoch: 126, Loss: 0.007920\n",
            "Epoch: 127, Loss: 0.008020\n",
            "Epoch: 128, Loss: 0.004723\n",
            "Epoch: 129, Loss: 0.007026\n",
            "Epoch: 130, Loss: 0.006300\n",
            "Epoch: 131, Loss: 0.006445\n",
            "Epoch: 132, Loss: 0.006871\n",
            "Epoch: 133, Loss: 0.005909\n",
            "Epoch: 134, Loss: 0.005436\n",
            "Epoch: 135, Loss: 0.007661\n",
            "Epoch: 136, Loss: 0.007559\n",
            "Epoch: 137, Loss: 0.006920\n",
            "Epoch: 138, Loss: 0.006407\n",
            "Epoch: 139, Loss: 0.005005\n",
            "Epoch: 140, Loss: 0.005054\n",
            "Epoch: 141, Loss: 0.005368\n",
            "Epoch: 142, Loss: 0.007015\n",
            "Epoch: 143, Loss: 0.005364\n",
            "Epoch: 144, Loss: 0.005130\n",
            "Epoch: 145, Loss: 0.006919\n",
            "Epoch: 146, Loss: 0.005392\n",
            "Epoch: 147, Loss: 0.003940\n",
            "Epoch: 148, Loss: 0.004944\n",
            "Epoch: 149, Loss: 0.006154\n",
            "Epoch: 150, Loss: 0.006054\n",
            "Epoch: 151, Loss: 0.006198\n",
            "Epoch: 152, Loss: 0.004790\n",
            "Epoch: 153, Loss: 0.004517\n",
            "Epoch: 154, Loss: 0.004452\n",
            "Epoch: 155, Loss: 0.003210\n",
            "Epoch: 156, Loss: 0.004052\n",
            "Epoch: 157, Loss: 0.004547\n",
            "Epoch: 158, Loss: 0.004754\n",
            "Epoch: 159, Loss: 0.005016\n",
            "Epoch: 160, Loss: 0.005619\n",
            "Epoch: 161, Loss: 0.005649\n",
            "Epoch: 162, Loss: 0.004267\n",
            "Epoch: 163, Loss: 0.003425\n",
            "Epoch: 164, Loss: 0.004673\n",
            "Epoch: 165, Loss: 0.004984\n",
            "Epoch: 166, Loss: 0.003173\n",
            "Epoch: 167, Loss: 0.006126\n",
            "Epoch: 168, Loss: 0.003859\n",
            "Epoch: 169, Loss: 0.005142\n",
            "Epoch: 170, Loss: 0.003054\n",
            "Epoch: 171, Loss: 0.004692\n",
            "Epoch: 172, Loss: 0.004393\n",
            "Epoch: 173, Loss: 0.004844\n",
            "Epoch: 174, Loss: 0.003974\n",
            "Epoch: 175, Loss: 0.003429\n",
            "Epoch: 176, Loss: 0.004049\n",
            "Epoch: 177, Loss: 0.005967\n",
            "Epoch: 178, Loss: 0.003633\n",
            "Epoch: 179, Loss: 0.004810\n",
            "Epoch: 180, Loss: 0.004098\n",
            "Epoch: 181, Loss: 0.003610\n",
            "Epoch: 182, Loss: 0.004904\n",
            "Epoch: 183, Loss: 0.003039\n",
            "Epoch: 184, Loss: 0.003547\n",
            "Epoch: 185, Loss: 0.003658\n",
            "Epoch: 186, Loss: 0.003200\n",
            "Epoch: 187, Loss: 0.003641\n",
            "Epoch: 188, Loss: 0.003525\n",
            "Epoch: 189, Loss: 0.003638\n",
            "Epoch: 190, Loss: 0.002555\n",
            "Epoch: 191, Loss: 0.003850\n",
            "Epoch: 192, Loss: 0.004501\n",
            "Epoch: 193, Loss: 0.004403\n",
            "Epoch: 194, Loss: 0.004527\n",
            "Epoch: 195, Loss: 0.005155\n",
            "Epoch: 196, Loss: 0.002778\n",
            "Epoch: 197, Loss: 0.002966\n",
            "Epoch: 198, Loss: 0.003575\n",
            "Epoch: 199, Loss: 0.002236\n"
          ],
          "name": "stdout"
        }
      ]
    },
    {
      "cell_type": "code",
      "metadata": {
        "colab": {
          "base_uri": "https://localhost:8080/",
          "height": 302
        },
        "id": "uXtgeNi3_QAd",
        "outputId": "706b44db-5374-48d9-89f2-b036a5ba1939"
      },
      "source": [
        "img, label = validation_set[300]\r\n",
        "out = model(img.view(-1).unsqueeze(0))\r\n",
        "\r\n",
        "_, index = torch.max(out, dim =1)\r\n",
        "\r\n",
        "\r\n",
        "print ('->: ', class_names[label], 'model:', class_names[index]) \r\n",
        "plt.imshow(img.permute(1,2,0))\r\n",
        "plt.show()"
      ],
      "execution_count": null,
      "outputs": [
        {
          "output_type": "stream",
          "text": [
            "Clipping input data to the valid range for imshow with RGB data ([0..1] for floats or [0..255] for integers).\n"
          ],
          "name": "stderr"
        },
        {
          "output_type": "stream",
          "text": [
            "->:  bird model: bird\n"
          ],
          "name": "stdout"
        },
        {
          "output_type": "display_data",
          "data": {
            "image/png": "[encoded data removed]",
            "text/plain": [
              "<Figure size 432x288 with 1 Axes>"
            ]
          },
          "metadata": {
            "tags": [],
            "needs_background": "light"
          }
        }
      ]
    },
    {
      "cell_type": "code",
      "metadata": {
        "colab": {
          "base_uri": "https://localhost:8080/"
        },
        "id": "pR0BkYEsAV39",
        "outputId": "eda3b53c-5009-41b2-c4a4-1ce1ce73cfd9"
      },
      "source": [
        "train_loader = torch.utils.data.DataLoader(data_set, batch_size=64, shuffle= True)\r\n",
        "\r\n",
        "\r\n",
        "model = nn.Sequential(\r\n",
        "    nn.Linear(3* 96*96,512),\r\n",
        "    nn.Tanh(),\r\n",
        "    nn.Linear(512,2),\r\n",
        "    nn.LogSoftmax(dim=1)\r\n",
        ")\r\n",
        "\r\n",
        "\r\n",
        "\r\n",
        "loss_function= nn.CrossEntropyLoss()\r\n",
        "\r\n",
        "optimizer = optim.SGD(model.parameters(), lr=0.01)\r\n",
        "n_epochs = 100\r\n",
        "\r\n",
        "\r\n",
        "for epoch in range(n_epochs):\r\n",
        "  for img, label in train_loader:\r\n",
        "    out = model(img.view(img.shape[0], -1))\r\n",
        "    loss = loss_function(out, label)\r\n",
        "\r\n",
        "    optimizer.zero_grad()\r\n",
        "    loss.backward()\r\n",
        "    optimizer.step()\r\n",
        "\r\n",
        "    print(\"Epoch: %d, Loss: %f\"  % (epoch, float(loss)))"
      ],
      "execution_count": null,
      "outputs": [
        {
          "output_type": "stream",
          "text": [
            "Epoch: 0, Loss: 0.683048\n",
            "Epoch: 0, Loss: 0.759931\n",
            "Epoch: 0, Loss: 0.743118\n",
            "Epoch: 0, Loss: 0.756506\n",
            "Epoch: 0, Loss: 0.709521\n",
            "Epoch: 0, Loss: 0.623452\n",
            "Epoch: 0, Loss: 0.687606\n",
            "Epoch: 0, Loss: 0.795568\n",
            "Epoch: 0, Loss: 0.741376\n",
            "Epoch: 0, Loss: 0.754912\n",
            "Epoch: 0, Loss: 0.697686\n",
            "Epoch: 0, Loss: 0.801382\n",
            "Epoch: 0, Loss: 0.585970\n",
            "Epoch: 0, Loss: 0.625518\n",
            "Epoch: 0, Loss: 0.679945\n",
            "Epoch: 0, Loss: 0.637235\n",
            "Epoch: 1, Loss: 0.610115\n",
            "Epoch: 1, Loss: 0.602298\n",
            "Epoch: 1, Loss: 0.562870\n",
            "Epoch: 1, Loss: 0.603827\n",
            "Epoch: 1, Loss: 0.520068\n",
            "Epoch: 1, Loss: 0.741688\n",
            "Epoch: 1, Loss: 0.641473\n",
            "Epoch: 1, Loss: 0.968247\n",
            "Epoch: 1, Loss: 0.863486\n",
            "Epoch: 1, Loss: 0.622041\n",
            "Epoch: 1, Loss: 0.609480\n",
            "Epoch: 1, Loss: 0.625535\n",
            "Epoch: 1, Loss: 0.606019\n",
            "Epoch: 1, Loss: 0.550362\n",
            "Epoch: 1, Loss: 0.573595\n",
            "Epoch: 1, Loss: 0.520640\n",
            "Epoch: 2, Loss: 0.550848\n",
            "Epoch: 2, Loss: 0.607002\n",
            "Epoch: 2, Loss: 0.625517\n",
            "Epoch: 2, Loss: 0.524571\n",
            "Epoch: 2, Loss: 0.691997\n",
            "Epoch: 2, Loss: 0.643465\n",
            "Epoch: 2, Loss: 0.669232\n",
            "Epoch: 2, Loss: 0.522459\n",
            "Epoch: 2, Loss: 0.596145\n",
            "Epoch: 2, Loss: 0.511950\n",
            "Epoch: 2, Loss: 0.522319\n",
            "Epoch: 2, Loss: 0.619076\n",
            "Epoch: 2, Loss: 0.598905\n",
            "Epoch: 2, Loss: 0.551624\n",
            "Epoch: 2, Loss: 0.495640\n",
            "Epoch: 2, Loss: 0.516307\n",
            "Epoch: 3, Loss: 0.556447\n",
            "Epoch: 3, Loss: 0.579011\n",
            "Epoch: 3, Loss: 0.578998\n",
            "Epoch: 3, Loss: 0.549169\n",
            "Epoch: 3, Loss: 0.548375\n",
            "Epoch: 3, Loss: 0.576502\n",
            "Epoch: 3, Loss: 0.554147\n",
            "Epoch: 3, Loss: 0.537784\n",
            "Epoch: 3, Loss: 0.545537\n",
            "Epoch: 3, Loss: 0.501060\n",
            "Epoch: 3, Loss: 0.571922\n",
            "Epoch: 3, Loss: 0.533623\n",
            "Epoch: 3, Loss: 0.546431\n",
            "Epoch: 3, Loss: 0.639231\n",
            "Epoch: 3, Loss: 0.702720\n",
            "Epoch: 3, Loss: 0.585902\n",
            "Epoch: 4, Loss: 0.554748\n",
            "Epoch: 4, Loss: 0.530030\n",
            "Epoch: 4, Loss: 0.550016\n",
            "Epoch: 4, Loss: 0.455093\n",
            "Epoch: 4, Loss: 0.477708\n",
            "Epoch: 4, Loss: 0.507283\n",
            "Epoch: 4, Loss: 0.577447\n",
            "Epoch: 4, Loss: 0.619499\n",
            "Epoch: 4, Loss: 0.631223\n",
            "Epoch: 4, Loss: 0.529846\n",
            "Epoch: 4, Loss: 0.584939\n",
            "Epoch: 4, Loss: 0.433345\n",
            "Epoch: 4, Loss: 0.514151\n",
            "Epoch: 4, Loss: 0.479585\n",
            "Epoch: 4, Loss: 0.491751\n",
            "Epoch: 4, Loss: 0.622815\n",
            "Epoch: 5, Loss: 0.468182\n",
            "Epoch: 5, Loss: 0.449953\n",
            "Epoch: 5, Loss: 0.410276\n",
            "Epoch: 5, Loss: 0.465529\n",
            "Epoch: 5, Loss: 0.586366\n",
            "Epoch: 5, Loss: 0.515321\n",
            "Epoch: 5, Loss: 0.466721\n",
            "Epoch: 5, Loss: 0.486879\n",
            "Epoch: 5, Loss: 0.538830\n",
            "Epoch: 5, Loss: 0.505131\n",
            "Epoch: 5, Loss: 0.449493\n",
            "Epoch: 5, Loss: 0.529618\n",
            "Epoch: 5, Loss: 0.497552\n",
            "Epoch: 5, Loss: 0.421768\n",
            "Epoch: 5, Loss: 0.512777\n",
            "Epoch: 5, Loss: 0.527923\n",
            "Epoch: 6, Loss: 0.431124\n",
            "Epoch: 6, Loss: 0.432640\n",
            "Epoch: 6, Loss: 0.434567\n",
            "Epoch: 6, Loss: 0.541284\n",
            "Epoch: 6, Loss: 0.472685\n",
            "Epoch: 6, Loss: 0.549930\n",
            "Epoch: 6, Loss: 0.438454\n",
            "Epoch: 6, Loss: 0.369322\n",
            "Epoch: 6, Loss: 0.470443\n",
            "Epoch: 6, Loss: 0.517019\n",
            "Epoch: 6, Loss: 0.494087\n",
            "Epoch: 6, Loss: 0.555168\n",
            "Epoch: 6, Loss: 0.357399\n",
            "Epoch: 6, Loss: 0.465624\n",
            "Epoch: 6, Loss: 0.602369\n",
            "Epoch: 6, Loss: 0.543915\n",
            "Epoch: 7, Loss: 0.461919\n",
            "Epoch: 7, Loss: 0.469677\n",
            "Epoch: 7, Loss: 0.424059\n",
            "Epoch: 7, Loss: 0.390501\n",
            "Epoch: 7, Loss: 0.443953\n",
            "Epoch: 7, Loss: 0.465185\n",
            "Epoch: 7, Loss: 0.438501\n",
            "Epoch: 7, Loss: 0.464895\n",
            "Epoch: 7, Loss: 0.426868\n",
            "Epoch: 7, Loss: 0.511242\n",
            "Epoch: 7, Loss: 0.580696\n",
            "Epoch: 7, Loss: 0.482142\n",
            "Epoch: 7, Loss: 0.579817\n",
            "Epoch: 7, Loss: 0.504178\n",
            "Epoch: 7, Loss: 0.469472\n",
            "Epoch: 7, Loss: 0.540315\n",
            "Epoch: 8, Loss: 0.465349\n",
            "Epoch: 8, Loss: 0.352960\n",
            "Epoch: 8, Loss: 0.458499\n",
            "Epoch: 8, Loss: 0.342562\n",
            "Epoch: 8, Loss: 0.462488\n",
            "Epoch: 8, Loss: 0.467618\n",
            "Epoch: 8, Loss: 0.402740\n",
            "Epoch: 8, Loss: 0.464411\n",
            "Epoch: 8, Loss: 0.418074\n",
            "Epoch: 8, Loss: 0.461447\n",
            "Epoch: 8, Loss: 0.492227\n",
            "Epoch: 8, Loss: 0.460941\n",
            "Epoch: 8, Loss: 0.436226\n",
            "Epoch: 8, Loss: 0.495892\n",
            "Epoch: 8, Loss: 0.406879\n",
            "Epoch: 8, Loss: 0.463027\n",
            "Epoch: 9, Loss: 0.386252\n",
            "Epoch: 9, Loss: 0.401713\n",
            "Epoch: 9, Loss: 0.422056\n",
            "Epoch: 9, Loss: 0.395753\n",
            "Epoch: 9, Loss: 0.390819\n",
            "Epoch: 9, Loss: 0.465908\n",
            "Epoch: 9, Loss: 0.353211\n",
            "Epoch: 9, Loss: 0.437154\n",
            "Epoch: 9, Loss: 0.443215\n",
            "Epoch: 9, Loss: 0.417820\n",
            "Epoch: 9, Loss: 0.435889\n",
            "Epoch: 9, Loss: 0.375859\n",
            "Epoch: 9, Loss: 0.433468\n",
            "Epoch: 9, Loss: 0.354645\n",
            "Epoch: 9, Loss: 0.366838\n",
            "Epoch: 9, Loss: 0.374384\n",
            "Epoch: 10, Loss: 0.317269\n",
            "Epoch: 10, Loss: 0.333117\n",
            "Epoch: 10, Loss: 0.363444\n",
            "Epoch: 10, Loss: 0.418448\n",
            "Epoch: 10, Loss: 0.470142\n",
            "Epoch: 10, Loss: 0.430968\n",
            "Epoch: 10, Loss: 0.376929\n",
            "Epoch: 10, Loss: 0.435905\n",
            "Epoch: 10, Loss: 0.516547\n",
            "Epoch: 10, Loss: 0.479103\n",
            "Epoch: 10, Loss: 0.407133\n",
            "Epoch: 10, Loss: 0.356649\n",
            "Epoch: 10, Loss: 0.470451\n",
            "Epoch: 10, Loss: 0.379227\n",
            "Epoch: 10, Loss: 0.475014\n",
            "Epoch: 10, Loss: 0.429295\n",
            "Epoch: 11, Loss: 0.368092\n",
            "Epoch: 11, Loss: 0.389078\n",
            "Epoch: 11, Loss: 0.350791\n",
            "Epoch: 11, Loss: 0.358136\n",
            "Epoch: 11, Loss: 0.379356\n",
            "Epoch: 11, Loss: 0.298219\n",
            "Epoch: 11, Loss: 0.338651\n",
            "Epoch: 11, Loss: 0.309811\n",
            "Epoch: 11, Loss: 0.332427\n",
            "Epoch: 11, Loss: 0.380347\n",
            "Epoch: 11, Loss: 0.409036\n",
            "Epoch: 11, Loss: 0.554584\n",
            "Epoch: 11, Loss: 0.505201\n",
            "Epoch: 11, Loss: 0.523730\n",
            "Epoch: 11, Loss: 0.647005\n",
            "Epoch: 11, Loss: 1.014611\n",
            "Epoch: 12, Loss: 0.519437\n",
            "Epoch: 12, Loss: 0.424177\n",
            "Epoch: 12, Loss: 0.381929\n",
            "Epoch: 12, Loss: 0.263415\n",
            "Epoch: 12, Loss: 0.437451\n",
            "Epoch: 12, Loss: 0.328150\n",
            "Epoch: 12, Loss: 0.421841\n",
            "Epoch: 12, Loss: 0.378891\n",
            "Epoch: 12, Loss: 0.377560\n",
            "Epoch: 12, Loss: 0.295102\n",
            "Epoch: 12, Loss: 0.509592\n",
            "Epoch: 12, Loss: 0.593145\n",
            "Epoch: 12, Loss: 0.501305\n",
            "Epoch: 12, Loss: 0.378849\n",
            "Epoch: 12, Loss: 0.435945\n",
            "Epoch: 12, Loss: 0.361388\n",
            "Epoch: 13, Loss: 0.335048\n",
            "Epoch: 13, Loss: 0.352861\n",
            "Epoch: 13, Loss: 0.328153\n",
            "Epoch: 13, Loss: 0.331800\n",
            "Epoch: 13, Loss: 0.351874\n",
            "Epoch: 13, Loss: 0.301526\n",
            "Epoch: 13, Loss: 0.340341\n",
            "Epoch: 13, Loss: 0.297791\n",
            "Epoch: 13, Loss: 0.379098\n",
            "Epoch: 13, Loss: 0.324759\n",
            "Epoch: 13, Loss: 0.330723\n",
            "Epoch: 13, Loss: 0.326142\n",
            "Epoch: 13, Loss: 0.308849\n",
            "Epoch: 13, Loss: 0.385291\n",
            "Epoch: 13, Loss: 0.378665\n",
            "Epoch: 13, Loss: 0.253203\n",
            "Epoch: 14, Loss: 0.384559\n",
            "Epoch: 14, Loss: 0.293294\n",
            "Epoch: 14, Loss: 0.255983\n",
            "Epoch: 14, Loss: 0.394036\n",
            "Epoch: 14, Loss: 0.390441\n",
            "Epoch: 14, Loss: 0.389167\n",
            "Epoch: 14, Loss: 0.402466\n",
            "Epoch: 14, Loss: 0.311794\n",
            "Epoch: 14, Loss: 0.279030\n",
            "Epoch: 14, Loss: 0.368647\n",
            "Epoch: 14, Loss: 0.456395\n",
            "Epoch: 14, Loss: 0.502354\n",
            "Epoch: 14, Loss: 0.471986\n",
            "Epoch: 14, Loss: 0.494037\n",
            "Epoch: 14, Loss: 0.584528\n",
            "Epoch: 14, Loss: 0.352672\n",
            "Epoch: 15, Loss: 0.297539\n",
            "Epoch: 15, Loss: 0.271190\n",
            "Epoch: 15, Loss: 0.337268\n",
            "Epoch: 15, Loss: 0.315142\n",
            "Epoch: 15, Loss: 0.350802\n",
            "Epoch: 15, Loss: 0.322963\n",
            "Epoch: 15, Loss: 0.302286\n",
            "Epoch: 15, Loss: 0.309452\n",
            "Epoch: 15, Loss: 0.345660\n",
            "Epoch: 15, Loss: 0.326918\n",
            "Epoch: 15, Loss: 0.269596\n",
            "Epoch: 15, Loss: 0.281294\n",
            "Epoch: 15, Loss: 0.253354\n",
            "Epoch: 15, Loss: 0.243834\n",
            "Epoch: 15, Loss: 0.301458\n",
            "Epoch: 15, Loss: 0.297221\n",
            "Epoch: 16, Loss: 0.248129\n",
            "Epoch: 16, Loss: 0.232653\n",
            "Epoch: 16, Loss: 0.269046\n",
            "Epoch: 16, Loss: 0.386200\n",
            "Epoch: 16, Loss: 0.416549\n",
            "Epoch: 16, Loss: 0.390461\n",
            "Epoch: 16, Loss: 0.314141\n",
            "Epoch: 16, Loss: 0.296608\n",
            "Epoch: 16, Loss: 0.293736\n",
            "Epoch: 16, Loss: 0.295480\n",
            "Epoch: 16, Loss: 0.327074\n",
            "Epoch: 16, Loss: 0.257047\n",
            "Epoch: 16, Loss: 0.293008\n",
            "Epoch: 16, Loss: 0.210929\n",
            "Epoch: 16, Loss: 0.291288\n",
            "Epoch: 16, Loss: 0.284040\n",
            "Epoch: 17, Loss: 0.237501\n",
            "Epoch: 17, Loss: 0.371102\n",
            "Epoch: 17, Loss: 0.384179\n",
            "Epoch: 17, Loss: 0.249182\n",
            "Epoch: 17, Loss: 0.301136\n",
            "Epoch: 17, Loss: 0.210580\n",
            "Epoch: 17, Loss: 0.359810\n",
            "Epoch: 17, Loss: 0.239923\n",
            "Epoch: 17, Loss: 0.205515\n",
            "Epoch: 17, Loss: 0.226668\n",
            "Epoch: 17, Loss: 0.218714\n",
            "Epoch: 17, Loss: 0.265420\n",
            "Epoch: 17, Loss: 0.316943\n",
            "Epoch: 17, Loss: 0.362450\n",
            "Epoch: 17, Loss: 0.356184\n",
            "Epoch: 17, Loss: 0.455999\n",
            "Epoch: 18, Loss: 0.425065\n",
            "Epoch: 18, Loss: 0.368796\n",
            "Epoch: 18, Loss: 0.225595\n",
            "Epoch: 18, Loss: 0.307908\n",
            "Epoch: 18, Loss: 0.249892\n",
            "Epoch: 18, Loss: 0.235272\n",
            "Epoch: 18, Loss: 0.273775\n",
            "Epoch: 18, Loss: 0.373484\n",
            "Epoch: 18, Loss: 0.413348\n",
            "Epoch: 18, Loss: 0.318512\n",
            "Epoch: 18, Loss: 0.272536\n",
            "Epoch: 18, Loss: 0.232109\n",
            "Epoch: 18, Loss: 0.231795\n",
            "Epoch: 18, Loss: 0.245907\n",
            "Epoch: 18, Loss: 0.358118\n",
            "Epoch: 18, Loss: 0.319333\n",
            "Epoch: 19, Loss: 0.488419\n",
            "Epoch: 19, Loss: 0.232549\n",
            "Epoch: 19, Loss: 0.267529\n",
            "Epoch: 19, Loss: 0.273380\n",
            "Epoch: 19, Loss: 0.305565\n",
            "Epoch: 19, Loss: 0.250693\n",
            "Epoch: 19, Loss: 0.238215\n",
            "Epoch: 19, Loss: 0.246206\n",
            "Epoch: 19, Loss: 0.218626\n",
            "Epoch: 19, Loss: 0.201922\n",
            "Epoch: 19, Loss: 0.284748\n",
            "Epoch: 19, Loss: 0.292737\n",
            "Epoch: 19, Loss: 0.432517\n",
            "Epoch: 19, Loss: 0.435612\n",
            "Epoch: 19, Loss: 0.415811\n",
            "Epoch: 19, Loss: 0.389904\n",
            "Epoch: 20, Loss: 0.259390\n",
            "Epoch: 20, Loss: 0.320388\n",
            "Epoch: 20, Loss: 0.232067\n",
            "Epoch: 20, Loss: 0.268252\n",
            "Epoch: 20, Loss: 0.220192\n",
            "Epoch: 20, Loss: 0.225286\n",
            "Epoch: 20, Loss: 0.217422\n",
            "Epoch: 20, Loss: 0.218588\n",
            "Epoch: 20, Loss: 0.209971\n",
            "Epoch: 20, Loss: 0.182881\n",
            "Epoch: 20, Loss: 0.241610\n",
            "Epoch: 20, Loss: 0.231817\n",
            "Epoch: 20, Loss: 0.270485\n",
            "Epoch: 20, Loss: 0.247686\n",
            "Epoch: 20, Loss: 0.200601\n",
            "Epoch: 20, Loss: 0.245435\n",
            "Epoch: 21, Loss: 0.173912\n",
            "Epoch: 21, Loss: 0.253131\n",
            "Epoch: 21, Loss: 0.194210\n",
            "Epoch: 21, Loss: 0.162457\n",
            "Epoch: 21, Loss: 0.184905\n",
            "Epoch: 21, Loss: 0.259338\n",
            "Epoch: 21, Loss: 0.205642\n",
            "Epoch: 21, Loss: 0.269294\n",
            "Epoch: 21, Loss: 0.272819\n",
            "Epoch: 21, Loss: 0.366058\n",
            "Epoch: 21, Loss: 0.384128\n",
            "Epoch: 21, Loss: 0.270035\n",
            "Epoch: 21, Loss: 0.208872\n",
            "Epoch: 21, Loss: 0.239152\n",
            "Epoch: 21, Loss: 0.249906\n",
            "Epoch: 21, Loss: 0.212453\n",
            "Epoch: 22, Loss: 0.218310\n",
            "Epoch: 22, Loss: 0.219861\n",
            "Epoch: 22, Loss: 0.207314\n",
            "Epoch: 22, Loss: 0.226250\n",
            "Epoch: 22, Loss: 0.205172\n",
            "Epoch: 22, Loss: 0.328625\n",
            "Epoch: 22, Loss: 0.513279\n",
            "Epoch: 22, Loss: 0.456138\n",
            "Epoch: 22, Loss: 0.258501\n",
            "Epoch: 22, Loss: 0.173679\n",
            "Epoch: 22, Loss: 0.213856\n",
            "Epoch: 22, Loss: 0.193569\n",
            "Epoch: 22, Loss: 0.202430\n",
            "Epoch: 22, Loss: 0.217472\n",
            "Epoch: 22, Loss: 0.231354\n",
            "Epoch: 22, Loss: 0.185070\n",
            "Epoch: 23, Loss: 0.209765\n",
            "Epoch: 23, Loss: 0.249484\n",
            "Epoch: 23, Loss: 0.261860\n",
            "Epoch: 23, Loss: 0.236297\n",
            "Epoch: 23, Loss: 0.180453\n",
            "Epoch: 23, Loss: 0.194772\n",
            "Epoch: 23, Loss: 0.126427\n",
            "Epoch: 23, Loss: 0.222194\n",
            "Epoch: 23, Loss: 0.148523\n",
            "Epoch: 23, Loss: 0.160648\n",
            "Epoch: 23, Loss: 0.361339\n",
            "Epoch: 23, Loss: 0.465676\n",
            "Epoch: 23, Loss: 0.368290\n",
            "Epoch: 23, Loss: 0.418477\n",
            "Epoch: 23, Loss: 0.581114\n",
            "Epoch: 23, Loss: 0.402876\n",
            "Epoch: 24, Loss: 0.212693\n",
            "Epoch: 24, Loss: 0.190383\n",
            "Epoch: 24, Loss: 0.214580\n",
            "Epoch: 24, Loss: 0.191522\n",
            "Epoch: 24, Loss: 0.186728\n",
            "Epoch: 24, Loss: 0.140543\n",
            "Epoch: 24, Loss: 0.176406\n",
            "Epoch: 24, Loss: 0.170639\n",
            "Epoch: 24, Loss: 0.137900\n",
            "Epoch: 24, Loss: 0.155979\n",
            "Epoch: 24, Loss: 0.149870\n",
            "Epoch: 24, Loss: 0.198603\n",
            "Epoch: 24, Loss: 0.187933\n",
            "Epoch: 24, Loss: 0.147657\n",
            "Epoch: 24, Loss: 0.226602\n",
            "Epoch: 24, Loss: 0.185844\n",
            "Epoch: 25, Loss: 0.162170\n",
            "Epoch: 25, Loss: 0.141595\n",
            "Epoch: 25, Loss: 0.132018\n",
            "Epoch: 25, Loss: 0.182955\n",
            "Epoch: 25, Loss: 0.134440\n",
            "Epoch: 25, Loss: 0.215058\n",
            "Epoch: 25, Loss: 0.172692\n",
            "Epoch: 25, Loss: 0.138899\n",
            "Epoch: 25, Loss: 0.142625\n",
            "Epoch: 25, Loss: 0.185601\n",
            "Epoch: 25, Loss: 0.202727\n",
            "Epoch: 25, Loss: 0.156346\n",
            "Epoch: 25, Loss: 0.178814\n",
            "Epoch: 25, Loss: 0.197474\n",
            "Epoch: 25, Loss: 0.147017\n",
            "Epoch: 25, Loss: 0.108474\n",
            "Epoch: 26, Loss: 0.118921\n",
            "Epoch: 26, Loss: 0.118467\n",
            "Epoch: 26, Loss: 0.141978\n",
            "Epoch: 26, Loss: 0.141195\n",
            "Epoch: 26, Loss: 0.129411\n",
            "Epoch: 26, Loss: 0.150531\n",
            "Epoch: 26, Loss: 0.128839\n",
            "Epoch: 26, Loss: 0.153484\n",
            "Epoch: 26, Loss: 0.131997\n",
            "Epoch: 26, Loss: 0.168900\n",
            "Epoch: 26, Loss: 0.121421\n",
            "Epoch: 26, Loss: 0.169387\n",
            "Epoch: 26, Loss: 0.188662\n",
            "Epoch: 26, Loss: 0.151258\n",
            "Epoch: 26, Loss: 0.198805\n",
            "Epoch: 26, Loss: 0.170025\n",
            "Epoch: 27, Loss: 0.167107\n",
            "Epoch: 27, Loss: 0.139692\n",
            "Epoch: 27, Loss: 0.123944\n",
            "Epoch: 27, Loss: 0.115130\n",
            "Epoch: 27, Loss: 0.118551\n",
            "Epoch: 27, Loss: 0.166320\n",
            "Epoch: 27, Loss: 0.188910\n",
            "Epoch: 27, Loss: 0.163096\n",
            "Epoch: 27, Loss: 0.191213\n",
            "Epoch: 27, Loss: 0.136650\n",
            "Epoch: 27, Loss: 0.123724\n",
            "Epoch: 27, Loss: 0.191307\n",
            "Epoch: 27, Loss: 0.208080\n",
            "Epoch: 27, Loss: 0.175481\n",
            "Epoch: 27, Loss: 0.166267\n",
            "Epoch: 27, Loss: 0.097182\n",
            "Epoch: 28, Loss: 0.105280\n",
            "Epoch: 28, Loss: 0.144700\n",
            "Epoch: 28, Loss: 0.126049\n",
            "Epoch: 28, Loss: 0.128786\n",
            "Epoch: 28, Loss: 0.125716\n",
            "Epoch: 28, Loss: 0.108471\n",
            "Epoch: 28, Loss: 0.127970\n",
            "Epoch: 28, Loss: 0.117163\n",
            "Epoch: 28, Loss: 0.188536\n",
            "Epoch: 28, Loss: 0.144862\n",
            "Epoch: 28, Loss: 0.134415\n",
            "Epoch: 28, Loss: 0.142181\n",
            "Epoch: 28, Loss: 0.145672\n",
            "Epoch: 28, Loss: 0.162198\n",
            "Epoch: 28, Loss: 0.132074\n",
            "Epoch: 28, Loss: 0.128675\n",
            "Epoch: 29, Loss: 0.105256\n",
            "Epoch: 29, Loss: 0.152522\n",
            "Epoch: 29, Loss: 0.097620\n",
            "Epoch: 29, Loss: 0.097955\n",
            "Epoch: 29, Loss: 0.176842\n",
            "Epoch: 29, Loss: 0.128094\n",
            "Epoch: 29, Loss: 0.124586\n",
            "Epoch: 29, Loss: 0.157778\n",
            "Epoch: 29, Loss: 0.128578\n",
            "Epoch: 29, Loss: 0.090777\n",
            "Epoch: 29, Loss: 0.116086\n",
            "Epoch: 29, Loss: 0.097163\n",
            "Epoch: 29, Loss: 0.100040\n",
            "Epoch: 29, Loss: 0.124940\n",
            "Epoch: 29, Loss: 0.134196\n",
            "Epoch: 29, Loss: 0.103833\n",
            "Epoch: 30, Loss: 0.119864\n",
            "Epoch: 30, Loss: 0.089622\n",
            "Epoch: 30, Loss: 0.086025\n",
            "Epoch: 30, Loss: 0.144201\n",
            "Epoch: 30, Loss: 0.234799\n",
            "Epoch: 30, Loss: 0.266262\n",
            "Epoch: 30, Loss: 0.210837\n",
            "Epoch: 30, Loss: 0.138490\n",
            "Epoch: 30, Loss: 0.189221\n",
            "Epoch: 30, Loss: 0.229312\n",
            "Epoch: 30, Loss: 0.180348\n",
            "Epoch: 30, Loss: 0.124243\n",
            "Epoch: 30, Loss: 0.110128\n",
            "Epoch: 30, Loss: 0.098099\n",
            "Epoch: 30, Loss: 0.118560\n",
            "Epoch: 30, Loss: 0.125659\n",
            "Epoch: 31, Loss: 0.105179\n",
            "Epoch: 31, Loss: 0.166989\n",
            "Epoch: 31, Loss: 0.164001\n",
            "Epoch: 31, Loss: 0.119531\n",
            "Epoch: 31, Loss: 0.120135\n",
            "Epoch: 31, Loss: 0.153125\n",
            "Epoch: 31, Loss: 0.149276\n",
            "Epoch: 31, Loss: 0.133843\n",
            "Epoch: 31, Loss: 0.182467\n",
            "Epoch: 31, Loss: 0.146897\n",
            "Epoch: 31, Loss: 0.101085\n",
            "Epoch: 31, Loss: 0.124563\n",
            "Epoch: 31, Loss: 0.160030\n",
            "Epoch: 31, Loss: 0.210680\n",
            "Epoch: 31, Loss: 0.196218\n",
            "Epoch: 31, Loss: 0.220212\n",
            "Epoch: 32, Loss: 0.369231\n",
            "Epoch: 32, Loss: 0.645045\n",
            "Epoch: 32, Loss: 0.757246\n",
            "Epoch: 32, Loss: 0.276285\n",
            "Epoch: 32, Loss: 0.192637\n",
            "Epoch: 32, Loss: 0.137001\n",
            "Epoch: 32, Loss: 0.098328\n",
            "Epoch: 32, Loss: 0.099438\n",
            "Epoch: 32, Loss: 0.128322\n",
            "Epoch: 32, Loss: 0.123485\n",
            "Epoch: 32, Loss: 0.081614\n",
            "Epoch: 32, Loss: 0.108092\n",
            "Epoch: 32, Loss: 0.110578\n",
            "Epoch: 32, Loss: 0.107181\n",
            "Epoch: 32, Loss: 0.112394\n",
            "Epoch: 32, Loss: 0.154938\n",
            "Epoch: 33, Loss: 0.080945\n",
            "Epoch: 33, Loss: 0.110181\n",
            "Epoch: 33, Loss: 0.096204\n",
            "Epoch: 33, Loss: 0.101857\n",
            "Epoch: 33, Loss: 0.071306\n",
            "Epoch: 33, Loss: 0.086819\n",
            "Epoch: 33, Loss: 0.098460\n",
            "Epoch: 33, Loss: 0.104412\n",
            "Epoch: 33, Loss: 0.092575\n",
            "Epoch: 33, Loss: 0.080403\n",
            "Epoch: 33, Loss: 0.100692\n",
            "Epoch: 33, Loss: 0.133205\n",
            "Epoch: 33, Loss: 0.096411\n",
            "Epoch: 33, Loss: 0.104170\n",
            "Epoch: 33, Loss: 0.094136\n",
            "Epoch: 33, Loss: 0.095173\n",
            "Epoch: 34, Loss: 0.080597\n",
            "Epoch: 34, Loss: 0.085047\n",
            "Epoch: 34, Loss: 0.075388\n",
            "Epoch: 34, Loss: 0.075328\n",
            "Epoch: 34, Loss: 0.127554\n",
            "Epoch: 34, Loss: 0.122507\n",
            "Epoch: 34, Loss: 0.090176\n",
            "Epoch: 34, Loss: 0.096271\n",
            "Epoch: 34, Loss: 0.100122\n",
            "Epoch: 34, Loss: 0.073360\n",
            "Epoch: 34, Loss: 0.089821\n",
            "Epoch: 34, Loss: 0.087092\n",
            "Epoch: 34, Loss: 0.100625\n",
            "Epoch: 34, Loss: 0.087782\n",
            "Epoch: 34, Loss: 0.090094\n",
            "Epoch: 34, Loss: 0.100493\n",
            "Epoch: 35, Loss: 0.079556\n",
            "Epoch: 35, Loss: 0.083868\n",
            "Epoch: 35, Loss: 0.092026\n",
            "Epoch: 35, Loss: 0.108172\n",
            "Epoch: 35, Loss: 0.135627\n",
            "Epoch: 35, Loss: 0.109246\n",
            "Epoch: 35, Loss: 0.142702\n",
            "Epoch: 35, Loss: 0.106457\n",
            "Epoch: 35, Loss: 0.099385\n",
            "Epoch: 35, Loss: 0.107594\n",
            "Epoch: 35, Loss: 0.070799\n",
            "Epoch: 35, Loss: 0.073050\n",
            "Epoch: 35, Loss: 0.070934\n",
            "Epoch: 35, Loss: 0.081099\n",
            "Epoch: 35, Loss: 0.079132\n",
            "Epoch: 35, Loss: 0.074000\n",
            "Epoch: 36, Loss: 0.082677\n",
            "Epoch: 36, Loss: 0.092733\n",
            "Epoch: 36, Loss: 0.099556\n",
            "Epoch: 36, Loss: 0.078607\n",
            "Epoch: 36, Loss: 0.075800\n",
            "Epoch: 36, Loss: 0.087625\n",
            "Epoch: 36, Loss: 0.073696\n",
            "Epoch: 36, Loss: 0.072472\n",
            "Epoch: 36, Loss: 0.074597\n",
            "Epoch: 36, Loss: 0.063833\n",
            "Epoch: 36, Loss: 0.077613\n",
            "Epoch: 36, Loss: 0.074924\n",
            "Epoch: 36, Loss: 0.084931\n",
            "Epoch: 36, Loss: 0.071062\n",
            "Epoch: 36, Loss: 0.098648\n",
            "Epoch: 36, Loss: 0.053265\n",
            "Epoch: 37, Loss: 0.061289\n",
            "Epoch: 37, Loss: 0.067977\n",
            "Epoch: 37, Loss: 0.077573\n",
            "Epoch: 37, Loss: 0.074559\n",
            "Epoch: 37, Loss: 0.072856\n",
            "Epoch: 37, Loss: 0.075640\n",
            "Epoch: 37, Loss: 0.049158\n",
            "Epoch: 37, Loss: 0.060150\n",
            "Epoch: 37, Loss: 0.075111\n",
            "Epoch: 37, Loss: 0.081246\n",
            "Epoch: 37, Loss: 0.062041\n",
            "Epoch: 37, Loss: 0.070153\n",
            "Epoch: 37, Loss: 0.084268\n",
            "Epoch: 37, Loss: 0.064259\n",
            "Epoch: 37, Loss: 0.095306\n",
            "Epoch: 37, Loss: 0.092801\n",
            "Epoch: 38, Loss: 0.083059\n",
            "Epoch: 38, Loss: 0.075982\n",
            "Epoch: 38, Loss: 0.094648\n",
            "Epoch: 38, Loss: 0.114741\n",
            "Epoch: 38, Loss: 0.125878\n",
            "Epoch: 38, Loss: 0.127245\n",
            "Epoch: 38, Loss: 0.113868\n",
            "Epoch: 38, Loss: 0.079347\n",
            "Epoch: 38, Loss: 0.059571\n",
            "Epoch: 38, Loss: 0.060630\n",
            "Epoch: 38, Loss: 0.073042\n",
            "Epoch: 38, Loss: 0.062307\n",
            "Epoch: 38, Loss: 0.060894\n",
            "Epoch: 38, Loss: 0.100212\n",
            "Epoch: 38, Loss: 0.075340\n",
            "Epoch: 38, Loss: 0.094813\n",
            "Epoch: 39, Loss: 0.069708\n",
            "Epoch: 39, Loss: 0.069518\n",
            "Epoch: 39, Loss: 0.073459\n",
            "Epoch: 39, Loss: 0.058571\n",
            "Epoch: 39, Loss: 0.054441\n",
            "Epoch: 39, Loss: 0.057219\n",
            "Epoch: 39, Loss: 0.053965\n",
            "Epoch: 39, Loss: 0.056732\n",
            "Epoch: 39, Loss: 0.064371\n",
            "Epoch: 39, Loss: 0.065243\n",
            "Epoch: 39, Loss: 0.081311\n",
            "Epoch: 39, Loss: 0.067225\n",
            "Epoch: 39, Loss: 0.056685\n",
            "Epoch: 39, Loss: 0.076021\n",
            "Epoch: 39, Loss: 0.059379\n",
            "Epoch: 39, Loss: 0.083161\n",
            "Epoch: 40, Loss: 0.058819\n",
            "Epoch: 40, Loss: 0.048922\n",
            "Epoch: 40, Loss: 0.071514\n",
            "Epoch: 40, Loss: 0.049334\n",
            "Epoch: 40, Loss: 0.084493\n",
            "Epoch: 40, Loss: 0.052227\n",
            "Epoch: 40, Loss: 0.067541\n",
            "Epoch: 40, Loss: 0.064931\n",
            "Epoch: 40, Loss: 0.052607\n",
            "Epoch: 40, Loss: 0.070600\n",
            "Epoch: 40, Loss: 0.066882\n",
            "Epoch: 40, Loss: 0.065797\n",
            "Epoch: 40, Loss: 0.065964\n",
            "Epoch: 40, Loss: 0.076950\n",
            "Epoch: 40, Loss: 0.084356\n",
            "Epoch: 40, Loss: 0.132693\n",
            "Epoch: 41, Loss: 0.273939\n",
            "Epoch: 41, Loss: 0.155628\n",
            "Epoch: 41, Loss: 0.176156\n",
            "Epoch: 41, Loss: 0.125677\n",
            "Epoch: 41, Loss: 0.063930\n",
            "Epoch: 41, Loss: 0.055852\n",
            "Epoch: 41, Loss: 0.070391\n",
            "Epoch: 41, Loss: 0.054860\n",
            "Epoch: 41, Loss: 0.057675\n",
            "Epoch: 41, Loss: 0.049125\n",
            "Epoch: 41, Loss: 0.066368\n",
            "Epoch: 41, Loss: 0.089440\n",
            "Epoch: 41, Loss: 0.079249\n",
            "Epoch: 41, Loss: 0.052913\n",
            "Epoch: 41, Loss: 0.070854\n",
            "Epoch: 41, Loss: 0.053000\n",
            "Epoch: 42, Loss: 0.044943\n",
            "Epoch: 42, Loss: 0.067038\n",
            "Epoch: 42, Loss: 0.045058\n",
            "Epoch: 42, Loss: 0.047768\n",
            "Epoch: 42, Loss: 0.053518\n",
            "Epoch: 42, Loss: 0.068236\n",
            "Epoch: 42, Loss: 0.064099\n",
            "Epoch: 42, Loss: 0.072317\n",
            "Epoch: 42, Loss: 0.051508\n",
            "Epoch: 42, Loss: 0.052015\n",
            "Epoch: 42, Loss: 0.050897\n",
            "Epoch: 42, Loss: 0.062116\n",
            "Epoch: 42, Loss: 0.052507\n",
            "Epoch: 42, Loss: 0.045367\n",
            "Epoch: 42, Loss: 0.048967\n",
            "Epoch: 42, Loss: 0.059237\n",
            "Epoch: 43, Loss: 0.054252\n",
            "Epoch: 43, Loss: 0.035989\n",
            "Epoch: 43, Loss: 0.081972\n",
            "Epoch: 43, Loss: 0.093770\n",
            "Epoch: 43, Loss: 0.085315\n",
            "Epoch: 43, Loss: 0.043765\n",
            "Epoch: 43, Loss: 0.051090\n",
            "Epoch: 43, Loss: 0.045247\n",
            "Epoch: 43, Loss: 0.059811\n",
            "Epoch: 43, Loss: 0.056709\n",
            "Epoch: 43, Loss: 0.055345\n",
            "Epoch: 43, Loss: 0.056051\n",
            "Epoch: 43, Loss: 0.056646\n",
            "Epoch: 43, Loss: 0.055733\n",
            "Epoch: 43, Loss: 0.048839\n",
            "Epoch: 43, Loss: 0.049306\n",
            "Epoch: 44, Loss: 0.047913\n",
            "Epoch: 44, Loss: 0.048666\n",
            "Epoch: 44, Loss: 0.045140\n",
            "Epoch: 44, Loss: 0.044482\n",
            "Epoch: 44, Loss: 0.042935\n",
            "Epoch: 44, Loss: 0.047215\n",
            "Epoch: 44, Loss: 0.050895\n",
            "Epoch: 44, Loss: 0.042435\n",
            "Epoch: 44, Loss: 0.058003\n",
            "Epoch: 44, Loss: 0.067984\n",
            "Epoch: 44, Loss: 0.045836\n",
            "Epoch: 44, Loss: 0.060031\n",
            "Epoch: 44, Loss: 0.069603\n",
            "Epoch: 44, Loss: 0.048113\n",
            "Epoch: 44, Loss: 0.057552\n",
            "Epoch: 44, Loss: 0.049030\n",
            "Epoch: 45, Loss: 0.045872\n",
            "Epoch: 45, Loss: 0.051131\n",
            "Epoch: 45, Loss: 0.039559\n",
            "Epoch: 45, Loss: 0.074807\n",
            "Epoch: 45, Loss: 0.141924\n",
            "Epoch: 45, Loss: 0.181999\n",
            "Epoch: 45, Loss: 0.065294\n",
            "Epoch: 45, Loss: 0.048131\n",
            "Epoch: 45, Loss: 0.049229\n",
            "Epoch: 45, Loss: 0.046389\n",
            "Epoch: 45, Loss: 0.054552\n",
            "Epoch: 45, Loss: 0.041387\n",
            "Epoch: 45, Loss: 0.053662\n",
            "Epoch: 45, Loss: 0.053432\n",
            "Epoch: 45, Loss: 0.045673\n",
            "Epoch: 45, Loss: 0.052731\n",
            "Epoch: 46, Loss: 0.049008\n",
            "Epoch: 46, Loss: 0.045946\n",
            "Epoch: 46, Loss: 0.041026\n",
            "Epoch: 46, Loss: 0.053909\n",
            "Epoch: 46, Loss: 0.051870\n",
            "Epoch: 46, Loss: 0.035467\n",
            "Epoch: 46, Loss: 0.047999\n",
            "Epoch: 46, Loss: 0.041992\n",
            "Epoch: 46, Loss: 0.034713\n",
            "Epoch: 46, Loss: 0.042303\n",
            "Epoch: 46, Loss: 0.050150\n",
            "Epoch: 46, Loss: 0.045462\n",
            "Epoch: 46, Loss: 0.033865\n",
            "Epoch: 46, Loss: 0.045419\n",
            "Epoch: 46, Loss: 0.041533\n",
            "Epoch: 46, Loss: 0.060990\n",
            "Epoch: 47, Loss: 0.049463\n",
            "Epoch: 47, Loss: 0.046122\n",
            "Epoch: 47, Loss: 0.036183\n",
            "Epoch: 47, Loss: 0.042840\n",
            "Epoch: 47, Loss: 0.052453\n",
            "Epoch: 47, Loss: 0.031260\n",
            "Epoch: 47, Loss: 0.043163\n",
            "Epoch: 47, Loss: 0.035238\n",
            "Epoch: 47, Loss: 0.043594\n",
            "Epoch: 47, Loss: 0.043289\n",
            "Epoch: 47, Loss: 0.039148\n",
            "Epoch: 47, Loss: 0.039024\n",
            "Epoch: 47, Loss: 0.041128\n",
            "Epoch: 47, Loss: 0.050893\n",
            "Epoch: 47, Loss: 0.034734\n",
            "Epoch: 47, Loss: 0.037888\n",
            "Epoch: 48, Loss: 0.039385\n",
            "Epoch: 48, Loss: 0.047230\n",
            "Epoch: 48, Loss: 0.035410\n",
            "Epoch: 48, Loss: 0.043225\n",
            "Epoch: 48, Loss: 0.043527\n",
            "Epoch: 48, Loss: 0.034159\n",
            "Epoch: 48, Loss: 0.033900\n",
            "Epoch: 48, Loss: 0.044362\n",
            "Epoch: 48, Loss: 0.036455\n",
            "Epoch: 48, Loss: 0.037160\n",
            "Epoch: 48, Loss: 0.035966\n",
            "Epoch: 48, Loss: 0.037937\n",
            "Epoch: 48, Loss: 0.063288\n",
            "Epoch: 48, Loss: 0.036728\n",
            "Epoch: 48, Loss: 0.041798\n",
            "Epoch: 48, Loss: 0.057230\n",
            "Epoch: 49, Loss: 0.050144\n",
            "Epoch: 49, Loss: 0.029755\n",
            "Epoch: 49, Loss: 0.034456\n",
            "Epoch: 49, Loss: 0.040432\n",
            "Epoch: 49, Loss: 0.025116\n",
            "Epoch: 49, Loss: 0.038380\n",
            "Epoch: 49, Loss: 0.034073\n",
            "Epoch: 49, Loss: 0.041959\n",
            "Epoch: 49, Loss: 0.030093\n",
            "Epoch: 49, Loss: 0.035402\n",
            "Epoch: 49, Loss: 0.037550\n",
            "Epoch: 49, Loss: 0.063945\n",
            "Epoch: 49, Loss: 0.085577\n",
            "Epoch: 49, Loss: 0.041779\n",
            "Epoch: 49, Loss: 0.046518\n",
            "Epoch: 49, Loss: 0.052175\n",
            "Epoch: 50, Loss: 0.031679\n",
            "Epoch: 50, Loss: 0.036512\n",
            "Epoch: 50, Loss: 0.039579\n",
            "Epoch: 50, Loss: 0.036888\n",
            "Epoch: 50, Loss: 0.044379\n",
            "Epoch: 50, Loss: 0.038017\n",
            "Epoch: 50, Loss: 0.039618\n",
            "Epoch: 50, Loss: 0.033840\n",
            "Epoch: 50, Loss: 0.028641\n",
            "Epoch: 50, Loss: 0.033945\n",
            "Epoch: 50, Loss: 0.030157\n",
            "Epoch: 50, Loss: 0.038722\n",
            "Epoch: 50, Loss: 0.044591\n",
            "Epoch: 50, Loss: 0.037904\n",
            "Epoch: 50, Loss: 0.036015\n",
            "Epoch: 50, Loss: 0.052095\n",
            "Epoch: 51, Loss: 0.041497\n",
            "Epoch: 51, Loss: 0.030481\n",
            "Epoch: 51, Loss: 0.033091\n",
            "Epoch: 51, Loss: 0.058148\n",
            "Epoch: 51, Loss: 0.038732\n",
            "Epoch: 51, Loss: 0.036402\n",
            "Epoch: 51, Loss: 0.036619\n",
            "Epoch: 51, Loss: 0.034492\n",
            "Epoch: 51, Loss: 0.032009\n",
            "Epoch: 51, Loss: 0.032845\n",
            "Epoch: 51, Loss: 0.041110\n",
            "Epoch: 51, Loss: 0.036151\n",
            "Epoch: 51, Loss: 0.027212\n",
            "Epoch: 51, Loss: 0.036059\n",
            "Epoch: 51, Loss: 0.032781\n",
            "Epoch: 51, Loss: 0.041245\n",
            "Epoch: 52, Loss: 0.049768\n",
            "Epoch: 52, Loss: 0.068171\n",
            "Epoch: 52, Loss: 0.036349\n",
            "Epoch: 52, Loss: 0.031831\n",
            "Epoch: 52, Loss: 0.036134\n",
            "Epoch: 52, Loss: 0.036336\n",
            "Epoch: 52, Loss: 0.039200\n",
            "Epoch: 52, Loss: 0.034443\n",
            "Epoch: 52, Loss: 0.032776\n",
            "Epoch: 52, Loss: 0.030686\n",
            "Epoch: 52, Loss: 0.031540\n",
            "Epoch: 52, Loss: 0.028864\n",
            "Epoch: 52, Loss: 0.032641\n",
            "Epoch: 52, Loss: 0.028042\n",
            "Epoch: 52, Loss: 0.037263\n",
            "Epoch: 52, Loss: 0.045631\n",
            "Epoch: 53, Loss: 0.031201\n",
            "Epoch: 53, Loss: 0.023141\n",
            "Epoch: 53, Loss: 0.038037\n",
            "Epoch: 53, Loss: 0.036621\n",
            "Epoch: 53, Loss: 0.031408\n",
            "Epoch: 53, Loss: 0.029878\n",
            "Epoch: 53, Loss: 0.028623\n",
            "Epoch: 53, Loss: 0.029817\n",
            "Epoch: 53, Loss: 0.035156\n",
            "Epoch: 53, Loss: 0.032325\n",
            "Epoch: 53, Loss: 0.036366\n",
            "Epoch: 53, Loss: 0.035022\n",
            "Epoch: 53, Loss: 0.032372\n",
            "Epoch: 53, Loss: 0.036457\n",
            "Epoch: 53, Loss: 0.033839\n",
            "Epoch: 53, Loss: 0.034668\n",
            "Epoch: 54, Loss: 0.028858\n",
            "Epoch: 54, Loss: 0.039913\n",
            "Epoch: 54, Loss: 0.026167\n",
            "Epoch: 54, Loss: 0.034703\n",
            "Epoch: 54, Loss: 0.029157\n",
            "Epoch: 54, Loss: 0.035940\n",
            "Epoch: 54, Loss: 0.031707\n",
            "Epoch: 54, Loss: 0.028682\n",
            "Epoch: 54, Loss: 0.025707\n",
            "Epoch: 54, Loss: 0.027922\n",
            "Epoch: 54, Loss: 0.030231\n",
            "Epoch: 54, Loss: 0.026193\n",
            "Epoch: 54, Loss: 0.034233\n",
            "Epoch: 54, Loss: 0.042470\n",
            "Epoch: 54, Loss: 0.030289\n",
            "Epoch: 54, Loss: 0.043572\n",
            "Epoch: 55, Loss: 0.028746\n",
            "Epoch: 55, Loss: 0.025890\n",
            "Epoch: 55, Loss: 0.029307\n",
            "Epoch: 55, Loss: 0.042398\n",
            "Epoch: 55, Loss: 0.030189\n",
            "Epoch: 55, Loss: 0.028882\n",
            "Epoch: 55, Loss: 0.029661\n",
            "Epoch: 55, Loss: 0.032319\n",
            "Epoch: 55, Loss: 0.028168\n",
            "Epoch: 55, Loss: 0.030946\n",
            "Epoch: 55, Loss: 0.027370\n",
            "Epoch: 55, Loss: 0.025859\n",
            "Epoch: 55, Loss: 0.028641\n",
            "Epoch: 55, Loss: 0.026885\n",
            "Epoch: 55, Loss: 0.023052\n",
            "Epoch: 55, Loss: 0.043962\n",
            "Epoch: 56, Loss: 0.032163\n",
            "Epoch: 56, Loss: 0.026734\n",
            "Epoch: 56, Loss: 0.022528\n",
            "Epoch: 56, Loss: 0.029617\n",
            "Epoch: 56, Loss: 0.027843\n",
            "Epoch: 56, Loss: 0.026528\n",
            "Epoch: 56, Loss: 0.026619\n",
            "Epoch: 56, Loss: 0.026261\n",
            "Epoch: 56, Loss: 0.023990\n",
            "Epoch: 56, Loss: 0.031981\n",
            "Epoch: 56, Loss: 0.027408\n",
            "Epoch: 56, Loss: 0.026169\n",
            "Epoch: 56, Loss: 0.027207\n",
            "Epoch: 56, Loss: 0.034227\n",
            "Epoch: 56, Loss: 0.031944\n",
            "Epoch: 56, Loss: 0.028541\n",
            "Epoch: 57, Loss: 0.020425\n",
            "Epoch: 57, Loss: 0.029745\n",
            "Epoch: 57, Loss: 0.024347\n",
            "Epoch: 57, Loss: 0.028571\n",
            "Epoch: 57, Loss: 0.029463\n",
            "Epoch: 57, Loss: 0.030806\n",
            "Epoch: 57, Loss: 0.023406\n",
            "Epoch: 57, Loss: 0.037731\n",
            "Epoch: 57, Loss: 0.041770\n",
            "Epoch: 57, Loss: 0.034014\n",
            "Epoch: 57, Loss: 0.025131\n",
            "Epoch: 57, Loss: 0.023197\n",
            "Epoch: 57, Loss: 0.022833\n",
            "Epoch: 57, Loss: 0.030226\n",
            "Epoch: 57, Loss: 0.031596\n",
            "Epoch: 57, Loss: 0.029517\n",
            "Epoch: 58, Loss: 0.024090\n",
            "Epoch: 58, Loss: 0.026411\n",
            "Epoch: 58, Loss: 0.025432\n",
            "Epoch: 58, Loss: 0.028569\n",
            "Epoch: 58, Loss: 0.028826\n",
            "Epoch: 58, Loss: 0.031964\n",
            "Epoch: 58, Loss: 0.024637\n",
            "Epoch: 58, Loss: 0.032753\n",
            "Epoch: 58, Loss: 0.021890\n",
            "Epoch: 58, Loss: 0.025357\n",
            "Epoch: 58, Loss: 0.030856\n",
            "Epoch: 58, Loss: 0.028078\n",
            "Epoch: 58, Loss: 0.026987\n",
            "Epoch: 58, Loss: 0.023795\n",
            "Epoch: 58, Loss: 0.025761\n",
            "Epoch: 58, Loss: 0.024676\n",
            "Epoch: 59, Loss: 0.027393\n",
            "Epoch: 59, Loss: 0.019321\n",
            "Epoch: 59, Loss: 0.026494\n",
            "Epoch: 59, Loss: 0.035032\n",
            "Epoch: 59, Loss: 0.021190\n",
            "Epoch: 59, Loss: 0.029745\n",
            "Epoch: 59, Loss: 0.025523\n",
            "Epoch: 59, Loss: 0.023272\n",
            "Epoch: 59, Loss: 0.026356\n",
            "Epoch: 59, Loss: 0.023326\n",
            "Epoch: 59, Loss: 0.027515\n",
            "Epoch: 59, Loss: 0.028447\n",
            "Epoch: 59, Loss: 0.027540\n",
            "Epoch: 59, Loss: 0.024959\n",
            "Epoch: 59, Loss: 0.025866\n",
            "Epoch: 59, Loss: 0.029438\n",
            "Epoch: 60, Loss: 0.035781\n",
            "Epoch: 60, Loss: 0.022842\n",
            "Epoch: 60, Loss: 0.020340\n",
            "Epoch: 60, Loss: 0.025279\n",
            "Epoch: 60, Loss: 0.024476\n",
            "Epoch: 60, Loss: 0.021818\n",
            "Epoch: 60, Loss: 0.024134\n",
            "Epoch: 60, Loss: 0.024440\n",
            "Epoch: 60, Loss: 0.024321\n",
            "Epoch: 60, Loss: 0.026665\n",
            "Epoch: 60, Loss: 0.024604\n",
            "Epoch: 60, Loss: 0.019778\n",
            "Epoch: 60, Loss: 0.029712\n",
            "Epoch: 60, Loss: 0.031045\n",
            "Epoch: 60, Loss: 0.026388\n",
            "Epoch: 60, Loss: 0.027381\n",
            "Epoch: 61, Loss: 0.018437\n",
            "Epoch: 61, Loss: 0.021032\n",
            "Epoch: 61, Loss: 0.022338\n",
            "Epoch: 61, Loss: 0.022169\n",
            "Epoch: 61, Loss: 0.029579\n",
            "Epoch: 61, Loss: 0.029476\n",
            "Epoch: 61, Loss: 0.026248\n",
            "Epoch: 61, Loss: 0.024478\n",
            "Epoch: 61, Loss: 0.025949\n",
            "Epoch: 61, Loss: 0.021344\n",
            "Epoch: 61, Loss: 0.020016\n",
            "Epoch: 61, Loss: 0.028172\n",
            "Epoch: 61, Loss: 0.023572\n",
            "Epoch: 61, Loss: 0.024556\n",
            "Epoch: 61, Loss: 0.022021\n",
            "Epoch: 61, Loss: 0.025149\n",
            "Epoch: 62, Loss: 0.026503\n",
            "Epoch: 62, Loss: 0.024260\n",
            "Epoch: 62, Loss: 0.022507\n",
            "Epoch: 62, Loss: 0.023655\n",
            "Epoch: 62, Loss: 0.017779\n",
            "Epoch: 62, Loss: 0.021217\n",
            "Epoch: 62, Loss: 0.024479\n",
            "Epoch: 62, Loss: 0.020820\n",
            "Epoch: 62, Loss: 0.024971\n",
            "Epoch: 62, Loss: 0.020894\n",
            "Epoch: 62, Loss: 0.023634\n",
            "Epoch: 62, Loss: 0.026268\n",
            "Epoch: 62, Loss: 0.018020\n",
            "Epoch: 62, Loss: 0.030894\n",
            "Epoch: 62, Loss: 0.027271\n",
            "Epoch: 62, Loss: 0.024004\n",
            "Epoch: 63, Loss: 0.021265\n",
            "Epoch: 63, Loss: 0.019971\n",
            "Epoch: 63, Loss: 0.029204\n",
            "Epoch: 63, Loss: 0.021339\n",
            "Epoch: 63, Loss: 0.022782\n",
            "Epoch: 63, Loss: 0.021087\n",
            "Epoch: 63, Loss: 0.023664\n",
            "Epoch: 63, Loss: 0.018846\n",
            "Epoch: 63, Loss: 0.017744\n",
            "Epoch: 63, Loss: 0.025513\n",
            "Epoch: 63, Loss: 0.021436\n",
            "Epoch: 63, Loss: 0.029801\n",
            "Epoch: 63, Loss: 0.027763\n",
            "Epoch: 63, Loss: 0.021498\n",
            "Epoch: 63, Loss: 0.025943\n",
            "Epoch: 63, Loss: 0.023361\n",
            "Epoch: 64, Loss: 0.015888\n",
            "Epoch: 64, Loss: 0.024732\n",
            "Epoch: 64, Loss: 0.028700\n",
            "Epoch: 64, Loss: 0.023515\n",
            "Epoch: 64, Loss: 0.022416\n",
            "Epoch: 64, Loss: 0.017893\n",
            "Epoch: 64, Loss: 0.024929\n",
            "Epoch: 64, Loss: 0.019792\n",
            "Epoch: 64, Loss: 0.021200\n",
            "Epoch: 64, Loss: 0.021542\n",
            "Epoch: 64, Loss: 0.022729\n",
            "Epoch: 64, Loss: 0.018128\n",
            "Epoch: 64, Loss: 0.026873\n",
            "Epoch: 64, Loss: 0.024043\n",
            "Epoch: 64, Loss: 0.020102\n",
            "Epoch: 64, Loss: 0.027597\n",
            "Epoch: 65, Loss: 0.024896\n",
            "Epoch: 65, Loss: 0.021954\n",
            "Epoch: 65, Loss: 0.014073\n",
            "Epoch: 65, Loss: 0.016204\n",
            "Epoch: 65, Loss: 0.018204\n",
            "Epoch: 65, Loss: 0.027046\n",
            "Epoch: 65, Loss: 0.024114\n",
            "Epoch: 65, Loss: 0.017017\n",
            "Epoch: 65, Loss: 0.021216\n",
            "Epoch: 65, Loss: 0.018518\n",
            "Epoch: 65, Loss: 0.022598\n",
            "Epoch: 65, Loss: 0.023817\n",
            "Epoch: 65, Loss: 0.021950\n",
            "Epoch: 65, Loss: 0.018723\n",
            "Epoch: 65, Loss: 0.024596\n",
            "Epoch: 65, Loss: 0.023619\n",
            "Epoch: 66, Loss: 0.019466\n",
            "Epoch: 66, Loss: 0.025344\n",
            "Epoch: 66, Loss: 0.021712\n",
            "Epoch: 66, Loss: 0.027185\n",
            "Epoch: 66, Loss: 0.023853\n",
            "Epoch: 66, Loss: 0.015362\n",
            "Epoch: 66, Loss: 0.023847\n",
            "Epoch: 66, Loss: 0.022769\n",
            "Epoch: 66, Loss: 0.019489\n",
            "Epoch: 66, Loss: 0.024546\n",
            "Epoch: 66, Loss: 0.017437\n",
            "Epoch: 66, Loss: 0.018189\n",
            "Epoch: 66, Loss: 0.022957\n",
            "Epoch: 66, Loss: 0.016642\n",
            "Epoch: 66, Loss: 0.014146\n",
            "Epoch: 66, Loss: 0.017752\n",
            "Epoch: 67, Loss: 0.019313\n",
            "Epoch: 67, Loss: 0.024489\n",
            "Epoch: 67, Loss: 0.016069\n",
            "Epoch: 67, Loss: 0.024568\n",
            "Epoch: 67, Loss: 0.018633\n",
            "Epoch: 67, Loss: 0.030620\n",
            "Epoch: 67, Loss: 0.014902\n",
            "Epoch: 67, Loss: 0.018888\n",
            "Epoch: 67, Loss: 0.017491\n",
            "Epoch: 67, Loss: 0.025825\n",
            "Epoch: 67, Loss: 0.021728\n",
            "Epoch: 67, Loss: 0.019768\n",
            "Epoch: 67, Loss: 0.019412\n",
            "Epoch: 67, Loss: 0.017277\n",
            "Epoch: 67, Loss: 0.018562\n",
            "Epoch: 67, Loss: 0.013361\n",
            "Epoch: 68, Loss: 0.016863\n",
            "Epoch: 68, Loss: 0.022610\n",
            "Epoch: 68, Loss: 0.018815\n",
            "Epoch: 68, Loss: 0.021219\n",
            "Epoch: 68, Loss: 0.014875\n",
            "Epoch: 68, Loss: 0.019703\n",
            "Epoch: 68, Loss: 0.018200\n",
            "Epoch: 68, Loss: 0.024343\n",
            "Epoch: 68, Loss: 0.019003\n",
            "Epoch: 68, Loss: 0.018054\n",
            "Epoch: 68, Loss: 0.020564\n",
            "Epoch: 68, Loss: 0.017840\n",
            "Epoch: 68, Loss: 0.016983\n",
            "Epoch: 68, Loss: 0.023172\n",
            "Epoch: 68, Loss: 0.024531\n",
            "Epoch: 68, Loss: 0.028772\n",
            "Epoch: 69, Loss: 0.024944\n",
            "Epoch: 69, Loss: 0.016967\n",
            "Epoch: 69, Loss: 0.018419\n",
            "Epoch: 69, Loss: 0.025824\n",
            "Epoch: 69, Loss: 0.027866\n",
            "Epoch: 69, Loss: 0.024654\n",
            "Epoch: 69, Loss: 0.018968\n",
            "Epoch: 69, Loss: 0.019540\n",
            "Epoch: 69, Loss: 0.019252\n",
            "Epoch: 69, Loss: 0.018652\n",
            "Epoch: 69, Loss: 0.014588\n",
            "Epoch: 69, Loss: 0.017789\n",
            "Epoch: 69, Loss: 0.016491\n",
            "Epoch: 69, Loss: 0.020266\n",
            "Epoch: 69, Loss: 0.012031\n",
            "Epoch: 69, Loss: 0.020788\n",
            "Epoch: 70, Loss: 0.016233\n",
            "Epoch: 70, Loss: 0.016594\n",
            "Epoch: 70, Loss: 0.016727\n",
            "Epoch: 70, Loss: 0.021496\n",
            "Epoch: 70, Loss: 0.018371\n",
            "Epoch: 70, Loss: 0.018223\n",
            "Epoch: 70, Loss: 0.017837\n",
            "Epoch: 70, Loss: 0.024660\n",
            "Epoch: 70, Loss: 0.020602\n",
            "Epoch: 70, Loss: 0.017210\n",
            "Epoch: 70, Loss: 0.015592\n",
            "Epoch: 70, Loss: 0.021745\n",
            "Epoch: 70, Loss: 0.018137\n",
            "Epoch: 70, Loss: 0.019072\n",
            "Epoch: 70, Loss: 0.013987\n",
            "Epoch: 70, Loss: 0.024324\n",
            "Epoch: 71, Loss: 0.020671\n",
            "Epoch: 71, Loss: 0.019091\n",
            "Epoch: 71, Loss: 0.016924\n",
            "Epoch: 71, Loss: 0.015525\n",
            "Epoch: 71, Loss: 0.018185\n",
            "Epoch: 71, Loss: 0.025682\n",
            "Epoch: 71, Loss: 0.017799\n",
            "Epoch: 71, Loss: 0.021014\n",
            "Epoch: 71, Loss: 0.016310\n",
            "Epoch: 71, Loss: 0.016879\n",
            "Epoch: 71, Loss: 0.015348\n",
            "Epoch: 71, Loss: 0.016070\n",
            "Epoch: 71, Loss: 0.020073\n",
            "Epoch: 71, Loss: 0.015652\n",
            "Epoch: 71, Loss: 0.016199\n",
            "Epoch: 71, Loss: 0.017547\n",
            "Epoch: 72, Loss: 0.018552\n",
            "Epoch: 72, Loss: 0.018977\n",
            "Epoch: 72, Loss: 0.019473\n",
            "Epoch: 72, Loss: 0.015583\n",
            "Epoch: 72, Loss: 0.014665\n",
            "Epoch: 72, Loss: 0.018253\n",
            "Epoch: 72, Loss: 0.014531\n",
            "Epoch: 72, Loss: 0.021132\n",
            "Epoch: 72, Loss: 0.018383\n",
            "Epoch: 72, Loss: 0.018337\n",
            "Epoch: 72, Loss: 0.015808\n",
            "Epoch: 72, Loss: 0.025359\n",
            "Epoch: 72, Loss: 0.016326\n",
            "Epoch: 72, Loss: 0.013190\n",
            "Epoch: 72, Loss: 0.019752\n",
            "Epoch: 72, Loss: 0.015140\n",
            "Epoch: 73, Loss: 0.013517\n",
            "Epoch: 73, Loss: 0.017653\n",
            "Epoch: 73, Loss: 0.016816\n",
            "Epoch: 73, Loss: 0.018535\n",
            "Epoch: 73, Loss: 0.017094\n",
            "Epoch: 73, Loss: 0.015100\n",
            "Epoch: 73, Loss: 0.016046\n",
            "Epoch: 73, Loss: 0.018520\n",
            "Epoch: 73, Loss: 0.021978\n",
            "Epoch: 73, Loss: 0.015573\n",
            "Epoch: 73, Loss: 0.016412\n",
            "Epoch: 73, Loss: 0.019152\n",
            "Epoch: 73, Loss: 0.013152\n",
            "Epoch: 73, Loss: 0.014979\n",
            "Epoch: 73, Loss: 0.018424\n",
            "Epoch: 73, Loss: 0.017934\n",
            "Epoch: 74, Loss: 0.016189\n",
            "Epoch: 74, Loss: 0.014517\n",
            "Epoch: 74, Loss: 0.017368\n",
            "Epoch: 74, Loss: 0.014976\n",
            "Epoch: 74, Loss: 0.011871\n",
            "Epoch: 74, Loss: 0.019758\n",
            "Epoch: 74, Loss: 0.018797\n",
            "Epoch: 74, Loss: 0.013913\n",
            "Epoch: 74, Loss: 0.019022\n",
            "Epoch: 74, Loss: 0.024111\n",
            "Epoch: 74, Loss: 0.021265\n",
            "Epoch: 74, Loss: 0.015700\n",
            "Epoch: 74, Loss: 0.016461\n",
            "Epoch: 74, Loss: 0.016459\n",
            "Epoch: 74, Loss: 0.014536\n",
            "Epoch: 74, Loss: 0.018356\n",
            "Epoch: 75, Loss: 0.015676\n",
            "Epoch: 75, Loss: 0.014165\n",
            "Epoch: 75, Loss: 0.014924\n",
            "Epoch: 75, Loss: 0.017519\n",
            "Epoch: 75, Loss: 0.020754\n",
            "Epoch: 75, Loss: 0.018921\n",
            "Epoch: 75, Loss: 0.016618\n",
            "Epoch: 75, Loss: 0.017399\n",
            "Epoch: 75, Loss: 0.015799\n",
            "Epoch: 75, Loss: 0.013330\n",
            "Epoch: 75, Loss: 0.012765\n",
            "Epoch: 75, Loss: 0.016252\n",
            "Epoch: 75, Loss: 0.016139\n",
            "Epoch: 75, Loss: 0.019070\n",
            "Epoch: 75, Loss: 0.017266\n",
            "Epoch: 75, Loss: 0.012038\n",
            "Epoch: 76, Loss: 0.013882\n",
            "Epoch: 76, Loss: 0.011179\n",
            "Epoch: 76, Loss: 0.013941\n",
            "Epoch: 76, Loss: 0.015614\n",
            "Epoch: 76, Loss: 0.013969\n",
            "Epoch: 76, Loss: 0.021099\n",
            "Epoch: 76, Loss: 0.015911\n",
            "Epoch: 76, Loss: 0.015676\n",
            "Epoch: 76, Loss: 0.015865\n",
            "Epoch: 76, Loss: 0.016845\n",
            "Epoch: 76, Loss: 0.017988\n",
            "Epoch: 76, Loss: 0.016602\n",
            "Epoch: 76, Loss: 0.015320\n",
            "Epoch: 76, Loss: 0.015524\n",
            "Epoch: 76, Loss: 0.015960\n",
            "Epoch: 76, Loss: 0.015895\n",
            "Epoch: 77, Loss: 0.015813\n",
            "Epoch: 77, Loss: 0.011706\n",
            "Epoch: 77, Loss: 0.017711\n",
            "Epoch: 77, Loss: 0.013353\n",
            "Epoch: 77, Loss: 0.017194\n",
            "Epoch: 77, Loss: 0.013537\n",
            "Epoch: 77, Loss: 0.015255\n",
            "Epoch: 77, Loss: 0.013014\n",
            "Epoch: 77, Loss: 0.019585\n",
            "Epoch: 77, Loss: 0.017138\n",
            "Epoch: 77, Loss: 0.015942\n",
            "Epoch: 77, Loss: 0.014123\n",
            "Epoch: 77, Loss: 0.012394\n",
            "Epoch: 77, Loss: 0.017967\n",
            "Epoch: 77, Loss: 0.014284\n",
            "Epoch: 77, Loss: 0.018933\n",
            "Epoch: 78, Loss: 0.012248\n",
            "Epoch: 78, Loss: 0.015343\n",
            "Epoch: 78, Loss: 0.012426\n",
            "Epoch: 78, Loss: 0.013127\n",
            "Epoch: 78, Loss: 0.014456\n",
            "Epoch: 78, Loss: 0.011741\n",
            "Epoch: 78, Loss: 0.013624\n",
            "Epoch: 78, Loss: 0.020117\n",
            "Epoch: 78, Loss: 0.021974\n",
            "Epoch: 78, Loss: 0.018004\n",
            "Epoch: 78, Loss: 0.018754\n",
            "Epoch: 78, Loss: 0.010388\n",
            "Epoch: 78, Loss: 0.013515\n",
            "Epoch: 78, Loss: 0.015027\n",
            "Epoch: 78, Loss: 0.017030\n",
            "Epoch: 78, Loss: 0.017184\n",
            "Epoch: 79, Loss: 0.014983\n",
            "Epoch: 79, Loss: 0.017479\n",
            "Epoch: 79, Loss: 0.011790\n",
            "Epoch: 79, Loss: 0.015879\n",
            "Epoch: 79, Loss: 0.021642\n",
            "Epoch: 79, Loss: 0.021191\n",
            "Epoch: 79, Loss: 0.012842\n",
            "Epoch: 79, Loss: 0.012264\n",
            "Epoch: 79, Loss: 0.014424\n",
            "Epoch: 79, Loss: 0.015120\n",
            "Epoch: 79, Loss: 0.016989\n",
            "Epoch: 79, Loss: 0.017539\n",
            "Epoch: 79, Loss: 0.016789\n",
            "Epoch: 79, Loss: 0.015935\n",
            "Epoch: 79, Loss: 0.012372\n",
            "Epoch: 79, Loss: 0.011314\n",
            "Epoch: 80, Loss: 0.013084\n",
            "Epoch: 80, Loss: 0.010744\n",
            "Epoch: 80, Loss: 0.017231\n",
            "Epoch: 80, Loss: 0.013891\n",
            "Epoch: 80, Loss: 0.012298\n",
            "Epoch: 80, Loss: 0.013032\n",
            "Epoch: 80, Loss: 0.013159\n",
            "Epoch: 80, Loss: 0.016601\n",
            "Epoch: 80, Loss: 0.016189\n",
            "Epoch: 80, Loss: 0.009525\n",
            "Epoch: 80, Loss: 0.020959\n",
            "Epoch: 80, Loss: 0.019434\n",
            "Epoch: 80, Loss: 0.018542\n",
            "Epoch: 80, Loss: 0.011990\n",
            "Epoch: 80, Loss: 0.014316\n",
            "Epoch: 80, Loss: 0.014551\n",
            "Epoch: 81, Loss: 0.012186\n",
            "Epoch: 81, Loss: 0.014669\n",
            "Epoch: 81, Loss: 0.010738\n",
            "Epoch: 81, Loss: 0.016112\n",
            "Epoch: 81, Loss: 0.012524\n",
            "Epoch: 81, Loss: 0.016135\n",
            "Epoch: 81, Loss: 0.016929\n",
            "Epoch: 81, Loss: 0.012899\n",
            "Epoch: 81, Loss: 0.009409\n",
            "Epoch: 81, Loss: 0.012923\n",
            "Epoch: 81, Loss: 0.012370\n",
            "Epoch: 81, Loss: 0.015164\n",
            "Epoch: 81, Loss: 0.012992\n",
            "Epoch: 81, Loss: 0.013623\n",
            "Epoch: 81, Loss: 0.018692\n",
            "Epoch: 81, Loss: 0.017596\n",
            "Epoch: 82, Loss: 0.011177\n",
            "Epoch: 82, Loss: 0.012571\n",
            "Epoch: 82, Loss: 0.017174\n",
            "Epoch: 82, Loss: 0.010388\n",
            "Epoch: 82, Loss: 0.014832\n",
            "Epoch: 82, Loss: 0.014275\n",
            "Epoch: 82, Loss: 0.010828\n",
            "Epoch: 82, Loss: 0.018084\n",
            "Epoch: 82, Loss: 0.014282\n",
            "Epoch: 82, Loss: 0.014777\n",
            "Epoch: 82, Loss: 0.013806\n",
            "Epoch: 82, Loss: 0.011992\n",
            "Epoch: 82, Loss: 0.014252\n",
            "Epoch: 82, Loss: 0.014127\n",
            "Epoch: 82, Loss: 0.015228\n",
            "Epoch: 82, Loss: 0.012371\n",
            "Epoch: 83, Loss: 0.015108\n",
            "Epoch: 83, Loss: 0.015913\n",
            "Epoch: 83, Loss: 0.010382\n",
            "Epoch: 83, Loss: 0.013470\n",
            "Epoch: 83, Loss: 0.012426\n",
            "Epoch: 83, Loss: 0.017449\n",
            "Epoch: 83, Loss: 0.012521\n",
            "Epoch: 83, Loss: 0.011573\n",
            "Epoch: 83, Loss: 0.013101\n",
            "Epoch: 83, Loss: 0.012883\n",
            "Epoch: 83, Loss: 0.015112\n",
            "Epoch: 83, Loss: 0.014057\n",
            "Epoch: 83, Loss: 0.012510\n",
            "Epoch: 83, Loss: 0.013412\n",
            "Epoch: 83, Loss: 0.012407\n",
            "Epoch: 83, Loss: 0.013018\n",
            "Epoch: 84, Loss: 0.011939\n",
            "Epoch: 84, Loss: 0.015065\n",
            "Epoch: 84, Loss: 0.015254\n",
            "Epoch: 84, Loss: 0.010580\n",
            "Epoch: 84, Loss: 0.010981\n",
            "Epoch: 84, Loss: 0.011855\n",
            "Epoch: 84, Loss: 0.013712\n",
            "Epoch: 84, Loss: 0.012703\n",
            "Epoch: 84, Loss: 0.011798\n",
            "Epoch: 84, Loss: 0.015726\n",
            "Epoch: 84, Loss: 0.016210\n",
            "Epoch: 84, Loss: 0.009470\n",
            "Epoch: 84, Loss: 0.014174\n",
            "Epoch: 84, Loss: 0.014193\n",
            "Epoch: 84, Loss: 0.016882\n",
            "Epoch: 84, Loss: 0.014945\n",
            "Epoch: 85, Loss: 0.010437\n",
            "Epoch: 85, Loss: 0.013228\n",
            "Epoch: 85, Loss: 0.010242\n",
            "Epoch: 85, Loss: 0.013353\n",
            "Epoch: 85, Loss: 0.014776\n",
            "Epoch: 85, Loss: 0.009088\n",
            "Epoch: 85, Loss: 0.011316\n",
            "Epoch: 85, Loss: 0.013245\n",
            "Epoch: 85, Loss: 0.024859\n",
            "Epoch: 85, Loss: 0.021461\n",
            "Epoch: 85, Loss: 0.015703\n",
            "Epoch: 85, Loss: 0.010788\n",
            "Epoch: 85, Loss: 0.010216\n",
            "Epoch: 85, Loss: 0.012463\n",
            "Epoch: 85, Loss: 0.014024\n",
            "Epoch: 85, Loss: 0.015054\n",
            "Epoch: 86, Loss: 0.009754\n",
            "Epoch: 86, Loss: 0.014608\n",
            "Epoch: 86, Loss: 0.011128\n",
            "Epoch: 86, Loss: 0.011817\n",
            "Epoch: 86, Loss: 0.013969\n",
            "Epoch: 86, Loss: 0.013567\n",
            "Epoch: 86, Loss: 0.012367\n",
            "Epoch: 86, Loss: 0.013519\n",
            "Epoch: 86, Loss: 0.010792\n",
            "Epoch: 86, Loss: 0.014873\n",
            "Epoch: 86, Loss: 0.013437\n",
            "Epoch: 86, Loss: 0.013140\n",
            "Epoch: 86, Loss: 0.013389\n",
            "Epoch: 86, Loss: 0.010424\n",
            "Epoch: 86, Loss: 0.012316\n",
            "Epoch: 86, Loss: 0.013909\n",
            "Epoch: 87, Loss: 0.011479\n",
            "Epoch: 87, Loss: 0.010216\n",
            "Epoch: 87, Loss: 0.013068\n",
            "Epoch: 87, Loss: 0.014546\n",
            "Epoch: 87, Loss: 0.010399\n",
            "Epoch: 87, Loss: 0.009720\n",
            "Epoch: 87, Loss: 0.016479\n",
            "Epoch: 87, Loss: 0.014479\n",
            "Epoch: 87, Loss: 0.014573\n",
            "Epoch: 87, Loss: 0.010553\n",
            "Epoch: 87, Loss: 0.011184\n",
            "Epoch: 87, Loss: 0.012008\n",
            "Epoch: 87, Loss: 0.012919\n",
            "Epoch: 87, Loss: 0.013296\n",
            "Epoch: 87, Loss: 0.013121\n",
            "Epoch: 87, Loss: 0.010296\n",
            "Epoch: 88, Loss: 0.010977\n",
            "Epoch: 88, Loss: 0.009774\n",
            "Epoch: 88, Loss: 0.011481\n",
            "Epoch: 88, Loss: 0.010653\n",
            "Epoch: 88, Loss: 0.013049\n",
            "Epoch: 88, Loss: 0.011657\n",
            "Epoch: 88, Loss: 0.010388\n",
            "Epoch: 88, Loss: 0.014837\n",
            "Epoch: 88, Loss: 0.018326\n",
            "Epoch: 88, Loss: 0.013126\n",
            "Epoch: 88, Loss: 0.011938\n",
            "Epoch: 88, Loss: 0.012024\n",
            "Epoch: 88, Loss: 0.009850\n",
            "Epoch: 88, Loss: 0.015359\n",
            "Epoch: 88, Loss: 0.012205\n",
            "Epoch: 88, Loss: 0.009985\n",
            "Epoch: 89, Loss: 0.012407\n",
            "Epoch: 89, Loss: 0.013242\n",
            "Epoch: 89, Loss: 0.008982\n",
            "Epoch: 89, Loss: 0.015473\n",
            "Epoch: 89, Loss: 0.009472\n",
            "Epoch: 89, Loss: 0.014129\n",
            "Epoch: 89, Loss: 0.011175\n",
            "Epoch: 89, Loss: 0.014564\n",
            "Epoch: 89, Loss: 0.012892\n",
            "Epoch: 89, Loss: 0.012340\n",
            "Epoch: 89, Loss: 0.013614\n",
            "Epoch: 89, Loss: 0.011055\n",
            "Epoch: 89, Loss: 0.008713\n",
            "Epoch: 89, Loss: 0.012208\n",
            "Epoch: 89, Loss: 0.011227\n",
            "Epoch: 89, Loss: 0.011366\n",
            "Epoch: 90, Loss: 0.012373\n",
            "Epoch: 90, Loss: 0.010974\n",
            "Epoch: 90, Loss: 0.014971\n",
            "Epoch: 90, Loss: 0.011089\n",
            "Epoch: 90, Loss: 0.010170\n",
            "Epoch: 90, Loss: 0.013985\n",
            "Epoch: 90, Loss: 0.009864\n",
            "Epoch: 90, Loss: 0.012413\n",
            "Epoch: 90, Loss: 0.012351\n",
            "Epoch: 90, Loss: 0.012040\n",
            "Epoch: 90, Loss: 0.010563\n",
            "Epoch: 90, Loss: 0.014071\n",
            "Epoch: 90, Loss: 0.011319\n",
            "Epoch: 90, Loss: 0.014116\n",
            "Epoch: 90, Loss: 0.012384\n",
            "Epoch: 90, Loss: 0.009491\n",
            "Epoch: 91, Loss: 0.009888\n",
            "Epoch: 91, Loss: 0.012313\n",
            "Epoch: 91, Loss: 0.012323\n",
            "Epoch: 91, Loss: 0.013131\n",
            "Epoch: 91, Loss: 0.011955\n",
            "Epoch: 91, Loss: 0.014087\n",
            "Epoch: 91, Loss: 0.009735\n",
            "Epoch: 91, Loss: 0.018248\n",
            "Epoch: 91, Loss: 0.011981\n",
            "Epoch: 91, Loss: 0.012852\n",
            "Epoch: 91, Loss: 0.010714\n",
            "Epoch: 91, Loss: 0.010336\n",
            "Epoch: 91, Loss: 0.010912\n",
            "Epoch: 91, Loss: 0.009856\n",
            "Epoch: 91, Loss: 0.011407\n",
            "Epoch: 91, Loss: 0.012155\n",
            "Epoch: 92, Loss: 0.010766\n",
            "Epoch: 92, Loss: 0.011833\n",
            "Epoch: 92, Loss: 0.013513\n",
            "Epoch: 92, Loss: 0.011707\n",
            "Epoch: 92, Loss: 0.009590\n",
            "Epoch: 92, Loss: 0.012272\n",
            "Epoch: 92, Loss: 0.013113\n",
            "Epoch: 92, Loss: 0.009999\n",
            "Epoch: 92, Loss: 0.010020\n",
            "Epoch: 92, Loss: 0.009169\n",
            "Epoch: 92, Loss: 0.009380\n",
            "Epoch: 92, Loss: 0.010267\n",
            "Epoch: 92, Loss: 0.012462\n",
            "Epoch: 92, Loss: 0.013138\n",
            "Epoch: 92, Loss: 0.012082\n",
            "Epoch: 92, Loss: 0.012243\n",
            "Epoch: 93, Loss: 0.014496\n",
            "Epoch: 93, Loss: 0.009118\n",
            "Epoch: 93, Loss: 0.008304\n",
            "Epoch: 93, Loss: 0.010672\n",
            "Epoch: 93, Loss: 0.011326\n",
            "Epoch: 93, Loss: 0.009761\n",
            "Epoch: 93, Loss: 0.010741\n",
            "Epoch: 93, Loss: 0.012299\n",
            "Epoch: 93, Loss: 0.010873\n",
            "Epoch: 93, Loss: 0.012027\n",
            "Epoch: 93, Loss: 0.012237\n",
            "Epoch: 93, Loss: 0.012580\n",
            "Epoch: 93, Loss: 0.009099\n",
            "Epoch: 93, Loss: 0.010850\n",
            "Epoch: 93, Loss: 0.009690\n",
            "Epoch: 93, Loss: 0.011767\n",
            "Epoch: 94, Loss: 0.008999\n",
            "Epoch: 94, Loss: 0.011552\n",
            "Epoch: 94, Loss: 0.008779\n",
            "Epoch: 94, Loss: 0.011172\n",
            "Epoch: 94, Loss: 0.012217\n",
            "Epoch: 94, Loss: 0.011089\n",
            "Epoch: 94, Loss: 0.015857\n",
            "Epoch: 94, Loss: 0.009784\n",
            "Epoch: 94, Loss: 0.009331\n",
            "Epoch: 94, Loss: 0.013620\n",
            "Epoch: 94, Loss: 0.011458\n",
            "Epoch: 94, Loss: 0.012569\n",
            "Epoch: 94, Loss: 0.007969\n",
            "Epoch: 94, Loss: 0.009993\n",
            "Epoch: 94, Loss: 0.008801\n",
            "Epoch: 94, Loss: 0.011350\n",
            "Epoch: 95, Loss: 0.008981\n",
            "Epoch: 95, Loss: 0.009954\n",
            "Epoch: 95, Loss: 0.009408\n",
            "Epoch: 95, Loss: 0.013962\n",
            "Epoch: 95, Loss: 0.009055\n",
            "Epoch: 95, Loss: 0.012454\n",
            "Epoch: 95, Loss: 0.011351\n",
            "Epoch: 95, Loss: 0.012597\n",
            "Epoch: 95, Loss: 0.008201\n",
            "Epoch: 95, Loss: 0.012386\n",
            "Epoch: 95, Loss: 0.010601\n",
            "Epoch: 95, Loss: 0.010569\n",
            "Epoch: 95, Loss: 0.009513\n",
            "Epoch: 95, Loss: 0.012810\n",
            "Epoch: 95, Loss: 0.009372\n",
            "Epoch: 95, Loss: 0.010129\n",
            "Epoch: 96, Loss: 0.010443\n",
            "Epoch: 96, Loss: 0.012869\n",
            "Epoch: 96, Loss: 0.011485\n",
            "Epoch: 96, Loss: 0.009157\n",
            "Epoch: 96, Loss: 0.010345\n",
            "Epoch: 96, Loss: 0.010480\n",
            "Epoch: 96, Loss: 0.011050\n",
            "Epoch: 96, Loss: 0.012652\n",
            "Epoch: 96, Loss: 0.013499\n",
            "Epoch: 96, Loss: 0.010884\n",
            "Epoch: 96, Loss: 0.008629\n",
            "Epoch: 96, Loss: 0.009062\n",
            "Epoch: 96, Loss: 0.011421\n",
            "Epoch: 96, Loss: 0.008407\n",
            "Epoch: 96, Loss: 0.010517\n",
            "Epoch: 96, Loss: 0.008605\n",
            "Epoch: 97, Loss: 0.009608\n",
            "Epoch: 97, Loss: 0.010728\n",
            "Epoch: 97, Loss: 0.008750\n",
            "Epoch: 97, Loss: 0.011635\n",
            "Epoch: 97, Loss: 0.009835\n",
            "Epoch: 97, Loss: 0.011127\n",
            "Epoch: 97, Loss: 0.011954\n",
            "Epoch: 97, Loss: 0.012532\n",
            "Epoch: 97, Loss: 0.009207\n",
            "Epoch: 97, Loss: 0.007776\n",
            "Epoch: 97, Loss: 0.010300\n",
            "Epoch: 97, Loss: 0.011532\n",
            "Epoch: 97, Loss: 0.011845\n",
            "Epoch: 97, Loss: 0.009653\n",
            "Epoch: 97, Loss: 0.007826\n",
            "Epoch: 97, Loss: 0.010279\n",
            "Epoch: 98, Loss: 0.009968\n",
            "Epoch: 98, Loss: 0.009424\n",
            "Epoch: 98, Loss: 0.010113\n",
            "Epoch: 98, Loss: 0.011027\n",
            "Epoch: 98, Loss: 0.011195\n",
            "Epoch: 98, Loss: 0.007837\n",
            "Epoch: 98, Loss: 0.008204\n",
            "Epoch: 98, Loss: 0.010358\n",
            "Epoch: 98, Loss: 0.014812\n",
            "Epoch: 98, Loss: 0.012394\n",
            "Epoch: 98, Loss: 0.009354\n",
            "Epoch: 98, Loss: 0.011327\n",
            "Epoch: 98, Loss: 0.008633\n",
            "Epoch: 98, Loss: 0.009245\n",
            "Epoch: 98, Loss: 0.010478\n",
            "Epoch: 98, Loss: 0.006645\n",
            "Epoch: 99, Loss: 0.009608\n",
            "Epoch: 99, Loss: 0.009508\n",
            "Epoch: 99, Loss: 0.014498\n",
            "Epoch: 99, Loss: 0.008165\n",
            "Epoch: 99, Loss: 0.009511\n",
            "Epoch: 99, Loss: 0.009996\n",
            "Epoch: 99, Loss: 0.008035\n",
            "Epoch: 99, Loss: 0.009709\n",
            "Epoch: 99, Loss: 0.011464\n",
            "Epoch: 99, Loss: 0.011579\n",
            "Epoch: 99, Loss: 0.009101\n",
            "Epoch: 99, Loss: 0.010334\n",
            "Epoch: 99, Loss: 0.010044\n",
            "Epoch: 99, Loss: 0.010663\n",
            "Epoch: 99, Loss: 0.007909\n",
            "Epoch: 99, Loss: 0.013529\n"
          ],
          "name": "stdout"
        }
      ]
    },
    {
      "cell_type": "code",
      "metadata": {
        "colab": {
          "base_uri": "https://localhost:8080/"
        },
        "id": "SvrO-NiGBSfP",
        "outputId": "fb41b940-1fd5-4bec-e375-cbc734c31d49"
      },
      "source": [
        "val_loader= torch.utils.data.DataLoader(validation_set, batch_size=64, shuffle= False)\r\n",
        "\r\n",
        "\r\n",
        "correct = 0\r\n",
        "total = 0\r\n",
        "\r\n",
        "with torch.no_grad():\r\n",
        "  for imgs, labels in val_loader:\r\n",
        "    outputs= model(imgs.view(imgs.shape[0], -1))\r\n",
        "    _, predicted = torch.max(outputs, dim=1)\r\n",
        "    total += labels.shape[0]\r\n",
        "    correct += int((predicted == labels).sum())\r\n",
        "\r\n",
        "print(\"Acurracy: %f\" % (correct / total))"
      ],
      "execution_count": null,
      "outputs": [
        {
          "output_type": "stream",
          "text": [
            "Acurracy: 1.000000\n"
          ],
          "name": "stdout"
        }
      ]
    },
    {
      "cell_type": "code",
      "metadata": {
        "colab": {
          "base_uri": "https://localhost:8080/"
        },
        "id": "-22pAOE3B_mG",
        "outputId": "3fe8bfa6-d47f-44cf-9986-abb62724dd3f"
      },
      "source": [
        "sum([p.numel() for p in model.parameters() if p.requires_grad == True])\r\n"
      ],
      "execution_count": null,
      "outputs": [
        {
          "output_type": "execute_result",
          "data": {
            "text/plain": [
              "14157314"
            ]
          },
          "metadata": {
            "tags": []
          },
          "execution_count": 19
        }
      ]
    },
    {
      "cell_type": "code",
      "metadata": {
        "colab": {
          "base_uri": "https://localhost:8080/",
          "height": 319
        },
        "id": "OWHvCzU3CGpd",
        "outputId": "ca82bd4a-2b93-45a9-f556-512eff6ff2b5"
      },
      "source": [
        "'''Comparacion con una imagen engoñosa'''\r\n",
        "\r\n",
        "url = 'https://elloboferoz.com/site/wp-content/uploads/2018/10/gato-pajaro.jpg'\r\n",
        "\r\n",
        "image = request.urlretrieve(url, 'test1.jpg')\r\n",
        "img = Image.open(image[0])\r\n",
        "\r\n",
        "preprocess = transforms.Compose([\r\n",
        "             transforms.Resize(48),\r\n",
        "             transforms.CenterCrop(96),\r\n",
        "             transforms.ToTensor(),\r\n",
        "             transforms.Normalize(\r\n",
        "                 mean= [0.4914, 0.4822, 0.4465],\r\n",
        "                 std= [0.4914, 0.4822, 0.4465]\r\n",
        "             )\r\n",
        "])\r\n",
        "\r\n",
        "\r\n",
        "\r\n",
        "img_t = preprocess(img)\r\n",
        "out = model(img_t.view(-1).unsqueeze(0))\r\n",
        "_, index = torch.max(out,dim=1)\r\n",
        "print('correct cat: ', 'model:', class_names[index])\r\n",
        "plt.imshow(img_t.permute(1,2,0))"
      ],
      "execution_count": null,
      "outputs": [
        {
          "output_type": "stream",
          "text": [
            "Clipping input data to the valid range for imshow with RGB data ([0..1] for floats or [0..255] for integers).\n"
          ],
          "name": "stderr"
        },
        {
          "output_type": "stream",
          "text": [
            "correct cat:  model: bird\n"
          ],
          "name": "stdout"
        },
        {
          "output_type": "execute_result",
          "data": {
            "text/plain": [
              "<matplotlib.image.AxesImage at 0x7fa9de1b6d10>"
            ]
          },
          "metadata": {
            "tags": []
          },
          "execution_count": 20
        },
        {
          "output_type": "display_data",
          "data": {
            "image/png": "[encoded data removed]",
            "text/plain": [
              "<Figure size 432x288 with 1 Axes>"
            ]
          },
          "metadata": {
            "tags": [],
            "needs_background": "light"
          }
        }
      ]
    },
    {
      "cell_type": "markdown",
      "metadata": {
        "id": "6OzIsz2XG40B"
      },
      "source": [
        "#**dataset nuevo normal**\r\n",
        "\r\n",
        "---\r\n",
        "\r\n",
        "---\r\n",
        "\r\n",
        "\r\n",
        "\r\n"
      ]
    },
    {
      "cell_type": "code",
      "metadata": {
        "colab": {
          "base_uri": "https://localhost:8080/"
        },
        "id": "PQGnrduIHBKj",
        "outputId": "155508c6-9eda-4cfc-bc7b-9d6f4ccb1e61"
      },
      "source": [
        "data_path = 'data/'\r\n",
        "\r\n",
        "dataset = datasets.STL10(data_path, split='train', target_transform=None, download=True )\r\n",
        "\r\n",
        "validation_dataset = datasets.STL10(data_path, split='train', target_transform=None, download=True)"
      ],
      "execution_count": null,
      "outputs": [
        {
          "output_type": "stream",
          "text": [
            "Files already downloaded and verified\n",
            "Files already downloaded and verified\n"
          ],
          "name": "stdout"
        }
      ]
    },
    {
      "cell_type": "code",
      "metadata": {
        "id": "ShbtGvaiHwtR"
      },
      "source": [
        "classes = ['airplane', 'bird', 'car', 'cat', 'deer', 'dog', 'horse', 'monkey', 'ship', 'truck']\r\n"
      ],
      "execution_count": null,
      "outputs": []
    },
    {
      "cell_type": "code",
      "metadata": {
        "colab": {
          "base_uri": "https://localhost:8080/"
        },
        "id": "_3j2PT0bH0XR",
        "outputId": "dce47ab9-44e9-4f6c-a5fd-4af2fd0d457d"
      },
      "source": [
        "print(len(dataset))\r\n",
        "len(validation_dataset)"
      ],
      "execution_count": null,
      "outputs": [
        {
          "output_type": "stream",
          "text": [
            "5000\n"
          ],
          "name": "stdout"
        },
        {
          "output_type": "execute_result",
          "data": {
            "text/plain": [
              "5000"
            ]
          },
          "metadata": {
            "tags": []
          },
          "execution_count": 26
        }
      ]
    },
    {
      "cell_type": "code",
      "metadata": {
        "colab": {
          "base_uri": "https://localhost:8080/"
        },
        "id": "mxuDgne8H4Da",
        "outputId": "7e57a0a5-0350-4b46-a87b-1178b4e6bf39"
      },
      "source": [
        "img, label = dataset[3000]\r\n",
        "img, label, classes[label]"
      ],
      "execution_count": null,
      "outputs": [
        {
          "output_type": "execute_result",
          "data": {
            "text/plain": [
              "(<PIL.Image.Image image mode=RGB size=96x96 at 0x7F4C97EFA160>, 6, 'horse')"
            ]
          },
          "metadata": {
            "tags": []
          },
          "execution_count": 27
        }
      ]
    },
    {
      "cell_type": "code",
      "metadata": {
        "colab": {
          "base_uri": "https://localhost:8080/"
        },
        "id": "4bpdRRWYH7xq",
        "outputId": "245c4ea4-7a21-4153-8c86-18aa08901d74"
      },
      "source": [
        "plt.imshow(img)"
      ],
      "execution_count": null,
      "outputs": [
        {
          "output_type": "execute_result",
          "data": {
            "text/plain": [
              "<matplotlib.image.AxesImage at 0x7f4c97f484e0>"
            ]
          },
          "metadata": {
            "tags": []
          },
          "execution_count": 28
        },
        {
          "output_type": "display_data",
          "data": {
            "image/png": "[encoded data removed]",
            "text/plain": [
              "<Figure size 432x288 with 1 Axes>"
            ]
          },
          "metadata": {
            "tags": [],
            "needs_background": "light"
          }
        }
      ]
    },
    {
      "cell_type": "code",
      "metadata": {
        "colab": {
          "base_uri": "https://localhost:8080/"
        },
        "id": "ieaL5-4mIAyg",
        "outputId": "4c4e4483-2f11-4b27-b090-e0bfdf2f7f88"
      },
      "source": [
        "tensor_trasnform = transforms.ToTensor()\r\n",
        "\r\n",
        "img_tensor = tensor_trasnform(img)\r\n",
        "img, img_tensor, img_tensor.shape"
      ],
      "execution_count": null,
      "outputs": [
        {
          "output_type": "execute_result",
          "data": {
            "text/plain": [
              "(<PIL.Image.Image image mode=RGB size=96x96 at 0x7F4C97EFA160>,\n",
              " tensor([[[0.5765, 0.3451, 0.2392,  ..., 0.3294, 0.3255, 0.4000],\n",
              "          [0.5686, 0.4196, 0.4078,  ..., 0.3020, 0.4078, 0.4039],\n",
              "          [0.5922, 0.3804, 0.3529,  ..., 0.4275, 0.4314, 0.3137],\n",
              "          ...,\n",
              "          [0.8078, 0.8078, 0.8471,  ..., 0.8157, 0.8314, 0.8510],\n",
              "          [0.8588, 0.8588, 0.8392,  ..., 0.8353, 0.8510, 0.8471],\n",
              "          [0.8392, 0.8078, 0.8510,  ..., 0.8235, 0.8392, 0.8510]],\n",
              " \n",
              "         [[0.5725, 0.3882, 0.3059,  ..., 0.3961, 0.3843, 0.4510],\n",
              "          [0.5608, 0.4471, 0.4627,  ..., 0.3686, 0.4627, 0.4627],\n",
              "          [0.5882, 0.4000, 0.3922,  ..., 0.4667, 0.4784, 0.3608],\n",
              "          ...,\n",
              "          [0.7373, 0.7529, 0.7922,  ..., 0.7529, 0.7647, 0.7843],\n",
              "          [0.8078, 0.8118, 0.7725,  ..., 0.7804, 0.8000, 0.8039],\n",
              "          [0.7882, 0.7451, 0.7882,  ..., 0.7647, 0.7765, 0.8118]],\n",
              " \n",
              "         [[0.5216, 0.2431, 0.1725,  ..., 0.1569, 0.1725, 0.1804],\n",
              "          [0.5098, 0.2824, 0.2784,  ..., 0.1176, 0.1804, 0.1804],\n",
              "          [0.5373, 0.2745, 0.2353,  ..., 0.2784, 0.2706, 0.2039],\n",
              "          ...,\n",
              "          [0.6353, 0.6431, 0.6941,  ..., 0.6275, 0.6314, 0.6745],\n",
              "          [0.7294, 0.7216, 0.6667,  ..., 0.6667, 0.7020, 0.7098],\n",
              "          [0.6824, 0.6431, 0.6784,  ..., 0.6314, 0.6627, 0.7176]]]),\n",
              " torch.Size([3, 96, 96]))"
            ]
          },
          "metadata": {
            "tags": []
          },
          "execution_count": 29
        }
      ]
    },
    {
      "cell_type": "code",
      "metadata": {
        "colab": {
          "base_uri": "https://localhost:8080/"
        },
        "id": "oEVVIoGkIEG7",
        "outputId": "4f2690ff-1c31-4b65-dc82-c75e5e018e10"
      },
      "source": [
        "dataset= datasets.STL10(data_path,  split='train', target_transform=None, download=True, transform=transforms.ToTensor())"
      ],
      "execution_count": null,
      "outputs": [
        {
          "output_type": "stream",
          "text": [
            "Files already downloaded and verified\n"
          ],
          "name": "stdout"
        }
      ]
    },
    {
      "cell_type": "code",
      "metadata": {
        "colab": {
          "base_uri": "https://localhost:8080/"
        },
        "id": "FEbE9FmjIeoY",
        "outputId": "9c8a0b4e-c9c1-4467-b2d7-ce692fc18b82"
      },
      "source": [
        "img, label = dataset[3000]\r\n",
        "img"
      ],
      "execution_count": null,
      "outputs": [
        {
          "output_type": "execute_result",
          "data": {
            "text/plain": [
              "tensor([[[0.5765, 0.3451, 0.2392,  ..., 0.3294, 0.3255, 0.4000],\n",
              "         [0.5686, 0.4196, 0.4078,  ..., 0.3020, 0.4078, 0.4039],\n",
              "         [0.5922, 0.3804, 0.3529,  ..., 0.4275, 0.4314, 0.3137],\n",
              "         ...,\n",
              "         [0.8078, 0.8078, 0.8471,  ..., 0.8157, 0.8314, 0.8510],\n",
              "         [0.8588, 0.8588, 0.8392,  ..., 0.8353, 0.8510, 0.8471],\n",
              "         [0.8392, 0.8078, 0.8510,  ..., 0.8235, 0.8392, 0.8510]],\n",
              "\n",
              "        [[0.5725, 0.3882, 0.3059,  ..., 0.3961, 0.3843, 0.4510],\n",
              "         [0.5608, 0.4471, 0.4627,  ..., 0.3686, 0.4627, 0.4627],\n",
              "         [0.5882, 0.4000, 0.3922,  ..., 0.4667, 0.4784, 0.3608],\n",
              "         ...,\n",
              "         [0.7373, 0.7529, 0.7922,  ..., 0.7529, 0.7647, 0.7843],\n",
              "         [0.8078, 0.8118, 0.7725,  ..., 0.7804, 0.8000, 0.8039],\n",
              "         [0.7882, 0.7451, 0.7882,  ..., 0.7647, 0.7765, 0.8118]],\n",
              "\n",
              "        [[0.5216, 0.2431, 0.1725,  ..., 0.1569, 0.1725, 0.1804],\n",
              "         [0.5098, 0.2824, 0.2784,  ..., 0.1176, 0.1804, 0.1804],\n",
              "         [0.5373, 0.2745, 0.2353,  ..., 0.2784, 0.2706, 0.2039],\n",
              "         ...,\n",
              "         [0.6353, 0.6431, 0.6941,  ..., 0.6275, 0.6314, 0.6745],\n",
              "         [0.7294, 0.7216, 0.6667,  ..., 0.6667, 0.7020, 0.7098],\n",
              "         [0.6824, 0.6431, 0.6784,  ..., 0.6314, 0.6627, 0.7176]]])"
            ]
          },
          "metadata": {
            "tags": []
          },
          "execution_count": 31
        }
      ]
    },
    {
      "cell_type": "code",
      "metadata": {
        "colab": {
          "base_uri": "https://localhost:8080/"
        },
        "id": "KdTbtoP5IhIY",
        "outputId": "a86e19e9-d7ec-4ae0-b1b4-9cc5b3f1de3b"
      },
      "source": [
        "img.min(), img.max()"
      ],
      "execution_count": null,
      "outputs": [
        {
          "output_type": "execute_result",
          "data": {
            "text/plain": [
              "(tensor(0.0510), tensor(0.9961))"
            ]
          },
          "metadata": {
            "tags": []
          },
          "execution_count": 32
        }
      ]
    },
    {
      "cell_type": "code",
      "metadata": {
        "colab": {
          "base_uri": "https://localhost:8080/"
        },
        "id": "k63Cj6YTIkQQ",
        "outputId": "493e1ad9-3d64-4e3e-f67b-eb36f28e6846"
      },
      "source": [
        "plt.imshow(img.permute(1,2,0))"
      ],
      "execution_count": null,
      "outputs": [
        {
          "output_type": "execute_result",
          "data": {
            "text/plain": [
              "<matplotlib.image.AxesImage at 0x7f4c98572080>"
            ]
          },
          "metadata": {
            "tags": []
          },
          "execution_count": 33
        },
        {
          "output_type": "display_data",
          "data": {
            "image/png": "[encoded data removed]",
            "text/plain": [
              "<Figure size 432x288 with 1 Axes>"
            ]
          },
          "metadata": {
            "tags": [],
            "needs_background": "light"
          }
        }
      ]
    },
    {
      "cell_type": "code",
      "metadata": {
        "id": "o5Pei5hsIv8k"
      },
      "source": [
        "imgs = torch.stack([img_tensor for img_tensor, _ in dataset], dim=3)"
      ],
      "execution_count": null,
      "outputs": []
    },
    {
      "cell_type": "code",
      "metadata": {
        "colab": {
          "base_uri": "https://localhost:8080/"
        },
        "id": "IgQqN8GFI1RJ",
        "outputId": "2cb4f374-b255-4119-a85b-310f82aecd94"
      },
      "source": [
        "imgs.shape"
      ],
      "execution_count": null,
      "outputs": [
        {
          "output_type": "execute_result",
          "data": {
            "text/plain": [
              "torch.Size([3, 96, 96, 5000])"
            ]
          },
          "metadata": {
            "tags": []
          },
          "execution_count": 35
        }
      ]
    }
  ]
}