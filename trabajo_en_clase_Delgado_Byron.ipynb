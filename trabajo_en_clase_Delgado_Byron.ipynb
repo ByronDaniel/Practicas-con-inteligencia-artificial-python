{
  "nbformat": 4,
  "nbformat_minor": 0,
  "metadata": {
    "colab": {
      "name": "trabajo en clase- Delgado Byron.ipynb",
      "provenance": [],
      "collapsed_sections": []
    },
    "kernelspec": {
      "name": "python3",
      "display_name": "Python 3"
    },
    "widgets": {
      "application/vnd.jupyter.widget-state+json": {
        "05af79981ec147b39eb3e7307d99a5fd": {
          "model_module": "@jupyter-widgets/controls",
          "model_name": "HBoxModel",
          "state": {
            "_view_name": "HBoxView",
            "_dom_classes": [],
            "_model_name": "HBoxModel",
            "_view_module": "@jupyter-widgets/controls",
            "_model_module_version": "1.5.0",
            "_view_count": null,
            "_view_module_version": "1.5.0",
            "box_style": "",
            "layout": "IPY_MODEL_5e9b0cdefcd24a2f9f1483980eff7a3f",
            "_model_module": "@jupyter-widgets/controls",
            "children": [
              "IPY_MODEL_ee8cf07fa5e94a2786e4ba05ceb200b8",
              "IPY_MODEL_283936d40b6a46bfb8a83c45d76ab262"
            ]
          }
        },
        "5e9b0cdefcd24a2f9f1483980eff7a3f": {
          "model_module": "@jupyter-widgets/base",
          "model_name": "LayoutModel",
          "state": {
            "_view_name": "LayoutView",
            "grid_template_rows": null,
            "right": null,
            "justify_content": null,
            "_view_module": "@jupyter-widgets/base",
            "overflow": null,
            "_model_module_version": "1.2.0",
            "_view_count": null,
            "flex_flow": null,
            "width": null,
            "min_width": null,
            "border": null,
            "align_items": null,
            "bottom": null,
            "_model_module": "@jupyter-widgets/base",
            "top": null,
            "grid_column": null,
            "overflow_y": null,
            "overflow_x": null,
            "grid_auto_flow": null,
            "grid_area": null,
            "grid_template_columns": null,
            "flex": null,
            "_model_name": "LayoutModel",
            "justify_items": null,
            "grid_row": null,
            "max_height": null,
            "align_content": null,
            "visibility": null,
            "align_self": null,
            "height": null,
            "min_height": null,
            "padding": null,
            "grid_auto_rows": null,
            "grid_gap": null,
            "max_width": null,
            "order": null,
            "_view_module_version": "1.2.0",
            "grid_template_areas": null,
            "object_position": null,
            "object_fit": null,
            "grid_auto_columns": null,
            "margin": null,
            "display": null,
            "left": null
          }
        },
        "ee8cf07fa5e94a2786e4ba05ceb200b8": {
          "model_module": "@jupyter-widgets/controls",
          "model_name": "FloatProgressModel",
          "state": {
            "_view_name": "ProgressView",
            "style": "IPY_MODEL_0a747ede61a64d398893bac726b63c27",
            "_dom_classes": [],
            "description": "",
            "_model_name": "FloatProgressModel",
            "bar_style": "success",
            "max": 1,
            "_view_module": "@jupyter-widgets/controls",
            "_model_module_version": "1.5.0",
            "value": 1,
            "_view_count": null,
            "_view_module_version": "1.5.0",
            "orientation": "horizontal",
            "min": 0,
            "description_tooltip": null,
            "_model_module": "@jupyter-widgets/controls",
            "layout": "IPY_MODEL_4719f9892f64413da0831a1b82a89a06"
          }
        },
        "283936d40b6a46bfb8a83c45d76ab262": {
          "model_module": "@jupyter-widgets/controls",
          "model_name": "HTMLModel",
          "state": {
            "_view_name": "HTMLView",
            "style": "IPY_MODEL_bac90fa2edf249a3bf040f5ea0522ac3",
            "_dom_classes": [],
            "description": "",
            "_model_name": "HTMLModel",
            "placeholder": "​",
            "_view_module": "@jupyter-widgets/controls",
            "_model_module_version": "1.5.0",
            "value": " 26427392/? [00:05&lt;00:00, 4535989.55it/s]",
            "_view_count": null,
            "_view_module_version": "1.5.0",
            "description_tooltip": null,
            "_model_module": "@jupyter-widgets/controls",
            "layout": "IPY_MODEL_1ba375d2278749cb828f5c78083355cc"
          }
        },
        "0a747ede61a64d398893bac726b63c27": {
          "model_module": "@jupyter-widgets/controls",
          "model_name": "ProgressStyleModel",
          "state": {
            "_view_name": "StyleView",
            "_model_name": "ProgressStyleModel",
            "description_width": "initial",
            "_view_module": "@jupyter-widgets/base",
            "_model_module_version": "1.5.0",
            "_view_count": null,
            "_view_module_version": "1.2.0",
            "bar_color": null,
            "_model_module": "@jupyter-widgets/controls"
          }
        },
        "4719f9892f64413da0831a1b82a89a06": {
          "model_module": "@jupyter-widgets/base",
          "model_name": "LayoutModel",
          "state": {
            "_view_name": "LayoutView",
            "grid_template_rows": null,
            "right": null,
            "justify_content": null,
            "_view_module": "@jupyter-widgets/base",
            "overflow": null,
            "_model_module_version": "1.2.0",
            "_view_count": null,
            "flex_flow": null,
            "width": null,
            "min_width": null,
            "border": null,
            "align_items": null,
            "bottom": null,
            "_model_module": "@jupyter-widgets/base",
            "top": null,
            "grid_column": null,
            "overflow_y": null,
            "overflow_x": null,
            "grid_auto_flow": null,
            "grid_area": null,
            "grid_template_columns": null,
            "flex": null,
            "_model_name": "LayoutModel",
            "justify_items": null,
            "grid_row": null,
            "max_height": null,
            "align_content": null,
            "visibility": null,
            "align_self": null,
            "height": null,
            "min_height": null,
            "padding": null,
            "grid_auto_rows": null,
            "grid_gap": null,
            "max_width": null,
            "order": null,
            "_view_module_version": "1.2.0",
            "grid_template_areas": null,
            "object_position": null,
            "object_fit": null,
            "grid_auto_columns": null,
            "margin": null,
            "display": null,
            "left": null
          }
        },
        "bac90fa2edf249a3bf040f5ea0522ac3": {
          "model_module": "@jupyter-widgets/controls",
          "model_name": "DescriptionStyleModel",
          "state": {
            "_view_name": "StyleView",
            "_model_name": "DescriptionStyleModel",
            "description_width": "",
            "_view_module": "@jupyter-widgets/base",
            "_model_module_version": "1.5.0",
            "_view_count": null,
            "_view_module_version": "1.2.0",
            "_model_module": "@jupyter-widgets/controls"
          }
        },
        "1ba375d2278749cb828f5c78083355cc": {
          "model_module": "@jupyter-widgets/base",
          "model_name": "LayoutModel",
          "state": {
            "_view_name": "LayoutView",
            "grid_template_rows": null,
            "right": null,
            "justify_content": null,
            "_view_module": "@jupyter-widgets/base",
            "overflow": null,
            "_model_module_version": "1.2.0",
            "_view_count": null,
            "flex_flow": null,
            "width": null,
            "min_width": null,
            "border": null,
            "align_items": null,
            "bottom": null,
            "_model_module": "@jupyter-widgets/base",
            "top": null,
            "grid_column": null,
            "overflow_y": null,
            "overflow_x": null,
            "grid_auto_flow": null,
            "grid_area": null,
            "grid_template_columns": null,
            "flex": null,
            "_model_name": "LayoutModel",
            "justify_items": null,
            "grid_row": null,
            "max_height": null,
            "align_content": null,
            "visibility": null,
            "align_self": null,
            "height": null,
            "min_height": null,
            "padding": null,
            "grid_auto_rows": null,
            "grid_gap": null,
            "max_width": null,
            "order": null,
            "_view_module_version": "1.2.0",
            "grid_template_areas": null,
            "object_position": null,
            "object_fit": null,
            "grid_auto_columns": null,
            "margin": null,
            "display": null,
            "left": null
          }
        },
        "ea0dcec6173f4082b985767cdc3e6c8b": {
          "model_module": "@jupyter-widgets/controls",
          "model_name": "HBoxModel",
          "state": {
            "_view_name": "HBoxView",
            "_dom_classes": [],
            "_model_name": "HBoxModel",
            "_view_module": "@jupyter-widgets/controls",
            "_model_module_version": "1.5.0",
            "_view_count": null,
            "_view_module_version": "1.5.0",
            "box_style": "",
            "layout": "IPY_MODEL_4b738dd0ac33417896e22990f5b0626e",
            "_model_module": "@jupyter-widgets/controls",
            "children": [
              "IPY_MODEL_f38184f85251495a88d9ec7973407716",
              "IPY_MODEL_5a568b0e6a384dc096ef25bd6b760707"
            ]
          }
        },
        "4b738dd0ac33417896e22990f5b0626e": {
          "model_module": "@jupyter-widgets/base",
          "model_name": "LayoutModel",
          "state": {
            "_view_name": "LayoutView",
            "grid_template_rows": null,
            "right": null,
            "justify_content": null,
            "_view_module": "@jupyter-widgets/base",
            "overflow": null,
            "_model_module_version": "1.2.0",
            "_view_count": null,
            "flex_flow": null,
            "width": null,
            "min_width": null,
            "border": null,
            "align_items": null,
            "bottom": null,
            "_model_module": "@jupyter-widgets/base",
            "top": null,
            "grid_column": null,
            "overflow_y": null,
            "overflow_x": null,
            "grid_auto_flow": null,
            "grid_area": null,
            "grid_template_columns": null,
            "flex": null,
            "_model_name": "LayoutModel",
            "justify_items": null,
            "grid_row": null,
            "max_height": null,
            "align_content": null,
            "visibility": null,
            "align_self": null,
            "height": null,
            "min_height": null,
            "padding": null,
            "grid_auto_rows": null,
            "grid_gap": null,
            "max_width": null,
            "order": null,
            "_view_module_version": "1.2.0",
            "grid_template_areas": null,
            "object_position": null,
            "object_fit": null,
            "grid_auto_columns": null,
            "margin": null,
            "display": null,
            "left": null
          }
        },
        "f38184f85251495a88d9ec7973407716": {
          "model_module": "@jupyter-widgets/controls",
          "model_name": "FloatProgressModel",
          "state": {
            "_view_name": "ProgressView",
            "style": "IPY_MODEL_45675223fc5c47de8a9ac6003f06fe94",
            "_dom_classes": [],
            "description": "",
            "_model_name": "FloatProgressModel",
            "bar_style": "success",
            "max": 1,
            "_view_module": "@jupyter-widgets/controls",
            "_model_module_version": "1.5.0",
            "value": 1,
            "_view_count": null,
            "_view_module_version": "1.5.0",
            "orientation": "horizontal",
            "min": 0,
            "description_tooltip": null,
            "_model_module": "@jupyter-widgets/controls",
            "layout": "IPY_MODEL_e898fb2b49c64c33aa5cff24fdf247a5"
          }
        },
        "5a568b0e6a384dc096ef25bd6b760707": {
          "model_module": "@jupyter-widgets/controls",
          "model_name": "HTMLModel",
          "state": {
            "_view_name": "HTMLView",
            "style": "IPY_MODEL_196a385419d74f919d00e8c8afeaef17",
            "_dom_classes": [],
            "description": "",
            "_model_name": "HTMLModel",
            "placeholder": "​",
            "_view_module": "@jupyter-widgets/controls",
            "_model_module_version": "1.5.0",
            "value": " 32768/? [00:00&lt;00:00, 84605.88it/s]",
            "_view_count": null,
            "_view_module_version": "1.5.0",
            "description_tooltip": null,
            "_model_module": "@jupyter-widgets/controls",
            "layout": "IPY_MODEL_7a1a40aa13454abfbb98b9dae66a5bd8"
          }
        },
        "45675223fc5c47de8a9ac6003f06fe94": {
          "model_module": "@jupyter-widgets/controls",
          "model_name": "ProgressStyleModel",
          "state": {
            "_view_name": "StyleView",
            "_model_name": "ProgressStyleModel",
            "description_width": "initial",
            "_view_module": "@jupyter-widgets/base",
            "_model_module_version": "1.5.0",
            "_view_count": null,
            "_view_module_version": "1.2.0",
            "bar_color": null,
            "_model_module": "@jupyter-widgets/controls"
          }
        },
        "e898fb2b49c64c33aa5cff24fdf247a5": {
          "model_module": "@jupyter-widgets/base",
          "model_name": "LayoutModel",
          "state": {
            "_view_name": "LayoutView",
            "grid_template_rows": null,
            "right": null,
            "justify_content": null,
            "_view_module": "@jupyter-widgets/base",
            "overflow": null,
            "_model_module_version": "1.2.0",
            "_view_count": null,
            "flex_flow": null,
            "width": null,
            "min_width": null,
            "border": null,
            "align_items": null,
            "bottom": null,
            "_model_module": "@jupyter-widgets/base",
            "top": null,
            "grid_column": null,
            "overflow_y": null,
            "overflow_x": null,
            "grid_auto_flow": null,
            "grid_area": null,
            "grid_template_columns": null,
            "flex": null,
            "_model_name": "LayoutModel",
            "justify_items": null,
            "grid_row": null,
            "max_height": null,
            "align_content": null,
            "visibility": null,
            "align_self": null,
            "height": null,
            "min_height": null,
            "padding": null,
            "grid_auto_rows": null,
            "grid_gap": null,
            "max_width": null,
            "order": null,
            "_view_module_version": "1.2.0",
            "grid_template_areas": null,
            "object_position": null,
            "object_fit": null,
            "grid_auto_columns": null,
            "margin": null,
            "display": null,
            "left": null
          }
        },
        "196a385419d74f919d00e8c8afeaef17": {
          "model_module": "@jupyter-widgets/controls",
          "model_name": "DescriptionStyleModel",
          "state": {
            "_view_name": "StyleView",
            "_model_name": "DescriptionStyleModel",
            "description_width": "",
            "_view_module": "@jupyter-widgets/base",
            "_model_module_version": "1.5.0",
            "_view_count": null,
            "_view_module_version": "1.2.0",
            "_model_module": "@jupyter-widgets/controls"
          }
        },
        "7a1a40aa13454abfbb98b9dae66a5bd8": {
          "model_module": "@jupyter-widgets/base",
          "model_name": "LayoutModel",
          "state": {
            "_view_name": "LayoutView",
            "grid_template_rows": null,
            "right": null,
            "justify_content": null,
            "_view_module": "@jupyter-widgets/base",
            "overflow": null,
            "_model_module_version": "1.2.0",
            "_view_count": null,
            "flex_flow": null,
            "width": null,
            "min_width": null,
            "border": null,
            "align_items": null,
            "bottom": null,
            "_model_module": "@jupyter-widgets/base",
            "top": null,
            "grid_column": null,
            "overflow_y": null,
            "overflow_x": null,
            "grid_auto_flow": null,
            "grid_area": null,
            "grid_template_columns": null,
            "flex": null,
            "_model_name": "LayoutModel",
            "justify_items": null,
            "grid_row": null,
            "max_height": null,
            "align_content": null,
            "visibility": null,
            "align_self": null,
            "height": null,
            "min_height": null,
            "padding": null,
            "grid_auto_rows": null,
            "grid_gap": null,
            "max_width": null,
            "order": null,
            "_view_module_version": "1.2.0",
            "grid_template_areas": null,
            "object_position": null,
            "object_fit": null,
            "grid_auto_columns": null,
            "margin": null,
            "display": null,
            "left": null
          }
        },
        "2500d78a3cbc478dac2ecda99ac10130": {
          "model_module": "@jupyter-widgets/controls",
          "model_name": "HBoxModel",
          "state": {
            "_view_name": "HBoxView",
            "_dom_classes": [],
            "_model_name": "HBoxModel",
            "_view_module": "@jupyter-widgets/controls",
            "_model_module_version": "1.5.0",
            "_view_count": null,
            "_view_module_version": "1.5.0",
            "box_style": "",
            "layout": "IPY_MODEL_9f3bf37648f244e68dbd0ae168e7c7ec",
            "_model_module": "@jupyter-widgets/controls",
            "children": [
              "IPY_MODEL_a2a36266884c42ffb1f4925e58f31610",
              "IPY_MODEL_67d47a4c2a0c4b939e3271469679902c"
            ]
          }
        },
        "9f3bf37648f244e68dbd0ae168e7c7ec": {
          "model_module": "@jupyter-widgets/base",
          "model_name": "LayoutModel",
          "state": {
            "_view_name": "LayoutView",
            "grid_template_rows": null,
            "right": null,
            "justify_content": null,
            "_view_module": "@jupyter-widgets/base",
            "overflow": null,
            "_model_module_version": "1.2.0",
            "_view_count": null,
            "flex_flow": null,
            "width": null,
            "min_width": null,
            "border": null,
            "align_items": null,
            "bottom": null,
            "_model_module": "@jupyter-widgets/base",
            "top": null,
            "grid_column": null,
            "overflow_y": null,
            "overflow_x": null,
            "grid_auto_flow": null,
            "grid_area": null,
            "grid_template_columns": null,
            "flex": null,
            "_model_name": "LayoutModel",
            "justify_items": null,
            "grid_row": null,
            "max_height": null,
            "align_content": null,
            "visibility": null,
            "align_self": null,
            "height": null,
            "min_height": null,
            "padding": null,
            "grid_auto_rows": null,
            "grid_gap": null,
            "max_width": null,
            "order": null,
            "_view_module_version": "1.2.0",
            "grid_template_areas": null,
            "object_position": null,
            "object_fit": null,
            "grid_auto_columns": null,
            "margin": null,
            "display": null,
            "left": null
          }
        },
        "a2a36266884c42ffb1f4925e58f31610": {
          "model_module": "@jupyter-widgets/controls",
          "model_name": "FloatProgressModel",
          "state": {
            "_view_name": "ProgressView",
            "style": "IPY_MODEL_153d61d353474ff7abde7e29af140d6c",
            "_dom_classes": [],
            "description": "",
            "_model_name": "FloatProgressModel",
            "bar_style": "success",
            "max": 1,
            "_view_module": "@jupyter-widgets/controls",
            "_model_module_version": "1.5.0",
            "value": 1,
            "_view_count": null,
            "_view_module_version": "1.5.0",
            "orientation": "horizontal",
            "min": 0,
            "description_tooltip": null,
            "_model_module": "@jupyter-widgets/controls",
            "layout": "IPY_MODEL_6260fea9d7544c7790a0594abd4deb6b"
          }
        },
        "67d47a4c2a0c4b939e3271469679902c": {
          "model_module": "@jupyter-widgets/controls",
          "model_name": "HTMLModel",
          "state": {
            "_view_name": "HTMLView",
            "style": "IPY_MODEL_b12b8ea6c3574575b25a348a103ccfe7",
            "_dom_classes": [],
            "description": "",
            "_model_name": "HTMLModel",
            "placeholder": "​",
            "_view_module": "@jupyter-widgets/controls",
            "_model_module_version": "1.5.0",
            "value": " 4423680/? [00:02&lt;00:00, 1588659.86it/s]",
            "_view_count": null,
            "_view_module_version": "1.5.0",
            "description_tooltip": null,
            "_model_module": "@jupyter-widgets/controls",
            "layout": "IPY_MODEL_65d789894f204fbdac36a2cabf7bbf54"
          }
        },
        "153d61d353474ff7abde7e29af140d6c": {
          "model_module": "@jupyter-widgets/controls",
          "model_name": "ProgressStyleModel",
          "state": {
            "_view_name": "StyleView",
            "_model_name": "ProgressStyleModel",
            "description_width": "initial",
            "_view_module": "@jupyter-widgets/base",
            "_model_module_version": "1.5.0",
            "_view_count": null,
            "_view_module_version": "1.2.0",
            "bar_color": null,
            "_model_module": "@jupyter-widgets/controls"
          }
        },
        "6260fea9d7544c7790a0594abd4deb6b": {
          "model_module": "@jupyter-widgets/base",
          "model_name": "LayoutModel",
          "state": {
            "_view_name": "LayoutView",
            "grid_template_rows": null,
            "right": null,
            "justify_content": null,
            "_view_module": "@jupyter-widgets/base",
            "overflow": null,
            "_model_module_version": "1.2.0",
            "_view_count": null,
            "flex_flow": null,
            "width": null,
            "min_width": null,
            "border": null,
            "align_items": null,
            "bottom": null,
            "_model_module": "@jupyter-widgets/base",
            "top": null,
            "grid_column": null,
            "overflow_y": null,
            "overflow_x": null,
            "grid_auto_flow": null,
            "grid_area": null,
            "grid_template_columns": null,
            "flex": null,
            "_model_name": "LayoutModel",
            "justify_items": null,
            "grid_row": null,
            "max_height": null,
            "align_content": null,
            "visibility": null,
            "align_self": null,
            "height": null,
            "min_height": null,
            "padding": null,
            "grid_auto_rows": null,
            "grid_gap": null,
            "max_width": null,
            "order": null,
            "_view_module_version": "1.2.0",
            "grid_template_areas": null,
            "object_position": null,
            "object_fit": null,
            "grid_auto_columns": null,
            "margin": null,
            "display": null,
            "left": null
          }
        },
        "b12b8ea6c3574575b25a348a103ccfe7": {
          "model_module": "@jupyter-widgets/controls",
          "model_name": "DescriptionStyleModel",
          "state": {
            "_view_name": "StyleView",
            "_model_name": "DescriptionStyleModel",
            "description_width": "",
            "_view_module": "@jupyter-widgets/base",
            "_model_module_version": "1.5.0",
            "_view_count": null,
            "_view_module_version": "1.2.0",
            "_model_module": "@jupyter-widgets/controls"
          }
        },
        "65d789894f204fbdac36a2cabf7bbf54": {
          "model_module": "@jupyter-widgets/base",
          "model_name": "LayoutModel",
          "state": {
            "_view_name": "LayoutView",
            "grid_template_rows": null,
            "right": null,
            "justify_content": null,
            "_view_module": "@jupyter-widgets/base",
            "overflow": null,
            "_model_module_version": "1.2.0",
            "_view_count": null,
            "flex_flow": null,
            "width": null,
            "min_width": null,
            "border": null,
            "align_items": null,
            "bottom": null,
            "_model_module": "@jupyter-widgets/base",
            "top": null,
            "grid_column": null,
            "overflow_y": null,
            "overflow_x": null,
            "grid_auto_flow": null,
            "grid_area": null,
            "grid_template_columns": null,
            "flex": null,
            "_model_name": "LayoutModel",
            "justify_items": null,
            "grid_row": null,
            "max_height": null,
            "align_content": null,
            "visibility": null,
            "align_self": null,
            "height": null,
            "min_height": null,
            "padding": null,
            "grid_auto_rows": null,
            "grid_gap": null,
            "max_width": null,
            "order": null,
            "_view_module_version": "1.2.0",
            "grid_template_areas": null,
            "object_position": null,
            "object_fit": null,
            "grid_auto_columns": null,
            "margin": null,
            "display": null,
            "left": null
          }
        },
        "1c4defddd8324245891fd6c757432e73": {
          "model_module": "@jupyter-widgets/controls",
          "model_name": "HBoxModel",
          "state": {
            "_view_name": "HBoxView",
            "_dom_classes": [],
            "_model_name": "HBoxModel",
            "_view_module": "@jupyter-widgets/controls",
            "_model_module_version": "1.5.0",
            "_view_count": null,
            "_view_module_version": "1.5.0",
            "box_style": "",
            "layout": "IPY_MODEL_27ad4c34e2bc4de2bdf367dfe5e87227",
            "_model_module": "@jupyter-widgets/controls",
            "children": [
              "IPY_MODEL_d2df4bd768274f5f90d9e56ffb367107",
              "IPY_MODEL_32ba0541cd6d4ba2809a41f84d3da543"
            ]
          }
        },
        "27ad4c34e2bc4de2bdf367dfe5e87227": {
          "model_module": "@jupyter-widgets/base",
          "model_name": "LayoutModel",
          "state": {
            "_view_name": "LayoutView",
            "grid_template_rows": null,
            "right": null,
            "justify_content": null,
            "_view_module": "@jupyter-widgets/base",
            "overflow": null,
            "_model_module_version": "1.2.0",
            "_view_count": null,
            "flex_flow": null,
            "width": null,
            "min_width": null,
            "border": null,
            "align_items": null,
            "bottom": null,
            "_model_module": "@jupyter-widgets/base",
            "top": null,
            "grid_column": null,
            "overflow_y": null,
            "overflow_x": null,
            "grid_auto_flow": null,
            "grid_area": null,
            "grid_template_columns": null,
            "flex": null,
            "_model_name": "LayoutModel",
            "justify_items": null,
            "grid_row": null,
            "max_height": null,
            "align_content": null,
            "visibility": null,
            "align_self": null,
            "height": null,
            "min_height": null,
            "padding": null,
            "grid_auto_rows": null,
            "grid_gap": null,
            "max_width": null,
            "order": null,
            "_view_module_version": "1.2.0",
            "grid_template_areas": null,
            "object_position": null,
            "object_fit": null,
            "grid_auto_columns": null,
            "margin": null,
            "display": null,
            "left": null
          }
        },
        "d2df4bd768274f5f90d9e56ffb367107": {
          "model_module": "@jupyter-widgets/controls",
          "model_name": "FloatProgressModel",
          "state": {
            "_view_name": "ProgressView",
            "style": "IPY_MODEL_3fc6cb206ed14cc0aea6cddf3c417520",
            "_dom_classes": [],
            "description": "",
            "_model_name": "FloatProgressModel",
            "bar_style": "success",
            "max": 1,
            "_view_module": "@jupyter-widgets/controls",
            "_model_module_version": "1.5.0",
            "value": 1,
            "_view_count": null,
            "_view_module_version": "1.5.0",
            "orientation": "horizontal",
            "min": 0,
            "description_tooltip": null,
            "_model_module": "@jupyter-widgets/controls",
            "layout": "IPY_MODEL_470d1b0c405f4b55b624926bd1a1e399"
          }
        },
        "32ba0541cd6d4ba2809a41f84d3da543": {
          "model_module": "@jupyter-widgets/controls",
          "model_name": "HTMLModel",
          "state": {
            "_view_name": "HTMLView",
            "style": "IPY_MODEL_e2951d71408c4f3d81d1ec1e47b8c356",
            "_dom_classes": [],
            "description": "",
            "_model_name": "HTMLModel",
            "placeholder": "​",
            "_view_module": "@jupyter-widgets/controls",
            "_model_module_version": "1.5.0",
            "value": " 8192/? [00:00&lt;00:00, 11511.28it/s]",
            "_view_count": null,
            "_view_module_version": "1.5.0",
            "description_tooltip": null,
            "_model_module": "@jupyter-widgets/controls",
            "layout": "IPY_MODEL_652c3c559eb44564bac2ca2eea820c1e"
          }
        },
        "3fc6cb206ed14cc0aea6cddf3c417520": {
          "model_module": "@jupyter-widgets/controls",
          "model_name": "ProgressStyleModel",
          "state": {
            "_view_name": "StyleView",
            "_model_name": "ProgressStyleModel",
            "description_width": "initial",
            "_view_module": "@jupyter-widgets/base",
            "_model_module_version": "1.5.0",
            "_view_count": null,
            "_view_module_version": "1.2.0",
            "bar_color": null,
            "_model_module": "@jupyter-widgets/controls"
          }
        },
        "470d1b0c405f4b55b624926bd1a1e399": {
          "model_module": "@jupyter-widgets/base",
          "model_name": "LayoutModel",
          "state": {
            "_view_name": "LayoutView",
            "grid_template_rows": null,
            "right": null,
            "justify_content": null,
            "_view_module": "@jupyter-widgets/base",
            "overflow": null,
            "_model_module_version": "1.2.0",
            "_view_count": null,
            "flex_flow": null,
            "width": null,
            "min_width": null,
            "border": null,
            "align_items": null,
            "bottom": null,
            "_model_module": "@jupyter-widgets/base",
            "top": null,
            "grid_column": null,
            "overflow_y": null,
            "overflow_x": null,
            "grid_auto_flow": null,
            "grid_area": null,
            "grid_template_columns": null,
            "flex": null,
            "_model_name": "LayoutModel",
            "justify_items": null,
            "grid_row": null,
            "max_height": null,
            "align_content": null,
            "visibility": null,
            "align_self": null,
            "height": null,
            "min_height": null,
            "padding": null,
            "grid_auto_rows": null,
            "grid_gap": null,
            "max_width": null,
            "order": null,
            "_view_module_version": "1.2.0",
            "grid_template_areas": null,
            "object_position": null,
            "object_fit": null,
            "grid_auto_columns": null,
            "margin": null,
            "display": null,
            "left": null
          }
        },
        "e2951d71408c4f3d81d1ec1e47b8c356": {
          "model_module": "@jupyter-widgets/controls",
          "model_name": "DescriptionStyleModel",
          "state": {
            "_view_name": "StyleView",
            "_model_name": "DescriptionStyleModel",
            "description_width": "",
            "_view_module": "@jupyter-widgets/base",
            "_model_module_version": "1.5.0",
            "_view_count": null,
            "_view_module_version": "1.2.0",
            "_model_module": "@jupyter-widgets/controls"
          }
        },
        "652c3c559eb44564bac2ca2eea820c1e": {
          "model_module": "@jupyter-widgets/base",
          "model_name": "LayoutModel",
          "state": {
            "_view_name": "LayoutView",
            "grid_template_rows": null,
            "right": null,
            "justify_content": null,
            "_view_module": "@jupyter-widgets/base",
            "overflow": null,
            "_model_module_version": "1.2.0",
            "_view_count": null,
            "flex_flow": null,
            "width": null,
            "min_width": null,
            "border": null,
            "align_items": null,
            "bottom": null,
            "_model_module": "@jupyter-widgets/base",
            "top": null,
            "grid_column": null,
            "overflow_y": null,
            "overflow_x": null,
            "grid_auto_flow": null,
            "grid_area": null,
            "grid_template_columns": null,
            "flex": null,
            "_model_name": "LayoutModel",
            "justify_items": null,
            "grid_row": null,
            "max_height": null,
            "align_content": null,
            "visibility": null,
            "align_self": null,
            "height": null,
            "min_height": null,
            "padding": null,
            "grid_auto_rows": null,
            "grid_gap": null,
            "max_width": null,
            "order": null,
            "_view_module_version": "1.2.0",
            "grid_template_areas": null,
            "object_position": null,
            "object_fit": null,
            "grid_auto_columns": null,
            "margin": null,
            "display": null,
            "left": null
          }
        }
      }
    }
  },
  "cells": [
    {
      "cell_type": "code",
      "metadata": {
        "id": "TL8Esnc_NkpC"
      },
      "source": [
        "# importamos todas las librerias necesarias\r\n",
        "import torch\r\n",
        "import torch.nn as nn # para redes neuronales\r\n",
        "import torch.optim as optim # optimizaciones\r\n",
        "\r\n",
        "\r\n",
        "from torchvision import utils\r\n",
        "from torchvision import models\r\n",
        "from torchvision import datasets\r\n",
        "from torchvision import transforms\r\n",
        "\r\n",
        "from PIL import Image\r\n",
        "import urllib.request as request\r\n",
        "from matplotlib import pyplot as plt\r\n",
        "import numpy as np\r\n",
        "import cv2\r\n"
      ],
      "execution_count": null,
      "outputs": []
    },
    {
      "cell_type": "markdown",
      "metadata": {
        "id": "hxKAOAWeS6Or"
      },
      "source": [
        "# FashionMNIST\r\n",
        "---\r\n",
        "\r\n",
        "---\r\n",
        "\r\n",
        "\r\n",
        "\r\n"
      ]
    },
    {
      "cell_type": "code",
      "metadata": {
        "id": "lBD1qGYkTbIy",
        "colab": {
          "base_uri": "https://localhost:8080/",
          "height": 386,
          "referenced_widgets": [
            "05af79981ec147b39eb3e7307d99a5fd",
            "5e9b0cdefcd24a2f9f1483980eff7a3f",
            "ee8cf07fa5e94a2786e4ba05ceb200b8",
            "283936d40b6a46bfb8a83c45d76ab262",
            "0a747ede61a64d398893bac726b63c27",
            "4719f9892f64413da0831a1b82a89a06",
            "bac90fa2edf249a3bf040f5ea0522ac3",
            "1ba375d2278749cb828f5c78083355cc",
            "ea0dcec6173f4082b985767cdc3e6c8b",
            "4b738dd0ac33417896e22990f5b0626e",
            "f38184f85251495a88d9ec7973407716",
            "5a568b0e6a384dc096ef25bd6b760707",
            "45675223fc5c47de8a9ac6003f06fe94",
            "e898fb2b49c64c33aa5cff24fdf247a5",
            "196a385419d74f919d00e8c8afeaef17",
            "7a1a40aa13454abfbb98b9dae66a5bd8",
            "2500d78a3cbc478dac2ecda99ac10130",
            "9f3bf37648f244e68dbd0ae168e7c7ec",
            "a2a36266884c42ffb1f4925e58f31610",
            "67d47a4c2a0c4b939e3271469679902c",
            "153d61d353474ff7abde7e29af140d6c",
            "6260fea9d7544c7790a0594abd4deb6b",
            "b12b8ea6c3574575b25a348a103ccfe7",
            "65d789894f204fbdac36a2cabf7bbf54",
            "1c4defddd8324245891fd6c757432e73",
            "27ad4c34e2bc4de2bdf367dfe5e87227",
            "d2df4bd768274f5f90d9e56ffb367107",
            "32ba0541cd6d4ba2809a41f84d3da543",
            "3fc6cb206ed14cc0aea6cddf3c417520",
            "470d1b0c405f4b55b624926bd1a1e399",
            "e2951d71408c4f3d81d1ec1e47b8c356",
            "652c3c559eb44564bac2ca2eea820c1e"
          ]
        },
        "outputId": "960baec2-8d0d-4b81-f17a-76cc49f54c56"
      },
      "source": [
        "# espacio en la memoria y el dataset de FashioMNIST\r\n",
        "data_path = 'data/'\r\n",
        "full_data_set = datasets.FashionMNIST(data_path, train = True, download = True, transform= transforms.Compose(\r\n",
        "    [transforms.ToTensor(),\r\n",
        "     transforms.Normalize((0.2860), (0.3530))]))\r\n",
        "\r\n",
        "full_validation_set = datasets.FashionMNIST(data_path, train = False, download = True, transform= transforms.Compose(\r\n",
        "    [transforms.ToTensor(),\r\n",
        "     transforms.Normalize((0.2860), (0.3530))]))\r\n"
      ],
      "execution_count": null,
      "outputs": [
        {
          "output_type": "stream",
          "text": [
            "Downloading http://fashion-mnist.s3-website.eu-central-1.amazonaws.com/train-images-idx3-ubyte.gz to data/FashionMNIST/raw/train-images-idx3-ubyte.gz\n"
          ],
          "name": "stdout"
        },
        {
          "output_type": "display_data",
          "data": {
            "application/vnd.jupyter.widget-view+json": {
              "model_id": "05af79981ec147b39eb3e7307d99a5fd",
              "version_minor": 0,
              "version_major": 2
            },
            "text/plain": [
              "HBox(children=(FloatProgress(value=1.0, bar_style='info', max=1.0), HTML(value='')))"
            ]
          },
          "metadata": {
            "tags": []
          }
        },
        {
          "output_type": "stream",
          "text": [
            "Extracting data/FashionMNIST/raw/train-images-idx3-ubyte.gz to data/FashionMNIST/raw\n",
            "Downloading http://fashion-mnist.s3-website.eu-central-1.amazonaws.com/train-labels-idx1-ubyte.gz to data/FashionMNIST/raw/train-labels-idx1-ubyte.gz\n"
          ],
          "name": "stdout"
        },
        {
          "output_type": "display_data",
          "data": {
            "application/vnd.jupyter.widget-view+json": {
              "model_id": "ea0dcec6173f4082b985767cdc3e6c8b",
              "version_minor": 0,
              "version_major": 2
            },
            "text/plain": [
              "HBox(children=(FloatProgress(value=1.0, bar_style='info', max=1.0), HTML(value='')))"
            ]
          },
          "metadata": {
            "tags": []
          }
        },
        {
          "output_type": "stream",
          "text": [
            "Extracting data/FashionMNIST/raw/train-labels-idx1-ubyte.gz to data/FashionMNIST/raw\n",
            "Downloading http://fashion-mnist.s3-website.eu-central-1.amazonaws.com/t10k-images-idx3-ubyte.gz to data/FashionMNIST/raw/t10k-images-idx3-ubyte.gz\n",
            "\n"
          ],
          "name": "stdout"
        },
        {
          "output_type": "display_data",
          "data": {
            "application/vnd.jupyter.widget-view+json": {
              "model_id": "2500d78a3cbc478dac2ecda99ac10130",
              "version_minor": 0,
              "version_major": 2
            },
            "text/plain": [
              "HBox(children=(FloatProgress(value=1.0, bar_style='info', max=1.0), HTML(value='')))"
            ]
          },
          "metadata": {
            "tags": []
          }
        },
        {
          "output_type": "stream",
          "text": [
            "Extracting data/FashionMNIST/raw/t10k-images-idx3-ubyte.gz to data/FashionMNIST/raw\n",
            "Downloading http://fashion-mnist.s3-website.eu-central-1.amazonaws.com/t10k-labels-idx1-ubyte.gz to data/FashionMNIST/raw/t10k-labels-idx1-ubyte.gz\n"
          ],
          "name": "stdout"
        },
        {
          "output_type": "display_data",
          "data": {
            "application/vnd.jupyter.widget-view+json": {
              "model_id": "1c4defddd8324245891fd6c757432e73",
              "version_minor": 0,
              "version_major": 2
            },
            "text/plain": [
              "HBox(children=(FloatProgress(value=1.0, bar_style='info', max=1.0), HTML(value='')))"
            ]
          },
          "metadata": {
            "tags": []
          }
        },
        {
          "output_type": "stream",
          "text": [
            "Extracting data/FashionMNIST/raw/t10k-labels-idx1-ubyte.gz to data/FashionMNIST/raw\n",
            "Processing...\n",
            "Done!\n"
          ],
          "name": "stdout"
        },
        {
          "output_type": "stream",
          "text": [
            "/usr/local/lib/python3.7/dist-packages/torchvision/datasets/mnist.py:480: UserWarning: The given NumPy array is not writeable, and PyTorch does not support non-writeable tensors. This means you can write to the underlying (supposedly non-writeable) NumPy array using the tensor. You may want to copy the array to protect its data or make it writeable before converting it to a tensor. This type of warning will be suppressed for the rest of this program. (Triggered internally at  /pytorch/torch/csrc/utils/tensor_numpy.cpp:141.)\n",
            "  return torch.from_numpy(parsed.astype(m[2], copy=False)).view(*s)\n"
          ],
          "name": "stderr"
        }
      ]
    },
    {
      "cell_type": "code",
      "metadata": {
        "id": "AgNkvf2QYsfl"
      },
      "source": [
        "# Se utilizará un size = 3 para que en batch_size se carguen de 4 en 4 imagenes.\r\n",
        "# Shuflle = true, permite que por cada iteración las imagenes sean diferentes\r\n",
        "# num_workers es el número de subprocesos que se utilizarán para la carga de la información\r\n",
        "# Se carga la información con los datos de full_data_set\r\n",
        "size = 3\r\n",
        "dataloader = torch.utils.data.DataLoader(full_data_set, batch_size=size, shuffle=True, num_workers=2)"
      ],
      "execution_count": null,
      "outputs": []
    },
    {
      "cell_type": "code",
      "metadata": {
        "colab": {
          "base_uri": "https://localhost:8080/",
          "height": 235
        },
        "id": "GdAcBzu2U01A",
        "outputId": "8dff84a5-7122-4162-cbce-d4487646b803"
      },
      "source": [
        "data_iterator = iter(dataloader) # crea un iterator que contendra los paquetes en 4 imagenes de la data\r\n",
        "imgs, labels = data_iterator.next() # obtiene el paquete de 4 imagenes, y de ellas su imagen y su etiqueta en número\r\n",
        "\r\n",
        "#etiquetas en orden que serán usadas\r\n",
        "classes = ['T-shirt/top', 'Trouser', 'Pullover', 'Dress', 'Coat', 'Sandal', 'Shirt', 'Sneaker', 'Bag', 'Ankle boot']\r\n",
        "plt.imshow(utils.make_grid(imgs).permute(1, 2, 0)) # muestra la imagen en formato grid\r\n",
        "for i in range(size):\r\n",
        "  print(classes[labels[i]]) #imprime el nombre de las etiquetas en el batch actual"
      ],
      "execution_count": null,
      "outputs": [
        {
          "output_type": "stream",
          "text": [
            "Clipping input data to the valid range for imshow with RGB data ([0..1] for floats or [0..255] for integers).\n"
          ],
          "name": "stderr"
        },
        {
          "output_type": "stream",
          "text": [
            "Sandal\n",
            "Ankle boot\n",
            "Ankle boot\n"
          ],
          "name": "stdout"
        },
        {
          "output_type": "display_data",
          "data": {
            "image/png": "[encoded data removed]",
            "text/plain": [
              "<Figure size 432x288 with 1 Axes>"
            ]
          },
          "metadata": {
            "tags": [],
            "needs_background": "light"
          }
        }
      ]
    },
    {
      "cell_type": "code",
      "metadata": {
        "colab": {
          "base_uri": "https://localhost:8080/"
        },
        "id": "Rz0mH6ifXkU7",
        "outputId": "445d44e6-7fb4-48d2-d913-cf825b32a99c"
      },
      "source": [
        "def softmax(x):\r\n",
        "  return torch.exp(x) / torch.exp(x).sum()\r\n",
        "\r\n",
        "x = torch.tensor([1.0, 2.0, 3.0])\r\n",
        "\r\n",
        "print(softmax(x))\r\n",
        "print(softmax(x).sum())"
      ],
      "execution_count": null,
      "outputs": [
        {
          "output_type": "stream",
          "text": [
            "tensor([0.0900, 0.2447, 0.6652])\n",
            "tensor(1.)\n"
          ],
          "name": "stdout"
        }
      ]
    },
    {
      "cell_type": "markdown",
      "metadata": {
        "id": "gI6S-j5gZzx4"
      },
      "source": [
        "# Implementando un clasificador totalmente conectado\r\n",
        "\r\n",
        "---\r\n",
        "\r\n",
        "---\r\n",
        "\r\n",
        "\r\n",
        "\r\n"
      ]
    },
    {
      "cell_type": "code",
      "metadata": {
        "id": "P_C2ZM0L9BtZ"
      },
      "source": [
        "model = nn.Sequential(\r\n",
        "    nn.Linear(1 * 28 * 28, 392),\r\n",
        "    nn.Tanh(), #la función de activación de esas salidas es tahn\r\n",
        "    nn.Linear(392, 2),\r\n",
        "    nn.LogSoftmax(dim=1)\r\n",
        "    )\r\n",
        "#aplicando el principio de logaritmos para corrección de errores cambiamos a nn.LogSoftmax\r\n",
        "loss_function = nn.NLLLoss()\r\n"
      ],
      "execution_count": null,
      "outputs": []
    },
    {
      "cell_type": "code",
      "metadata": {
        "colab": {
          "base_uri": "https://localhost:8080/",
          "height": 300
        },
        "id": "JpXpiquD9Jao",
        "outputId": "93a0e363-4071-4eba-92b9-b2afb98b6e02"
      },
      "source": [
        "# volvemos a mandar la imagen\r\n",
        "img, label = data_set[100]\r\n",
        "plt.imshow(utils.make_grid(img).permute(1, 2, 0))\r\n",
        "#Me imprime un trouser, que es el que esta en la posición 100\r\n",
        "class_names[label]"
      ],
      "execution_count": null,
      "outputs": [
        {
          "output_type": "stream",
          "text": [
            "Clipping input data to the valid range for imshow with RGB data ([0..1] for floats or [0..255] for integers).\n"
          ],
          "name": "stderr"
        },
        {
          "output_type": "execute_result",
          "data": {
            "application/vnd.google.colaboratory.intrinsic+json": {
              "type": "string"
            },
            "text/plain": [
              "'Trouser'"
            ]
          },
          "metadata": {
            "tags": []
          },
          "execution_count": 402
        },
        {
          "output_type": "display_data",
          "data": {
            "image/png": "[encoded data removed]",
            "text/plain": [
              "<Figure size 432x288 with 1 Axes>"
            ]
          },
          "metadata": {
            "tags": [],
            "needs_background": "light"
          }
        }
      ]
    },
    {
      "cell_type": "code",
      "metadata": {
        "colab": {
          "base_uri": "https://localhost:8080/"
        },
        "id": "zJS3DBmN9bhE",
        "outputId": "01a2d9b6-916f-42a0-83b4-074a9cb7f781"
      },
      "source": [
        "out = model(img.view(-1).unsqueeze(0))\r\n",
        "print(out)\r\n",
        "print('->', class_names[label],'model:',class_names[index])"
      ],
      "execution_count": null,
      "outputs": [
        {
          "output_type": "stream",
          "text": [
            "tensor([[0.6917, 0.3083]], grad_fn=<SoftmaxBackward>)\n",
            "-> Trouser model: Trouser\n"
          ],
          "name": "stdout"
        }
      ]
    },
    {
      "cell_type": "code",
      "metadata": {
        "colab": {
          "base_uri": "https://localhost:8080/"
        },
        "id": "B1IYJJYT9qEI",
        "outputId": "c4fff93a-39e0-4d2f-f355-db19e89704ea"
      },
      "source": [
        "model = nn.Sequential(\r\n",
        "    nn.Linear(1 * 28* 28, 392),\r\n",
        "    nn.Tanh(),\r\n",
        "    nn.Linear(392, 2),\r\n",
        "    nn.LogSoftmax(dim=1)\r\n",
        "    )\r\n",
        "loss_function = nn.NLLLoss()\r\n",
        "\r\n",
        "optimizer = optim.SGD(model.parameters(), lr=0.01)\r\n",
        "n_epochs = 5 # definimos el número de iteraciones\r\n",
        "for epoch in range (n_epochs):\r\n",
        "  for img, label in data_set:\r\n",
        "    out = model(img.view(-1).unsqueeze(0))\r\n",
        "    loss = loss_function(out, torch.tensor([label]))\r\n",
        "\r\n",
        "    optimizer.zero_grad()\r\n",
        "    loss.backward()\r\n",
        "    optimizer.step()\r\n",
        "  print(\"Epoch: %d, Loss: %f\" % (epoch, float(loss)))"
      ],
      "execution_count": null,
      "outputs": [
        {
          "output_type": "stream",
          "text": [
            "Epoch: 0, Loss: 0.000103\n",
            "Epoch: 1, Loss: 0.000056\n",
            "Epoch: 2, Loss: 0.000049\n",
            "Epoch: 3, Loss: 0.000045\n",
            "Epoch: 4, Loss: 0.000028\n"
          ],
          "name": "stdout"
        }
      ]
    },
    {
      "cell_type": "code",
      "metadata": {
        "colab": {
          "base_uri": "https://localhost:8080/"
        },
        "id": "5P5rz8f6hlX3",
        "outputId": "9d992fa7-d6dd-4bf2-e256-81b3c261e93f"
      },
      "source": [
        "#Creamos un batch para el entrenamiento\r\n",
        "train_loader = torch.utils.data.DataLoader(data_set, batch_size=64, shuffle=True)\r\n",
        "\r\n",
        "model = nn.Sequential(  \r\n",
        "    nn.Linear(784,392),\r\n",
        "    nn.Tanh(),\r\n",
        "    nn.Linear(392,2),\r\n",
        "    nn.LogSoftmax(dim=1)\r\n",
        "    )\r\n",
        "\r\n",
        "optimizer = optim.SGD(model.parameters(), lr=0.01)\r\n",
        "\r\n",
        "loss_function = nn.NLLLoss()\r\n",
        "n_epochs = 200\r\n",
        "\r\n",
        "for epoch in range(n_epochs):\r\n",
        "  for imgs, labels in train_loader:\r\n",
        "    outputs = model(imgs.view(imgs.shape[0], -1))\r\n",
        "    loss = loss_function(outputs, labels)\r\n",
        "\r\n",
        "    optimizer.zero_grad()\r\n",
        "    loss.backward()\r\n",
        "    optimizer.step()\r\n",
        "print(\"Epoch: %d, Loss: %f\" % (epoch, float(loss)))"
      ],
      "execution_count": null,
      "outputs": [
        {
          "output_type": "stream",
          "text": [
            "Epoch: 199, Loss: 0.000076\n"
          ],
          "name": "stdout"
        }
      ]
    },
    {
      "cell_type": "code",
      "metadata": {
        "colab": {
          "base_uri": "https://localhost:8080/"
        },
        "id": "VM4Eqg7RaOE-",
        "outputId": "6eb9acc8-2401-4b4c-9500-fd8196ddcd97"
      },
      "source": [
        "# vamos a probar con nuestro validation loader y comprobamos contra el modelo\r\n",
        "val_loader = torch.utils.data.DataLoader(validation_set, batch_size=64, shuffle=True)\r\n",
        "\r\n",
        "correct = 0\r\n",
        "total = 0\r\n",
        "\r\n",
        "with torch.no_grad():\r\n",
        "  for imgs, labels in val_loader:\r\n",
        "    outputs = model(imgs.view(imgs.shape[0], -1))\r\n",
        "    _, predicted = torch.max(outputs, dim=1)\r\n",
        "    total += labels.shape[0]\r\n",
        "\r\n",
        "    correct += int((predicted == labels).sum())\r\n",
        "print(\"Accucacy: %f\" % (correct / total))"
      ],
      "execution_count": null,
      "outputs": [
        {
          "output_type": "stream",
          "text": [
            "Accucacy: 0.993500\n"
          ],
          "name": "stdout"
        }
      ]
    },
    {
      "cell_type": "code",
      "metadata": {
        "colab": {
          "base_uri": "https://localhost:8080/",
          "height": 299
        },
        "id": "7mWPWQtjaiot",
        "outputId": "136accb8-bf07-45c8-fd90-8eeca8f0e8f2"
      },
      "source": [
        "# comprobamos con imagenes al azar para ver que tan bien nos va\r\n",
        "img, label = validation_set[1]\r\n",
        "out = model(img.view(-1).unsqueeze(0))\r\n",
        "_, index = torch.max(out, dim=1)\r\n",
        "\r\n",
        "print('->: ',class_names[label],' model:', class_names[index])\r\n",
        "plt.imshow(utils.make_grid(img).permute(1, 2, 0))\r\n",
        "plt.show()"
      ],
      "execution_count": null,
      "outputs": [
        {
          "output_type": "stream",
          "text": [
            "Clipping input data to the valid range for imshow with RGB data ([0..1] for floats or [0..255] for integers).\n"
          ],
          "name": "stderr"
        },
        {
          "output_type": "stream",
          "text": [
            "->:  Trouser  model: Trouser\n"
          ],
          "name": "stdout"
        },
        {
          "output_type": "display_data",
          "data": {
            "image/png": "[encoded data removed]",
            "text/plain": [
              "<Figure size 432x288 with 1 Axes>"
            ]
          },
          "metadata": {
            "tags": [],
            "needs_background": "light"
          }
        }
      ]
    },
    {
      "cell_type": "markdown",
      "metadata": {
        "id": "MzK0ULMn_wRW"
      },
      "source": [
        "# Mejoras y limitaciones\r\n",
        "\r\n",
        "---\r\n",
        "\r\n",
        "---\r\n",
        "\r\n",
        "\r\n",
        "\r\n"
      ]
    },
    {
      "cell_type": "code",
      "metadata": {
        "colab": {
          "base_uri": "https://localhost:8080/"
        },
        "id": "kUD8AcWfbBM2",
        "outputId": "4788670d-7f8b-4d7e-884c-32ac272cf4de"
      },
      "source": [
        "train_loader = torch.utils.data.DataLoader(data_set, batch_size=32, shuffle=True)\r\n",
        "\r\n",
        "# cambiar el modelo para tener una más profunda red neuronal\r\n",
        "model = nn.Sequential(\r\n",
        "    nn.Linear(784,392),\r\n",
        "    nn.Tanh(),\r\n",
        "    nn.Linear(392,196),\r\n",
        "    nn.Tanh(),  \r\n",
        "    nn.Linear(196,98),\r\n",
        "    nn.Tanh(),  \r\n",
        "    nn.Linear(98,49),\r\n",
        "    nn.Tanh(),  \r\n",
        "    nn.Linear(49,2),\r\n",
        "    )\r\n",
        "# combina a LogSoftmax y NNloss para calcular la efectividad del modelo\r\n",
        "loss_function = nn.CrossEntropyLoss()\r\n",
        "optimizer = optim.SGD(model.parameters(), lr=0.01)\r\n",
        "n_epochs = 100\r\n",
        "\r\n",
        "for epoch in range(n_epochs):\r\n",
        "  for img, label in train_loader:\r\n",
        "    out = model(img.view(img.shape[0],-1))\r\n",
        "    loss = loss_function(out, label)\r\n",
        "\r\n",
        "    optimizer.zero_grad()\r\n",
        "    loss.backward()\r\n",
        "    optimizer.step()\r\n",
        "print(\"Epoch: %d, Loss: %f\" % (epoch, float(loss)))"
      ],
      "execution_count": null,
      "outputs": [
        {
          "output_type": "stream",
          "text": [
            "Epoch: 99, Loss: 0.000129\n"
          ],
          "name": "stdout"
        }
      ]
    },
    {
      "cell_type": "code",
      "metadata": {
        "colab": {
          "base_uri": "https://localhost:8080/"
        },
        "id": "-yIBvl60nkPd",
        "outputId": "e5848380-aa6f-490e-b20b-d60979a0a796"
      },
      "source": [
        "# validación de los datos contra el modelo \r\n",
        "val_loader = torch.utils.data.DataLoader(validation_set, batch_size=32, shuffle=False)\r\n",
        "\r\n",
        "correct = 0\r\n",
        "total = 0\r\n",
        "\r\n",
        "with torch.no_grad():\r\n",
        "  for imgs, labels in val_loader:\r\n",
        "    outputs = model(imgs.view(imgs.shape[0], -1))\r\n",
        "    _, predicted = torch.max(outputs, dim=1)\r\n",
        "    total += labels.shape[0]\r\n",
        "\r\n",
        "    correct += int((predicted == labels).sum())\r\n",
        "print(\"Accucacy: %f\" % (correct / total))"
      ],
      "execution_count": null,
      "outputs": [
        {
          "output_type": "stream",
          "text": [
            "Accucacy: 0.991000\n"
          ],
          "name": "stdout"
        }
      ]
    },
    {
      "cell_type": "code",
      "metadata": {
        "colab": {
          "base_uri": "https://localhost:8080/"
        },
        "id": "3r0snfb6ntp2",
        "outputId": "7853598a-331b-451a-be11-d3b517f2fc4f"
      },
      "source": [
        "# numero de parametros que se crearon en el modelo\r\n",
        "sum([p.numel() for p in model.parameters() if p.requires_grad == True])"
      ],
      "execution_count": null,
      "outputs": [
        {
          "output_type": "execute_result",
          "data": {
            "text/plain": [
              "409005"
            ]
          },
          "metadata": {
            "tags": []
          },
          "execution_count": 410
        }
      ]
    },
    {
      "cell_type": "code",
      "metadata": {
        "id": "KL4LIkO4dCBA",
        "colab": {
          "base_uri": "https://localhost:8080/",
          "height": 299
        },
        "outputId": "d16a1eac-b49f-4e4b-c49b-77ba8bf8de16"
      },
      "source": [
        "''' Comparación con una imagen'''\r\n",
        "url = 'https://curiousily.com/static/777e775e38042b84a1eb95a477ef0b25/46d70/correct.png'\r\n",
        "#https://mjgim.me/assets/img/fashion.png\r\n",
        "#https://pravarmahajan.github.io/assets/images/fashion-MNIST/example.png\r\n",
        "\r\n",
        "image = request.urlretrieve(url, 'test1.png')\r\n",
        "\r\n",
        "\r\n",
        "\r\n",
        "img = Image.open(image[0])\r\n",
        "\r\n",
        "preprocess = transforms.Compose([\r\n",
        "             transforms.RandomGrayscale(p=0),\r\n",
        "             transforms.Resize(15),\r\n",
        "             transforms.CenterCrop(14),\r\n",
        "             transforms.ToTensor(),\r\n",
        "             transforms.Normalize(\r\n",
        "                 mean=[0.5],\r\n",
        "                 std=[0.2]\r\n",
        "             )\r\n",
        "])\r\n",
        "#si acierta es un trouser\r\n",
        "img_t = preprocess(img)\r\n",
        "plt.imshow(img_t.permute(1, 2, 0))\r\n",
        "img_t.shape\r\n"
      ],
      "execution_count": null,
      "outputs": [
        {
          "output_type": "stream",
          "text": [
            "Clipping input data to the valid range for imshow with RGB data ([0..1] for floats or [0..255] for integers).\n"
          ],
          "name": "stderr"
        },
        {
          "output_type": "execute_result",
          "data": {
            "text/plain": [
              "torch.Size([4, 14, 14])"
            ]
          },
          "metadata": {
            "tags": []
          },
          "execution_count": 437
        },
        {
          "output_type": "display_data",
          "data": {
            "image/png": "[encoded data removed]",
            "text/plain": [
              "<Figure size 432x288 with 1 Axes>"
            ]
          },
          "metadata": {
            "tags": [],
            "needs_background": "light"
          }
        }
      ]
    },
    {
      "cell_type": "code",
      "metadata": {
        "colab": {
          "base_uri": "https://localhost:8080/"
        },
        "id": "wUcLxupMnjdO",
        "outputId": "b1751b69-5376-42db-9c9d-4f709fa94e1a"
      },
      "source": [
        "out = model(img_t.view(1, -1))\r\n",
        "_, index = torch.max(out,dim=1)\r\n",
        "\r\n",
        "print(classes[index])"
      ],
      "execution_count": null,
      "outputs": [
        {
          "output_type": "stream",
          "text": [
            "Trouser\n"
          ],
          "name": "stdout"
        }
      ]
    },
    {
      "cell_type": "code",
      "metadata": {
        "colab": {
          "base_uri": "https://localhost:8080/",
          "height": 299
        },
        "id": "lr342uEQpgU3",
        "outputId": "35c82a71-304a-459f-d50f-10d4da9c6e73"
      },
      "source": [
        "url = 'https://mjgim.me/assets/img/fashion.png'\r\n",
        "image = request.urlretrieve(url, 'test1.png')\r\n",
        "\r\n",
        "\r\n",
        "\r\n",
        "img = Image.open(image[0])\r\n",
        "\r\n",
        "preprocess = transforms.Compose([\r\n",
        "             transforms.RandomGrayscale(p=0),\r\n",
        "             transforms.Resize(19),\r\n",
        "             transforms.CenterCrop(14),\r\n",
        "             transforms.ToTensor(),\r\n",
        "             transforms.Normalize(\r\n",
        "                 mean=[0.5],\r\n",
        "                 std=[0.5]\r\n",
        "             )\r\n",
        "])\r\n",
        "img_t = preprocess(img)\r\n",
        "plt.imshow(img_t.permute(1, 2, 0))\r\n",
        "img_t.shape\r\n",
        "out = model(img_t.view(1, -1))\r\n",
        "_, index = torch.max(out,dim=1)\r\n",
        "#Si acierta es un dress\r\n",
        "print(classes[index])"
      ],
      "execution_count": null,
      "outputs": [
        {
          "output_type": "stream",
          "text": [
            "Clipping input data to the valid range for imshow with RGB data ([0..1] for floats or [0..255] for integers).\n"
          ],
          "name": "stderr"
        },
        {
          "output_type": "stream",
          "text": [
            "Dress\n"
          ],
          "name": "stdout"
        },
        {
          "output_type": "display_data",
          "data": {
            "image/png": "[encoded data removed]",
            "text/plain": [
              "<Figure size 432x288 with 1 Axes>"
            ]
          },
          "metadata": {
            "tags": [],
            "needs_background": "light"
          }
        }
      ]
    },
    {
      "cell_type": "code",
      "metadata": {
        "colab": {
          "base_uri": "https://localhost:8080/",
          "height": 299
        },
        "id": "rsjA0NKopsGm",
        "outputId": "0dcf84b1-1a85-4e4c-e8fd-f3458163e7e7"
      },
      "source": [
        "''' Comparación con una imagen engañosa'''\r\n",
        "url = 'https://pravarmahajan.github.io/assets/images/fashion-MNIST/example.png'\r\n",
        "image = request.urlretrieve(url, 'test1.png')\r\n",
        "\r\n",
        "\r\n",
        "\r\n",
        "img = Image.open(image[0])\r\n",
        "\r\n",
        "preprocess = transforms.Compose([\r\n",
        "             transforms.RandomGrayscale(p=0),\r\n",
        "             transforms.Resize(19),\r\n",
        "             transforms.CenterCrop(14),\r\n",
        "             transforms.ToTensor(),\r\n",
        "             transforms.Normalize(\r\n",
        "                 mean=[0.5],\r\n",
        "                 std=[0.5]\r\n",
        "             )\r\n",
        "])\r\n",
        "img_t = preprocess(img)\r\n",
        "plt.imshow(img_t.permute(1, 2, 0))\r\n",
        "img_t.shape\r\n",
        "out = model(img_t.view(1, -1))\r\n",
        "_, index = torch.max(out,dim=1)\r\n",
        "#No acierta me dice que es un trouser pero es un Ankle boot\r\n",
        "print(classes[index])"
      ],
      "execution_count": null,
      "outputs": [
        {
          "output_type": "stream",
          "text": [
            "Clipping input data to the valid range for imshow with RGB data ([0..1] for floats or [0..255] for integers).\n"
          ],
          "name": "stderr"
        },
        {
          "output_type": "stream",
          "text": [
            "Trouser\n"
          ],
          "name": "stdout"
        },
        {
          "output_type": "display_data",
          "data": {
            "image/png": "[encoded data removed]",
            "text/plain": [
              "<Figure size 432x288 with 1 Axes>"
            ]
          },
          "metadata": {
            "tags": [],
            "needs_background": "light"
          }
        }
      ]
    }
  ]
}